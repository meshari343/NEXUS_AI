{
 "cells": [
  {
   "cell_type": "code",
   "execution_count": 4,
   "id": "bd1121ee",
   "metadata": {
    "scrolled": true
   },
   "outputs": [
    {
     "name": "stdout",
     "output_type": "stream",
     "text": [
      "Google Maps Scrapper\n",
      "(<class 'selenium.common.exceptions.TimeoutException'>, TimeoutException('', None, ['Backtrace:', '\\tOrdinal0 [0x00B5B8F3+2406643]', '\\tOrdinal0 [0x00AEAF31+1945393]', '\\tOrdinal0 [0x009DC748+837448]', '\\tOrdinal0 [0x00A092E0+1020640]', '\\tOrdinal0 [0x00A0957B+1021307]', '\\tOrdinal0 [0x00A36372+1205106]', '\\tOrdinal0 [0x00A242C4+1131204]', '\\tOrdinal0 [0x00A34682+1197698]', '\\tOrdinal0 [0x00A24096+1130646]', '\\tOrdinal0 [0x009FE636+976438]', '\\tOrdinal0 [0x009FF546+980294]', '\\tGetHandleVerifier [0x00DC9612+2498066]', '\\tGetHandleVerifier [0x00DBC920+2445600]', '\\tGetHandleVerifier [0x00BF4F2A+579370]', '\\tGetHandleVerifier [0x00BF3D36+574774]', '\\tOrdinal0 [0x00AF1C0B+1973259]', '\\tOrdinal0 [0x00AF6688+1992328]', '\\tOrdinal0 [0x00AF6775+1992565]', '\\tOrdinal0 [0x00AFF8D1+2029777]', '\\tBaseThreadInitThunk [0x7741FA29+25]', '\\tRtlGetAppContainerNamedObjectPath [0x77857A7E+286]', '\\tRtlGetAppContainerNamedObjectPath [0x77857A4E+238]', '']), <traceback object at 0x000002A0C1A70200>)\n"
     ]
    }
   ],
   "source": [
    "import Scrapper.myScrapper as myScrapper\n",
    "\n",
    "## chromedriver PATH\n",
    "PATH  =  'C:\\Program Files (x86)\\chromedriver.exe'\n",
    "\n",
    "scrapper  =  myScrapper.Scrapper(PATH)\n",
    "\n",
    "data  =  scrapper.read_google_maps_reviews(URL='https://g.page/Zamakan_sa?share')"
   ]
  },
  {
   "cell_type": "code",
   "execution_count": null,
   "id": "60d79cbf",
   "metadata": {},
   "outputs": [],
   "source": []
  }
 ],
 "metadata": {
  "kernelspec": {
   "display_name": "Python 3 (ipykernel)",
   "language": "python",
   "name": "python3"
  },
  "language_info": {
   "codemirror_mode": {
    "name": "ipython",
    "version": 3
   },
   "file_extension": ".py",
   "mimetype": "text/x-python",
   "name": "python",
   "nbconvert_exporter": "python",
   "pygments_lexer": "ipython3",
   "version": "3.10.4"
  }
 },
 "nbformat": 4,
 "nbformat_minor": 5
}
