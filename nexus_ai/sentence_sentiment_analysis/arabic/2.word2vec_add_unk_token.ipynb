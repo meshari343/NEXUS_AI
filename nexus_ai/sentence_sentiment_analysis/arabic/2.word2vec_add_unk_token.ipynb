{
 "cells": [
  {
   "cell_type": "code",
   "execution_count": 2,
   "metadata": {},
   "outputs": [
    {
     "name": "stdout",
     "output_type": "stream",
     "text": [
      "length of the pretrained word2vec before adding unknown token is 662109\n"
     ]
    },
    {
     "name": "stderr",
     "output_type": "stream",
     "text": [
      "c:\\Users\\meshari\\anaconda3\\envs\\Graduation-Project\\lib\\site-packages\\gensim\\models\\keyedvectors.py:552: UserWarning: Adding single vectors to a KeyedVectors which grows by one each time can be costly. Consider adding in batches or preallocating to the required size.\n",
      "  warnings.warn(\n"
     ]
    },
    {
     "name": "stdout",
     "output_type": "stream",
     "text": [
      "length of the pretrained word2vec after adding unknown token is 662110\n",
      "index of the new unknown token is 662109\n"
     ]
    }
   ],
   "source": [
    "import gensim\n",
    "model = gensim.models.Word2Vec.load('word2vec/full_grams_cbow_300_wiki.mdl')\n",
    "unk_vector = model.wv.vectors.mean(axis=0)\n",
    "print(f'length of the pretrained word2vec before adding unknown token is {model.wv.vectors.shape[0]}')\n",
    "model.wv.add_vector('UNK', unk_vector)\n",
    "print(f'length of the pretrained word2vec after adding unknown token is {model.wv.vectors.shape[0]}')\n",
    "unk_idx = model.wv.key_to_index['UNK']\n",
    "print(f'index of the new unknown token is {(unk_idx)}')\n",
    "model.save('word2vec/word2vec.model')"
   ]
  },
  {
   "cell_type": "markdown",
   "metadata": {},
   "source": [
    "let's make sure that the model was saved correctly"
   ]
  },
  {
   "cell_type": "code",
   "execution_count": 5,
   "metadata": {},
   "outputs": [
    {
     "name": "stdout",
     "output_type": "stream",
     "text": [
      "length of new word2vec 662110\n",
      "new word2vec model: index of the new unknown token is 662109\n"
     ]
    }
   ],
   "source": [
    "model =gensim.models.Word2Vec.load('word2vec/word2vec.model')\n",
    "print(f'length of new word2vec {model.wv.vectors.shape[0]}')\n",
    "print(f'new word2vec model: index of the new unknown token is {(unk_idx)}')"
   ]
  },
  {
   "cell_type": "code",
   "execution_count": null,
   "metadata": {},
   "outputs": [],
   "source": []
  }
 ],
 "metadata": {
  "interpreter": {
   "hash": "0ca738696e74c3b582319100ac25d026cf0c528d8decfe2c9d2d27159d6836ba"
  },
  "kernelspec": {
   "display_name": "Python 3.10.4 ('Graduation-Project')",
   "language": "python",
   "name": "python3"
  },
  "language_info": {
   "codemirror_mode": {
    "name": "ipython",
    "version": 3
   },
   "file_extension": ".py",
   "mimetype": "text/x-python",
   "name": "python",
   "nbconvert_exporter": "python",
   "pygments_lexer": "ipython3",
   "version": "3.10.4"
  },
  "orig_nbformat": 4
 },
 "nbformat": 4,
 "nbformat_minor": 2
}
