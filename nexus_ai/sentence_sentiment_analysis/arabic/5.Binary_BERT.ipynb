{
 "cells": [
  {
   "cell_type": "code",
   "execution_count": 1,
   "metadata": {},
   "outputs": [],
   "source": [
    "import random\n",
    "import time\n",
    "import pickle\n",
    "import numpy as np\n",
    "import pandas as pd\n",
    "from sklearn.metrics import accuracy_score, roc_curve, auc\n",
    "import matplotlib.pyplot as plt\n",
    "from camel_tools.utils.normalize import normalize_unicode, normalize_alef_maksura_ar, normalize_alef_ar, normalize_teh_marbuta_ar\n",
    "from camel_tools.utils.dediac import dediac_ar\n",
    "import torch\n",
    "from torch.utils.data import TensorDataset, DataLoader, RandomSampler, SequentialSampler\n",
    "import torch.nn as nn\n",
    "import torch.nn.functional as F\n",
    "from transformers import BertModel, BertTokenizer, get_linear_schedule_with_warmup\n",
    "# costume modules\n",
    "from nexus_ai.sentence_sentiment_analysis.preprocessing import train_test_split\n"
   ]
  },
  {
   "cell_type": "code",
   "execution_count": 2,
   "metadata": {},
   "outputs": [
    {
     "name": "stdout",
     "output_type": "stream",
     "text": [
      "There are 1 GPU(s) available.\n",
      "Device name: NVIDIA GeForce RTX 3070\n"
     ]
    }
   ],
   "source": [
    "if torch.cuda.is_available():       \n",
    "    device = torch.device(\"cuda\")\n",
    "    print(f'There are {torch.cuda.device_count()} GPU(s) available.')\n",
    "    print('Device name:', torch.cuda.get_device_name(0))\n",
    "\n",
    "else:\n",
    "    print('No GPU available, using the CPU instead.')\n",
    "    device = torch.device(\"cpu\")"
   ]
  },
  {
   "cell_type": "code",
   "execution_count": 3,
   "metadata": {},
   "outputs": [
    {
     "data": {
      "text/html": [
       "<div>\n",
       "<style scoped>\n",
       "    .dataframe tbody tr th:only-of-type {\n",
       "        vertical-align: middle;\n",
       "    }\n",
       "\n",
       "    .dataframe tbody tr th {\n",
       "        vertical-align: top;\n",
       "    }\n",
       "\n",
       "    .dataframe thead th {\n",
       "        text-align: right;\n",
       "    }\n",
       "</style>\n",
       "<table border=\"1\" class=\"dataframe\">\n",
       "  <thead>\n",
       "    <tr style=\"text-align: right;\">\n",
       "      <th></th>\n",
       "      <th>label</th>\n",
       "      <th>text</th>\n",
       "    </tr>\n",
       "  </thead>\n",
       "  <tbody>\n",
       "    <tr>\n",
       "      <th>0</th>\n",
       "      <td>Positive</td>\n",
       "      <td>ممتاز نوعا ما . النظافة والموقع والتجهيز والشا...</td>\n",
       "    </tr>\n",
       "    <tr>\n",
       "      <th>1</th>\n",
       "      <td>Positive</td>\n",
       "      <td>أحد أسباب نجاح الإمارات أن كل شخص في هذه الدول...</td>\n",
       "    </tr>\n",
       "    <tr>\n",
       "      <th>2</th>\n",
       "      <td>Positive</td>\n",
       "      <td>هادفة .. وقوية. تنقلك من صخب شوارع القاهرة الى...</td>\n",
       "    </tr>\n",
       "    <tr>\n",
       "      <th>3</th>\n",
       "      <td>Positive</td>\n",
       "      <td>خلصنا .. مبدئيا اللي مستني ابهار زي الفيل الاز...</td>\n",
       "    </tr>\n",
       "    <tr>\n",
       "      <th>4</th>\n",
       "      <td>Positive</td>\n",
       "      <td>ياسات جلوريا جزء لا يتجزأ من دبي . فندق متكامل...</td>\n",
       "    </tr>\n",
       "  </tbody>\n",
       "</table>\n",
       "</div>"
      ],
      "text/plain": [
       "      label                                               text\n",
       "0  Positive  ممتاز نوعا ما . النظافة والموقع والتجهيز والشا...\n",
       "1  Positive  أحد أسباب نجاح الإمارات أن كل شخص في هذه الدول...\n",
       "2  Positive  هادفة .. وقوية. تنقلك من صخب شوارع القاهرة الى...\n",
       "3  Positive  خلصنا .. مبدئيا اللي مستني ابهار زي الفيل الاز...\n",
       "4  Positive  ياسات جلوريا جزء لا يتجزأ من دبي . فندق متكامل..."
      ]
     },
     "execution_count": 3,
     "metadata": {},
     "output_type": "execute_result"
    }
   ],
   "source": [
    "df = pd.read_csv('dataset/ar_reviews_100k.tsv',sep='\\t')\n",
    "df.head()"
   ]
  },
  {
   "cell_type": "code",
   "execution_count": 4,
   "metadata": {},
   "outputs": [
    {
     "name": "stdout",
     "output_type": "stream",
     "text": [
      "number of null values \n",
      "label    0\n",
      "text     0\n",
      "dtype: int64\n",
      "number of duplicate values is 0\n"
     ]
    }
   ],
   "source": [
    "print(f'number of null values \\n{df.isnull().sum()}')\n",
    "print(f'number of duplicate values is {df.duplicated().sum()}')"
   ]
  },
  {
   "cell_type": "code",
   "execution_count": 5,
   "metadata": {},
   "outputs": [
    {
     "name": "stdout",
     "output_type": "stream",
     "text": [
      "labels ['Positive' 'Mixed' 'Negative']\n"
     ]
    }
   ],
   "source": [
    "labels = df['label'].unique()\n",
    "print(f'labels {labels}')"
   ]
  },
  {
   "cell_type": "markdown",
   "metadata": {},
   "source": [
    "let's drop Mixed"
   ]
  },
  {
   "cell_type": "code",
   "execution_count": 6,
   "metadata": {},
   "outputs": [
    {
     "name": "stdout",
     "output_type": "stream",
     "text": [
      "dataset shape before transforming: (99999, 2)\n",
      "dataset shape after transforming: (66666, 2)\n",
      "labels ['Positive' 'Negative']\n"
     ]
    }
   ],
   "source": [
    "print(f'dataset shape before transforming: {df.shape}')\n",
    "\n",
    "df.drop(df[df['label']=='Mixed'].index, axis=0, inplace=True)\n",
    "\n",
    "print(f'dataset shape after transforming: {df.shape}')\n",
    "labels = df['label'].unique()\n",
    "print(f'labels {labels}')"
   ]
  },
  {
   "cell_type": "code",
   "execution_count": 7,
   "metadata": {},
   "outputs": [
    {
     "name": "stdout",
     "output_type": "stream",
     "text": [
      "Positive precentage 33333\n",
      "Negative precentage 33333\n"
     ]
    }
   ],
   "source": [
    "pos_prec = df[df['label'] == 'Positive'].shape[0]\n",
    "neg_prec = df[df['label'] == 'Negative'].shape[0]\n",
    "print(f'Positive precentage {pos_prec}')\n",
    "print(f'Negative precentage {neg_prec}')"
   ]
  },
  {
   "cell_type": "code",
   "execution_count": 8,
   "metadata": {},
   "outputs": [
    {
     "name": "stdout",
     "output_type": "stream",
     "text": [
      "encoded_labels class distribution:\n",
      "(0, 33333)\n",
      "(1, 33333)\n"
     ]
    }
   ],
   "source": [
    "labels = df['label'].tolist()\n",
    "encoded_labels = []\n",
    "for label in labels:\n",
    "    if label == 'Positive':\n",
    "        encoded_labels.append(1)\n",
    "    elif label == 'Negative':\n",
    "        encoded_labels.append(0) \n",
    "\n",
    "unique, counts = np.unique(encoded_labels, return_counts=True)\n",
    "distribution = dict(zip(unique, counts))\n",
    "print('encoded_labels class distribution:')\n",
    "for item in distribution.items():\n",
    "    print(item)"
   ]
  },
  {
   "cell_type": "code",
   "execution_count": 9,
   "metadata": {},
   "outputs": [
    {
     "name": "stdout",
     "output_type": "stream",
     "text": [
      "make sure the classes (labels) are sorted to have a balanced splits\n"
     ]
    }
   ],
   "source": [
    "# train_test_split is a costume function for balanced data you can view the details in the preprocessing module file \n",
    "train_x, validate_x, test_x, train_y, validate_y, test_y = train_test_split(df['text'].to_numpy(), encoded_labels, numclasses=2, train_frac=0.8, balanced=True)"
   ]
  },
  {
   "cell_type": "code",
   "execution_count": 10,
   "metadata": {},
   "outputs": [
    {
     "name": "stdout",
     "output_type": "stream",
     "text": [
      "train_y class distribution:\n",
      "(0, 26666)\n",
      "(1, 26667)\n",
      "validate_y class distribution:\n",
      "(0, 3333)\n",
      "(1, 3333)\n",
      "test_y class distribution:\n",
      "(0, 3333)\n",
      "(1, 3333)\n"
     ]
    }
   ],
   "source": [
    "unique, counts = np.unique(train_y, return_counts=True)\n",
    "distribution = dict(zip(unique, counts))\n",
    "print('train_y class distribution:')\n",
    "for item in distribution.items():\n",
    "    print(item)\n",
    "\n",
    "unique, counts = np.unique(validate_y, return_counts=True)\n",
    "distribution = dict(zip(unique, counts))\n",
    "print('validate_y class distribution:')\n",
    "for item in distribution.items():\n",
    "    print(item)\n",
    "\n",
    "unique, counts = np.unique(test_y, return_counts=True)\n",
    "distribution = dict(zip(unique, counts))\n",
    "print('test_y class distribution:')\n",
    "for item in distribution.items():\n",
    "    print(item)"
   ]
  },
  {
   "cell_type": "markdown",
   "metadata": {},
   "source": [
    "the dataset is balanced which is very good"
   ]
  },
  {
   "cell_type": "markdown",
   "metadata": {},
   "source": [
    "now let's use the camel tools to preproccess the data"
   ]
  },
  {
   "cell_type": "code",
   "execution_count": 11,
   "metadata": {},
   "outputs": [],
   "source": [
    "def text_preprocessing(text):\n",
    "    \n",
    "    text = normalize_unicode(text)\n",
    "    # Normalizing alef variants to (ا)\n",
    "    text = normalize_alef_ar(text)\n",
    "    # Normalizing alef maksura (ى) to yeh (ي)\n",
    "    text = normalize_alef_maksura_ar(text)\n",
    "    # Normalizing teh marbuta (ة) to heh (ه)\n",
    "    text = normalize_teh_marbuta_ar(text)\n",
    "    # removing Arabic diacritical marks\n",
    "    text = dediac_ar(text)\n",
    "    \n",
    "    return text"
   ]
  },
  {
   "cell_type": "code",
   "execution_count": 12,
   "metadata": {},
   "outputs": [
    {
     "name": "stdout",
     "output_type": "stream",
     "text": [
      "Original:  أحد أسباب نجاح الإمارات أن كل شخص في هذه الدولة يعشق ترابها. نحن نحب الإمارات. ومضات من فكر. نصائح لدولة تطمح بالصفوف الأولى و قائد لا يقبل إلا براحة شعبه وتوفر كل سب العيش الكريم. حكم و مواقف ونصائح لكل فرد فينا ليس بمجرد كتاب سياسي كما كنت اعتقد. يستحق القراءة مرات كثيرة\n",
      "Processed:  احد اسباب نجاح الامارات ان كل شخص في هذه الدوله يعشق ترابها. نحن نحب الامارات. ومضات من فكر. نصائح لدوله تطمح بالصفوف الاولي و قائد لا يقبل الا براحه شعبه وتوفر كل سب العيش الكريم. حكم و مواقف ونصائح لكل فرد فينا ليس بمجرد كتاب سياسي كما كنت اعتقد. يستحق القراءه مرات كثيره\n"
     ]
    }
   ],
   "source": [
    "# Print sentence 0\n",
    "print('Original: ', train_x[1])\n",
    "print('Processed: ', text_preprocessing(train_x[1]))"
   ]
  },
  {
   "cell_type": "code",
   "execution_count": 13,
   "metadata": {},
   "outputs": [],
   "source": [
    "# Load the BERT tokenizer\n",
    "tokenizer = BertTokenizer.from_pretrained('CAMeL-Lab/bert-base-arabic-camelbert-msa')"
   ]
  },
  {
   "cell_type": "code",
   "execution_count": 14,
   "metadata": {},
   "outputs": [],
   "source": [
    "# Create a function to tokenize a set of texts\n",
    "def preprocessing_for_bert(data):\n",
    "    \"\"\"Perform required preprocessing steps for pretrained BERT.\n",
    "    @param    data (np.array): Array of texts to be processed.\n",
    "    @return   input_ids (torch.Tensor): Tensor of token ids to be fed to a model.\n",
    "    @return   attention_masks (torch.Tensor): Tensor of indices specifying which\n",
    "                  tokens should be attended to by the model.\n",
    "    \"\"\"\n",
    "    # Create empty lists to store outputs\n",
    "    input_ids = []\n",
    "    attention_masks = []\n",
    "\n",
    "    # For every sentence...\n",
    "    for sent in data:\n",
    "        # `encode_plus` will:\n",
    "        #    (1) Tokenize the sentence\n",
    "        #    (2) Add the `[CLS]` and `[SEP]` token to the start and end\n",
    "        #    (3) Truncate/Pad sentence to max length\n",
    "        #    (4) Map tokens to their IDs\n",
    "        #    (5) Create attention mask\n",
    "        #    (6) Return a dictionary of outputs\n",
    "        encoded_sent = tokenizer.encode_plus(\n",
    "            text=text_preprocessing(sent),  # Preprocess sentence\n",
    "            add_special_tokens=True,        # Add `[CLS]` and `[SEP]`\n",
    "            truncation=True,\n",
    "            max_length=MAX_LEN,             # Max length to truncate/pad\n",
    "            padding='max_length',           # Pad sentence to max length\n",
    "            #return_tensors='pt',           # Return PyTorch tensor\n",
    "            return_attention_mask=True      # Return attention mask\n",
    "            )\n",
    "        \n",
    "        # Add the outputs to the lists\n",
    "        input_ids.append(encoded_sent.get('input_ids'))\n",
    "        attention_masks.append(encoded_sent.get('attention_mask'))\n",
    "\n",
    "    # Convert lists to tensors\n",
    "    input_ids = torch.tensor(input_ids)\n",
    "    attention_masks = torch.tensor(attention_masks)\n",
    "\n",
    "    return input_ids, attention_masks"
   ]
  },
  {
   "cell_type": "code",
   "execution_count": 15,
   "metadata": {},
   "outputs": [
    {
     "name": "stdout",
     "output_type": "stream",
     "text": [
      "Max length: 2675\n",
      "Avarage length: 79.33831338313384\n"
     ]
    }
   ],
   "source": [
    "# Encode our concatenated data\n",
    "encoded_reviews = [tokenizer.encode(review, add_special_tokens=True) for review in df['text'].to_numpy()]\n",
    "\n",
    "# list contain each review length\n",
    "reviews_lengths = [len(review) for review in encoded_reviews]\n",
    "# Find the maximum length\n",
    "max_len = max(reviews_lengths)\n",
    "# Find the Avarage length\n",
    "avg_len = sum(reviews_lengths) / len(reviews_lengths)\n",
    "\n",
    "print(f'Max length: {max_len}')\n",
    "print(f'Avarage length: {avg_len}')"
   ]
  },
  {
   "cell_type": "code",
   "execution_count": 16,
   "metadata": {},
   "outputs": [
    {
     "name": "stdout",
     "output_type": "stream",
     "text": [
      "Original:  ممتاز نوعا ما . النظافة والموقع والتجهيز والشاطيء. المطعم\n",
      "Token IDs:  [2, 9513, 15831, 1972, 18, 6418, 4484, 15999, 7752, 2421, 1008, 2861, 23141, 1053, 18, 20852, 3, 0, 0, 0, 0, 0, 0, 0, 0, 0, 0, 0, 0, 0, 0, 0, 0, 0, 0, 0, 0, 0, 0, 0, 0, 0, 0, 0, 0, 0, 0, 0, 0, 0, 0, 0, 0, 0, 0, 0, 0, 0, 0, 0, 0, 0, 0, 0, 0, 0, 0, 0, 0, 0, 0, 0, 0, 0, 0, 0, 0, 0, 0, 0, 0, 0, 0, 0, 0, 0, 0, 0, 0, 0, 0, 0, 0, 0, 0, 0, 0, 0, 0, 0, 0, 0, 0, 0, 0, 0, 0, 0, 0, 0, 0, 0, 0, 0, 0, 0, 0, 0, 0, 0, 0, 0, 0, 0, 0, 0, 0, 0]\n",
      "Attention Masks:  [1, 1, 1, 1, 1, 1, 1, 1, 1, 1, 1, 1, 1, 1, 1, 1, 1, 0, 0, 0, 0, 0, 0, 0, 0, 0, 0, 0, 0, 0, 0, 0, 0, 0, 0, 0, 0, 0, 0, 0, 0, 0, 0, 0, 0, 0, 0, 0, 0, 0, 0, 0, 0, 0, 0, 0, 0, 0, 0, 0, 0, 0, 0, 0, 0, 0, 0, 0, 0, 0, 0, 0, 0, 0, 0, 0, 0, 0, 0, 0, 0, 0, 0, 0, 0, 0, 0, 0, 0, 0, 0, 0, 0, 0, 0, 0, 0, 0, 0, 0, 0, 0, 0, 0, 0, 0, 0, 0, 0, 0, 0, 0, 0, 0, 0, 0, 0, 0, 0, 0, 0, 0, 0, 0, 0, 0, 0, 0]\n",
      "Tokenizing data...\n"
     ]
    }
   ],
   "source": [
    "# Specify `MAX_LEN`\n",
    "MAX_LEN = 128\n",
    "\n",
    "# Print sentence 0 and its encoded token ids\n",
    "token_ids = list(preprocessing_for_bert([train_x[0]])[0].squeeze().numpy())\n",
    "attention_masks = list(preprocessing_for_bert([train_x[0]])[1].squeeze().numpy())\n",
    "print('Original: ', train_x[0])\n",
    "print('Token IDs: ', token_ids)\n",
    "print('Attention Masks: ', attention_masks)\n",
    "\n",
    "# Run function `preprocessing_for_bert` on the train set and the validation set\n",
    "print('Tokenizing data...')\n",
    "train_inputs, train_masks = preprocessing_for_bert(train_x)\n",
    "val_inputs, val_masks = preprocessing_for_bert(validate_x)"
   ]
  },
  {
   "cell_type": "code",
   "execution_count": 17,
   "metadata": {},
   "outputs": [],
   "source": [
    "# Convert other data types to torch.Tensor\n",
    "train_labels = torch.tensor(train_y)\n",
    "val_labels = torch.tensor(validate_y)\n",
    "\n",
    "# For fine-tuning BERT, the authors recommend a batch size of 16 or 32.\n",
    "batch_size = 32\n",
    "\n",
    "# Create the DataLoader for our training set\n",
    "train_data = TensorDataset(train_inputs, train_masks, train_labels)\n",
    "train_sampler = RandomSampler(train_data)\n",
    "train_dataloader = DataLoader(train_data, sampler=train_sampler, batch_size=batch_size)\n",
    "\n",
    "# Create the DataLoader for our validation set\n",
    "val_data = TensorDataset(val_inputs, val_masks, val_labels)\n",
    "val_sampler = SequentialSampler(val_data)\n",
    "val_dataloader = DataLoader(val_data, sampler=val_sampler, batch_size=batch_size)"
   ]
  },
  {
   "cell_type": "code",
   "execution_count": 18,
   "metadata": {},
   "outputs": [],
   "source": [
    "# Create the BertClassfier class\n",
    "class BertClassifier(nn.Module):\n",
    "    \"\"\"Bert Model for Classification Tasks.\n",
    "    \"\"\"\n",
    "    def __init__(self, freeze_bert=False, bert_type='base'):\n",
    "        \"\"\"\n",
    "        @param    bert: a BertModel object\n",
    "        @param    classifier: a torch.nn.Module classifier\n",
    "        @param    freeze_bert (bool): Set `False` to fine-tune the BERT model\n",
    "        \"\"\"\n",
    "        super(BertClassifier, self).__init__()\n",
    "        # Specify hidden size of BERT, hidden size of our classifier, and number of labels\n",
    "        D_in = 768 if bert_type == 'base' else 1024\n",
    "        H, D_out = 50, 2\n",
    "\n",
    "        # Instantiate BERT model\n",
    "        self.bert = BertModel.from_pretrained('CAMeL-Lab/bert-base-arabic-camelbert-msa')\n",
    "\n",
    "        # Instantiate an one-layer feed-forward classifier\n",
    "        self.classifier = nn.Sequential(\n",
    "            nn.Linear(D_in, H),\n",
    "            nn.ReLU(),\n",
    "            #nn.Dropout(0.5),\n",
    "            nn.Linear(H, D_out)\n",
    "        )\n",
    "\n",
    "        # Freeze the BERT model\n",
    "        if freeze_bert:\n",
    "            for param in self.bert.parameters():\n",
    "                param.requires_grad = False\n",
    "        \n",
    "    def forward(self, input_ids, attention_mask):\n",
    "        \"\"\"\n",
    "        Feed input to BERT and the classifier to compute logits.\n",
    "        @param    input_ids (torch.Tensor): an input tensor with shape (batch_size,\n",
    "                      max_length)\n",
    "        @param    attention_mask (torch.Tensor): a tensor that hold attention mask\n",
    "                      information with shape (batch_size, max_length)\n",
    "        @return   logits (torch.Tensor): an output tensor with shape (batch_size,\n",
    "                      num_labels)\n",
    "        \"\"\"\n",
    "        # Feed input to BERT\n",
    "        outputs = self.bert(input_ids=input_ids,\n",
    "                            attention_mask=attention_mask)\n",
    "        \n",
    "        # Extract the last hidden state of the token `[CLS]` for classification task\n",
    "        last_hidden_state_cls = outputs[0][:, 0, :]\n",
    "\n",
    "        # Feed input to classifier to compute logits\n",
    "        logits = self.classifier(last_hidden_state_cls)\n",
    "\n",
    "        return logits"
   ]
  },
  {
   "cell_type": "code",
   "execution_count": 19,
   "metadata": {},
   "outputs": [],
   "source": [
    "def initialize_model(epochs=4, bert_type='base'):\n",
    "    \"\"\"Initialize the Bert Classifier, the optimizer and the learning rate scheduler.\n",
    "    \"\"\"\n",
    "    # Instantiate Bert Classifier\n",
    "    bert_classifier = BertClassifier(freeze_bert=False, bert_type=bert_type)\n",
    "\n",
    "    # Tell PyTorch to run the model on GPU\n",
    "    bert_classifier.to(device)\n",
    "\n",
    "    # Create the optimizer\n",
    "    optimizer = torch.optim.AdamW(bert_classifier.parameters(),\n",
    "                      lr=3e-5,    # Default learning rate\n",
    "                      eps=1e-8    # Default epsilon value\n",
    "                      )\n",
    "\n",
    "    # Total number of training steps\n",
    "    total_steps = len(train_dataloader) * epochs\n",
    "\n",
    "    # Set up the learning rate scheduler\n",
    "    scheduler = get_linear_schedule_with_warmup(optimizer,\n",
    "                                                num_warmup_steps=0, # Default value\n",
    "                                                num_training_steps=total_steps)\n",
    "    return bert_classifier, optimizer, scheduler"
   ]
  },
  {
   "cell_type": "code",
   "execution_count": 20,
   "metadata": {},
   "outputs": [],
   "source": [
    "# Specify loss function\n",
    "loss_fn = nn.CrossEntropyLoss()\n",
    "\n",
    "def set_seed(seed_value=42):\n",
    "    \"\"\"Set seed for reproducibility.\n",
    "    \"\"\"\n",
    "    random.seed(seed_value)\n",
    "    np.random.seed(seed_value)\n",
    "    torch.manual_seed(seed_value)\n",
    "    torch.cuda.manual_seed_all(seed_value)\n",
    "\n",
    "def train(model, train_dataloader, val_dataloader=None, epochs=4, evaluation=False):\n",
    "    \"\"\"Train the BertClassifier model.\n",
    "    \"\"\"\n",
    "    # Start training loop\n",
    "    print(\"Start training...\\n\")\n",
    "    for epoch_i in range(epochs):\n",
    "        # =======================================\n",
    "        #               Training\n",
    "        # =======================================\n",
    "        # Print the header of the result table\n",
    "        print(f\"{'Epoch':^7} | {'Batch':^7} | {'Train Loss':^12} | {'Val Loss':^10} | {'Val Acc':^9} | {'Elapsed':^9}\")\n",
    "        print(\"-\"*70)\n",
    "\n",
    "        # Measure the elapsed time of each epoch\n",
    "        t0_epoch, t0_batch = time.time(), time.time()\n",
    "\n",
    "        # Reset tracking variables at the beginning of each epoch\n",
    "        total_loss, batch_loss, batch_counts = 0, 0, 0\n",
    "\n",
    "        # Put the model into the training mode\n",
    "        model.train()\n",
    "\n",
    "        # For each batch of training data...\n",
    "        for step, batch in enumerate(train_dataloader):\n",
    "            batch_counts +=1\n",
    "            # Load batch to GPU\n",
    "            b_input_ids, b_attn_mask, b_labels = tuple(t.to(device) for t in batch)\n",
    "\n",
    "            # Zero out any previously calculated gradients\n",
    "            model.zero_grad()\n",
    "\n",
    "            # Perform a forward pass. This will return logits.\n",
    "            logits = model(b_input_ids, b_attn_mask)\n",
    "            # Compute loss and accumulate the loss values\n",
    "            loss = loss_fn(logits, b_labels.long())\n",
    "            batch_loss += loss.item()\n",
    "            total_loss += loss.item()\n",
    "\n",
    "            # Perform a backward pass to calculate gradients\n",
    "            loss.backward()\n",
    "\n",
    "            # Clip the norm of the gradients to 1.0 to prevent \"exploding gradients\"\n",
    "            torch.nn.utils.clip_grad_norm_(model.parameters(), 1.0)\n",
    "\n",
    "            # Update parameters and the learning rate\n",
    "            optimizer.step()\n",
    "            scheduler.step()\n",
    "\n",
    "            # Print the loss values and time elapsed for every 20 batches\n",
    "            if (step % 20 == 0 and step != 0) or (step == len(train_dataloader) - 1):\n",
    "                # Calculate time elapsed for 20 batches\n",
    "                time_elapsed = time.time() - t0_batch\n",
    "\n",
    "                # Print training results\n",
    "                print(f\"{epoch_i + 1:^7} | {step:^7} | {batch_loss / batch_counts:^12.6f} | {'-':^10} | {'-':^9} | {time_elapsed:^9.2f}\")\n",
    "\n",
    "                # Reset batch tracking variables\n",
    "                batch_loss, batch_counts = 0, 0\n",
    "                t0_batch = time.time()\n",
    "\n",
    "        # Calculate the average loss over the entire training data\n",
    "        avg_train_loss = total_loss / len(train_dataloader)\n",
    "\n",
    "        print(\"-\"*70)\n",
    "        # =======================================\n",
    "        #               Evaluation\n",
    "        # =======================================\n",
    "        if evaluation == True:\n",
    "            # After the completion of each training epoch, measure the model's performance\n",
    "            # on our validation set.\n",
    "            val_loss, val_accuracy = evaluate(model, val_dataloader)\n",
    "\n",
    "            # Print performance over the entire training data\n",
    "            time_elapsed = time.time() - t0_epoch\n",
    "            \n",
    "            print(f\"{epoch_i + 1:^7} | {'-':^7} | {avg_train_loss:^12.6f} | {val_loss:^10.6f} | {val_accuracy:^9.2f} | {time_elapsed:^9.2f}\")\n",
    "            print(\"-\"*70)\n",
    "        print(\"\\n\")\n",
    "    \n",
    "    print(\"Training complete!\")\n",
    "    if evaluation == True:\n",
    "        return val_accuracy\n",
    "\n",
    "\n",
    "def evaluate(model, val_dataloader):\n",
    "    \"\"\"After the completion of each training epoch, measure the model's performance\n",
    "    on our validation set.\n",
    "    \"\"\"\n",
    "    # Put the model into the evaluation mode. The dropout layers are disabled during\n",
    "    # the test time.\n",
    "    model.eval()\n",
    "\n",
    "    # Tracking variables\n",
    "    val_accuracy = []\n",
    "    val_loss = []\n",
    "\n",
    "    # For each batch in our validation set...\n",
    "    for batch in val_dataloader:\n",
    "        # Load batch to GPU\n",
    "        b_input_ids, b_attn_mask, b_labels = tuple(t.to(device) for t in batch)\n",
    "\n",
    "        # Compute logits\n",
    "        with torch.no_grad():\n",
    "            logits = model(b_input_ids, b_attn_mask)\n",
    "\n",
    "        # Compute loss\n",
    "        loss = loss_fn(logits, b_labels.long())\n",
    "        val_loss.append(loss.item())\n",
    "\n",
    "        # Get the predictions\n",
    "        preds = torch.argmax(logits, dim=1).flatten()\n",
    "\n",
    "        # Calculate the accuracy rate\n",
    "        accuracy = (preds == b_labels).cpu().numpy().mean() * 100\n",
    "        val_accuracy.append(accuracy)\n",
    "\n",
    "    # Compute the average accuracy and loss over the validation set.\n",
    "    val_loss = np.mean(val_loss)\n",
    "    val_accuracy = np.mean(val_accuracy)\n",
    "\n",
    "    return val_loss, val_accuracy"
   ]
  },
  {
   "cell_type": "code",
   "execution_count": 21,
   "metadata": {},
   "outputs": [
    {
     "name": "stderr",
     "output_type": "stream",
     "text": [
      "Some weights of the model checkpoint at CAMeL-Lab/bert-base-arabic-camelbert-msa were not used when initializing BertModel: ['cls.predictions.decoder.bias', 'cls.seq_relationship.bias', 'cls.seq_relationship.weight', 'cls.predictions.transform.LayerNorm.weight', 'cls.predictions.bias', 'cls.predictions.transform.dense.bias', 'cls.predictions.transform.dense.weight', 'cls.predictions.transform.LayerNorm.bias', 'cls.predictions.decoder.weight']\n",
      "- This IS expected if you are initializing BertModel from the checkpoint of a model trained on another task or with another architecture (e.g. initializing a BertForSequenceClassification model from a BertForPreTraining model).\n",
      "- This IS NOT expected if you are initializing BertModel from the checkpoint of a model that you expect to be exactly identical (initializing a BertForSequenceClassification model from a BertForSequenceClassification model).\n"
     ]
    },
    {
     "name": "stdout",
     "output_type": "stream",
     "text": [
      "Start training...\n",
      "\n",
      " Epoch  |  Batch  |  Train Loss  |  Val Loss  |  Val Acc  |  Elapsed \n",
      "----------------------------------------------------------------------\n",
      "   1    |   20    |   0.597458   |     -      |     -     |   8.22   \n",
      "   1    |   40    |   0.383035   |     -      |     -     |   5.01   \n",
      "   1    |   60    |   0.370552   |     -      |     -     |   5.00   \n",
      "   1    |   80    |   0.371699   |     -      |     -     |   5.01   \n",
      "   1    |   100   |   0.333929   |     -      |     -     |   5.00   \n",
      "   1    |   120   |   0.315233   |     -      |     -     |   5.01   \n",
      "   1    |   140   |   0.319871   |     -      |     -     |   5.00   \n",
      "   1    |   160   |   0.274725   |     -      |     -     |   5.01   \n",
      "   1    |   180   |   0.334909   |     -      |     -     |   5.00   \n",
      "   1    |   200   |   0.311759   |     -      |     -     |   5.00   \n",
      "   1    |   220   |   0.290937   |     -      |     -     |   5.01   \n",
      "   1    |   240   |   0.284972   |     -      |     -     |   5.01   \n",
      "   1    |   260   |   0.293105   |     -      |     -     |   5.01   \n",
      "   1    |   280   |   0.292534   |     -      |     -     |   5.01   \n",
      "   1    |   300   |   0.293936   |     -      |     -     |   5.00   \n",
      "   1    |   320   |   0.335111   |     -      |     -     |   5.00   \n",
      "   1    |   340   |   0.290159   |     -      |     -     |   5.01   \n",
      "   1    |   360   |   0.247182   |     -      |     -     |   5.00   \n",
      "   1    |   380   |   0.336916   |     -      |     -     |   5.01   \n",
      "   1    |   400   |   0.240078   |     -      |     -     |   5.00   \n",
      "   1    |   420   |   0.289022   |     -      |     -     |   5.01   \n",
      "   1    |   440   |   0.280385   |     -      |     -     |   5.00   \n",
      "   1    |   460   |   0.263659   |     -      |     -     |   5.01   \n",
      "   1    |   480   |   0.306646   |     -      |     -     |   5.00   \n",
      "   1    |   500   |   0.295459   |     -      |     -     |   4.99   \n",
      "   1    |   520   |   0.282780   |     -      |     -     |   4.93   \n",
      "   1    |   540   |   0.265034   |     -      |     -     |   4.94   \n",
      "   1    |   560   |   0.247684   |     -      |     -     |   4.93   \n",
      "   1    |   580   |   0.273992   |     -      |     -     |   4.93   \n",
      "   1    |   600   |   0.247641   |     -      |     -     |   4.93   \n",
      "   1    |   620   |   0.308944   |     -      |     -     |   4.94   \n",
      "   1    |   640   |   0.258042   |     -      |     -     |   4.93   \n",
      "   1    |   660   |   0.287567   |     -      |     -     |   4.94   \n",
      "   1    |   680   |   0.301833   |     -      |     -     |   4.94   \n",
      "   1    |   700   |   0.269236   |     -      |     -     |   4.94   \n",
      "   1    |   720   |   0.265680   |     -      |     -     |   4.93   \n",
      "   1    |   740   |   0.233205   |     -      |     -     |   4.94   \n",
      "   1    |   760   |   0.253260   |     -      |     -     |   4.94   \n",
      "   1    |   780   |   0.269086   |     -      |     -     |   4.94   \n",
      "   1    |   800   |   0.267818   |     -      |     -     |   4.93   \n",
      "   1    |   820   |   0.259123   |     -      |     -     |   4.93   \n",
      "   1    |   840   |   0.226028   |     -      |     -     |   4.94   \n",
      "   1    |   860   |   0.291884   |     -      |     -     |   4.93   \n",
      "   1    |   880   |   0.286564   |     -      |     -     |   4.94   \n",
      "   1    |   900   |   0.247312   |     -      |     -     |   4.95   \n",
      "   1    |   920   |   0.281918   |     -      |     -     |   4.93   \n",
      "   1    |   940   |   0.213379   |     -      |     -     |   5.00   \n",
      "   1    |   960   |   0.263000   |     -      |     -     |   5.01   \n",
      "   1    |   980   |   0.203404   |     -      |     -     |   5.00   \n",
      "   1    |  1000   |   0.302949   |     -      |     -     |   5.01   \n",
      "   1    |  1020   |   0.272807   |     -      |     -     |   5.00   \n",
      "   1    |  1040   |   0.232184   |     -      |     -     |   4.87   \n",
      "   1    |  1060   |   0.256808   |     -      |     -     |   4.89   \n",
      "   1    |  1080   |   0.238478   |     -      |     -     |   4.90   \n",
      "   1    |  1100   |   0.253894   |     -      |     -     |   4.90   \n",
      "   1    |  1120   |   0.240839   |     -      |     -     |   4.89   \n",
      "   1    |  1140   |   0.279798   |     -      |     -     |   4.90   \n",
      "   1    |  1160   |   0.279586   |     -      |     -     |   4.89   \n",
      "   1    |  1180   |   0.270574   |     -      |     -     |   4.89   \n",
      "   1    |  1200   |   0.224791   |     -      |     -     |   4.89   \n",
      "   1    |  1220   |   0.252705   |     -      |     -     |   4.89   \n",
      "   1    |  1240   |   0.254687   |     -      |     -     |   4.90   \n",
      "   1    |  1260   |   0.227892   |     -      |     -     |   4.89   \n",
      "   1    |  1280   |   0.230852   |     -      |     -     |   4.89   \n",
      "   1    |  1300   |   0.233795   |     -      |     -     |   4.90   \n",
      "   1    |  1320   |   0.257490   |     -      |     -     |   4.89   \n",
      "   1    |  1340   |   0.264508   |     -      |     -     |   4.89   \n",
      "   1    |  1360   |   0.235106   |     -      |     -     |   4.89   \n",
      "   1    |  1380   |   0.247642   |     -      |     -     |   4.89   \n",
      "   1    |  1400   |   0.221917   |     -      |     -     |   4.89   \n",
      "   1    |  1420   |   0.249494   |     -      |     -     |   4.90   \n",
      "   1    |  1440   |   0.254983   |     -      |     -     |   4.89   \n",
      "   1    |  1460   |   0.222787   |     -      |     -     |   4.90   \n",
      "   1    |  1480   |   0.222738   |     -      |     -     |   4.89   \n",
      "   1    |  1500   |   0.216813   |     -      |     -     |   4.89   \n",
      "   1    |  1520   |   0.281802   |     -      |     -     |   4.89   \n",
      "   1    |  1540   |   0.216775   |     -      |     -     |   4.89   \n",
      "   1    |  1560   |   0.222683   |     -      |     -     |   4.89   \n",
      "   1    |  1580   |   0.238480   |     -      |     -     |   4.90   \n",
      "   1    |  1600   |   0.231940   |     -      |     -     |   4.89   \n",
      "   1    |  1620   |   0.253296   |     -      |     -     |   4.89   \n",
      "   1    |  1640   |   0.239310   |     -      |     -     |   4.89   \n",
      "   1    |  1660   |   0.228801   |     -      |     -     |   4.90   \n",
      "   1    |  1666   |   0.221905   |     -      |     -     |   1.33   \n",
      "----------------------------------------------------------------------\n",
      "   1    |    -    |   0.272506   |  0.228470  |   90.77   |  429.75  \n",
      "----------------------------------------------------------------------\n",
      "\n",
      "\n",
      " Epoch  |  Batch  |  Train Loss  |  Val Loss  |  Val Acc  |  Elapsed \n",
      "----------------------------------------------------------------------\n",
      "   2    |   20    |   0.148260   |     -      |     -     |   5.15   \n",
      "   2    |   40    |   0.163446   |     -      |     -     |   4.91   \n",
      "   2    |   60    |   0.183534   |     -      |     -     |   4.93   \n",
      "   2    |   80    |   0.160377   |     -      |     -     |   4.91   \n",
      "   2    |   100   |   0.203558   |     -      |     -     |   4.92   \n",
      "   2    |   120   |   0.139165   |     -      |     -     |   4.91   \n",
      "   2    |   140   |   0.198848   |     -      |     -     |   4.91   \n",
      "   2    |   160   |   0.141013   |     -      |     -     |   4.91   \n",
      "   2    |   180   |   0.134291   |     -      |     -     |   4.92   \n",
      "   2    |   200   |   0.153965   |     -      |     -     |   4.91   \n",
      "   2    |   220   |   0.192093   |     -      |     -     |   4.91   \n",
      "   2    |   240   |   0.172464   |     -      |     -     |   4.91   \n",
      "   2    |   260   |   0.147600   |     -      |     -     |   4.91   \n",
      "   2    |   280   |   0.153873   |     -      |     -     |   4.91   \n",
      "   2    |   300   |   0.186943   |     -      |     -     |   4.92   \n",
      "   2    |   320   |   0.149248   |     -      |     -     |   4.91   \n",
      "   2    |   340   |   0.156987   |     -      |     -     |   4.91   \n",
      "   2    |   360   |   0.185338   |     -      |     -     |   4.91   \n",
      "   2    |   380   |   0.147983   |     -      |     -     |   4.91   \n",
      "   2    |   400   |   0.162394   |     -      |     -     |   4.84   \n",
      "   2    |   420   |   0.180080   |     -      |     -     |   4.42   \n",
      "   2    |   440   |   0.212479   |     -      |     -     |   4.39   \n",
      "   2    |   460   |   0.167663   |     -      |     -     |   4.78   \n",
      "   2    |   480   |   0.164304   |     -      |     -     |   4.93   \n",
      "   2    |   500   |   0.177215   |     -      |     -     |   4.92   \n",
      "   2    |   520   |   0.192695   |     -      |     -     |   4.76   \n",
      "   2    |   540   |   0.148336   |     -      |     -     |   4.94   \n",
      "   2    |   560   |   0.164568   |     -      |     -     |   4.88   \n",
      "   2    |   580   |   0.150743   |     -      |     -     |   4.90   \n",
      "   2    |   600   |   0.145569   |     -      |     -     |   4.72   \n",
      "   2    |   620   |   0.178964   |     -      |     -     |   4.76   \n",
      "   2    |   640   |   0.162200   |     -      |     -     |   4.75   \n",
      "   2    |   660   |   0.167413   |     -      |     -     |   4.76   \n",
      "   2    |   680   |   0.126168   |     -      |     -     |   4.67   \n",
      "   2    |   700   |   0.124452   |     -      |     -     |   4.45   \n",
      "   2    |   720   |   0.180178   |     -      |     -     |   4.54   \n",
      "   2    |   740   |   0.170782   |     -      |     -     |   4.54   \n",
      "   2    |   760   |   0.151750   |     -      |     -     |   4.40   \n",
      "   2    |   780   |   0.205946   |     -      |     -     |   4.45   \n",
      "   2    |   800   |   0.133738   |     -      |     -     |   4.40   \n",
      "   2    |   820   |   0.147462   |     -      |     -     |   4.40   \n",
      "   2    |   840   |   0.154976   |     -      |     -     |   4.42   \n",
      "   2    |   860   |   0.166154   |     -      |     -     |   4.41   \n",
      "   2    |   880   |   0.129922   |     -      |     -     |   4.48   \n",
      "   2    |   900   |   0.166338   |     -      |     -     |   4.45   \n",
      "   2    |   920   |   0.162445   |     -      |     -     |   4.40   \n",
      "   2    |   940   |   0.132437   |     -      |     -     |   4.40   \n",
      "   2    |   960   |   0.171539   |     -      |     -     |   4.39   \n",
      "   2    |   980   |   0.154000   |     -      |     -     |   4.57   \n",
      "   2    |  1000   |   0.187400   |     -      |     -     |   4.56   \n",
      "   2    |  1020   |   0.176043   |     -      |     -     |   4.50   \n",
      "   2    |  1040   |   0.173861   |     -      |     -     |   4.42   \n",
      "   2    |  1060   |   0.135375   |     -      |     -     |   4.43   \n",
      "   2    |  1080   |   0.164361   |     -      |     -     |   4.41   \n",
      "   2    |  1100   |   0.134970   |     -      |     -     |   4.50   \n",
      "   2    |  1120   |   0.174933   |     -      |     -     |   4.42   \n",
      "   2    |  1140   |   0.191774   |     -      |     -     |   4.44   \n",
      "   2    |  1160   |   0.217400   |     -      |     -     |   4.47   \n",
      "   2    |  1180   |   0.181173   |     -      |     -     |   4.45   \n",
      "   2    |  1200   |   0.169006   |     -      |     -     |   4.48   \n",
      "   2    |  1220   |   0.181344   |     -      |     -     |   4.41   \n",
      "   2    |  1240   |   0.155678   |     -      |     -     |   4.44   \n",
      "   2    |  1260   |   0.151128   |     -      |     -     |   4.48   \n",
      "   2    |  1280   |   0.181171   |     -      |     -     |   4.46   \n",
      "   2    |  1300   |   0.185776   |     -      |     -     |   4.50   \n",
      "   2    |  1320   |   0.110172   |     -      |     -     |   4.47   \n",
      "   2    |  1340   |   0.143839   |     -      |     -     |   4.62   \n",
      "   2    |  1360   |   0.162294   |     -      |     -     |   4.56   \n",
      "   2    |  1380   |   0.172636   |     -      |     -     |   4.50   \n",
      "   2    |  1400   |   0.159725   |     -      |     -     |   4.52   \n",
      "   2    |  1420   |   0.130705   |     -      |     -     |   4.47   \n",
      "   2    |  1440   |   0.162721   |     -      |     -     |   4.46   \n",
      "   2    |  1460   |   0.125730   |     -      |     -     |   4.42   \n",
      "   2    |  1480   |   0.198408   |     -      |     -     |   4.40   \n",
      "   2    |  1500   |   0.155138   |     -      |     -     |   4.43   \n",
      "   2    |  1520   |   0.195430   |     -      |     -     |   4.41   \n",
      "   2    |  1540   |   0.113067   |     -      |     -     |   4.41   \n",
      "   2    |  1560   |   0.123061   |     -      |     -     |   4.40   \n",
      "   2    |  1580   |   0.172103   |     -      |     -     |   4.54   \n",
      "   2    |  1600   |   0.158092   |     -      |     -     |   4.46   \n",
      "   2    |  1620   |   0.149631   |     -      |     -     |   4.49   \n",
      "   2    |  1640   |   0.156685   |     -      |     -     |   4.46   \n",
      "   2    |  1660   |   0.122881   |     -      |     -     |   4.48   \n",
      "   2    |  1666   |   0.142111   |     -      |     -     |   1.20   \n",
      "----------------------------------------------------------------------\n",
      "   2    |    -    |   0.161915   |  0.243940  |   91.32   |  398.31  \n",
      "----------------------------------------------------------------------\n",
      "\n",
      "\n",
      "Training complete!\n"
     ]
    }
   ],
   "source": [
    "set_seed(12) \n",
    "bert_classifier, optimizer, scheduler = initialize_model(epochs=2)\n",
    "val_accuracy = \\\n",
    "train(bert_classifier, train_dataloader, val_dataloader, epochs=2, evaluation=True)"
   ]
  },
  {
   "cell_type": "code",
   "execution_count": 22,
   "metadata": {},
   "outputs": [],
   "source": [
    "def bert_predict(model, test_dataloader):\n",
    "    \"\"\"\n",
    "    Perform a forward pass on the trained BERT model to predict probabilities\n",
    "    on the test set.\n",
    "    \"\"\"\n",
    "    # Put the model into the evaluation mode. The dropout layers are disabled during\n",
    "    # the test time.\n",
    "    model.eval()\n",
    "\n",
    "    all_logits = []\n",
    "\n",
    "    # For each batch in our test set...\n",
    "    for batch in test_dataloader:\n",
    "        # Load batch to GPU\n",
    "        b_input_ids, b_attn_mask = tuple(t.to(device) for t in batch)[:2]\n",
    "\n",
    "        # Compute logits\n",
    "        with torch.no_grad():\n",
    "            logits = model(b_input_ids, b_attn_mask)\n",
    "        all_logits.append(logits)\n",
    "    \n",
    "    # Concatenate logits from each batch\n",
    "    all_logits = torch.cat(all_logits, dim=0)\n",
    "\n",
    "    # Apply softmax to calculate probabilities\n",
    "    probs = F.softmax(all_logits, dim=1).cpu().numpy()\n",
    "\n",
    "    return probs"
   ]
  },
  {
   "cell_type": "code",
   "execution_count": 23,
   "metadata": {},
   "outputs": [],
   "source": [
    "def evaluate_roc(probs, y_true):\n",
    "    \"\"\"\n",
    "    - Print AUC and accuracy on the test set\n",
    "    - Plot ROC\n",
    "    @params    probs (np.array): an array of predicted probabilities with shape (len(y_true), 2)\n",
    "    @params    y_true (np.array): an array of the true values with shape (len(y_true),)\n",
    "    \"\"\"\n",
    "    preds = probs[:, 1]\n",
    "    fpr, tpr, threshold = roc_curve(y_true, preds)\n",
    "    roc_auc = auc(fpr, tpr)\n",
    "    print(f'AUC: {roc_auc:.4f}')\n",
    "       \n",
    "    # Get accuracy over the test set\n",
    "    y_pred = np.where(preds >= 0.5, 1, 0)\n",
    "    accuracy = accuracy_score(y_true, y_pred)\n",
    "    print(f'Accuracy: {accuracy*100:.2f}%')\n",
    "    \n",
    "    # Plot ROC AUC\n",
    "    plt.title('Receiver Operating Characteristic')\n",
    "    plt.plot(fpr, tpr, 'b', label = 'AUC = %0.2f' % roc_auc)\n",
    "    plt.legend(loc = 'lower right')\n",
    "    plt.plot([0, 1], [0, 1],'r--')\n",
    "    plt.xlim([0, 1])\n",
    "    plt.ylim([0, 1])\n",
    "    plt.ylabel('True Positive Rate')\n",
    "    plt.xlabel('False Positive Rate')\n",
    "    plt.show()\n",
    "\n",
    "    return accuracy"
   ]
  },
  {
   "cell_type": "code",
   "execution_count": 24,
   "metadata": {},
   "outputs": [
    {
     "name": "stdout",
     "output_type": "stream",
     "text": [
      "AUC: 0.9701\n",
      "Accuracy: 91.33%\n"
     ]
    },
    {
     "data": {
      "image/png": "[encoded data removed]",
      "text/plain": [
       "<Figure size 432x288 with 1 Axes>"
      ]
     },
     "metadata": {
      "needs_background": "light"
     },
     "output_type": "display_data"
    }
   ],
   "source": [
    "# Compute predicted probabilities on the validate set\n",
    "probs = bert_predict(bert_classifier, val_dataloader)\n",
    "\n",
    "# Evaluate the Bert classifier\n",
    "accuracy = evaluate_roc(probs, validate_y)"
   ]
  },
  {
   "cell_type": "code",
   "execution_count": 25,
   "metadata": {},
   "outputs": [
    {
     "name": "stdout",
     "output_type": "stream",
     "text": [
      "Tokenizing data...\n"
     ]
    }
   ],
   "source": [
    "# Run `preprocessing_for_bert` on the test set\n",
    "print('Tokenizing data...')\n",
    "test_inputs, test_masks = preprocessing_for_bert(test_x)\n",
    "\n",
    "# Create the DataLoader for our test set\n",
    "test_dataset = TensorDataset(test_inputs, test_masks)\n",
    "test_sampler = SequentialSampler(test_dataset)\n",
    "test_dataloader = DataLoader(test_dataset, sampler=test_sampler, batch_size=32)"
   ]
  },
  {
   "cell_type": "code",
   "execution_count": 26,
   "metadata": {},
   "outputs": [
    {
     "name": "stdout",
     "output_type": "stream",
     "text": [
      "AUC: 0.9658\n",
      "Accuracy: 90.40%\n"
     ]
    },
    {
     "data": {
      "image/png": "[encoded data removed]",
      "text/plain": [
       "<Figure size 432x288 with 1 Axes>"
      ]
     },
     "metadata": {
      "needs_background": "light"
     },
     "output_type": "display_data"
    }
   ],
   "source": [
    "# Compute predicted probabilities on the validate set\n",
    "probs = bert_predict(bert_classifier, test_dataloader)\n",
    "\n",
    "# Evaluate the Bert classifier\n",
    "accuracy = evaluate_roc(probs, test_y)"
   ]
  },
  {
   "cell_type": "markdown",
   "metadata": {},
   "source": [
    "## train with merged train and validation sets"
   ]
  },
  {
   "cell_type": "code",
   "execution_count": 27,
   "metadata": {},
   "outputs": [
    {
     "name": "stderr",
     "output_type": "stream",
     "text": [
      "Some weights of the model checkpoint at CAMeL-Lab/bert-base-arabic-camelbert-msa were not used when initializing BertModel: ['cls.predictions.decoder.bias', 'cls.seq_relationship.bias', 'cls.seq_relationship.weight', 'cls.predictions.transform.LayerNorm.weight', 'cls.predictions.bias', 'cls.predictions.transform.dense.bias', 'cls.predictions.transform.dense.weight', 'cls.predictions.transform.LayerNorm.bias', 'cls.predictions.decoder.weight']\n",
      "- This IS expected if you are initializing BertModel from the checkpoint of a model trained on another task or with another architecture (e.g. initializing a BertForSequenceClassification model from a BertForPreTraining model).\n",
      "- This IS NOT expected if you are initializing BertModel from the checkpoint of a model that you expect to be exactly identical (initializing a BertForSequenceClassification model from a BertForSequenceClassification model).\n"
     ]
    },
    {
     "name": "stdout",
     "output_type": "stream",
     "text": [
      "Start training...\n",
      "\n",
      " Epoch  |  Batch  |  Train Loss  |  Val Loss  |  Val Acc  |  Elapsed \n",
      "----------------------------------------------------------------------\n",
      "   1    |   20    |   0.606926   |     -      |     -     |   5.37   \n",
      "   1    |   40    |   0.373628   |     -      |     -     |   4.89   \n",
      "   1    |   60    |   0.369094   |     -      |     -     |   4.90   \n",
      "   1    |   80    |   0.303436   |     -      |     -     |   4.90   \n",
      "   1    |   100   |   0.348808   |     -      |     -     |   4.89   \n",
      "   1    |   120   |   0.279536   |     -      |     -     |   4.89   \n",
      "   1    |   140   |   0.303956   |     -      |     -     |   4.91   \n",
      "   1    |   160   |   0.349730   |     -      |     -     |   4.91   \n",
      "   1    |   180   |   0.301567   |     -      |     -     |   4.92   \n",
      "   1    |   200   |   0.313989   |     -      |     -     |   4.94   \n",
      "   1    |   220   |   0.278474   |     -      |     -     |   4.96   \n",
      "   1    |   240   |   0.294514   |     -      |     -     |   4.97   \n",
      "   1    |   260   |   0.345099   |     -      |     -     |   4.96   \n",
      "   1    |   280   |   0.269809   |     -      |     -     |   4.96   \n",
      "   1    |   300   |   0.313217   |     -      |     -     |   4.97   \n",
      "   1    |   320   |   0.274108   |     -      |     -     |   4.96   \n",
      "   1    |   340   |   0.247773   |     -      |     -     |   4.96   \n",
      "   1    |   360   |   0.243380   |     -      |     -     |   4.97   \n",
      "   1    |   380   |   0.301514   |     -      |     -     |   4.96   \n",
      "   1    |   400   |   0.274672   |     -      |     -     |   4.95   \n",
      "   1    |   420   |   0.277493   |     -      |     -     |   4.96   \n",
      "   1    |   440   |   0.234602   |     -      |     -     |   4.96   \n",
      "   1    |   460   |   0.271997   |     -      |     -     |   4.96   \n",
      "   1    |   480   |   0.309639   |     -      |     -     |   4.96   \n",
      "   1    |   500   |   0.311539   |     -      |     -     |   4.97   \n",
      "   1    |   520   |   0.255712   |     -      |     -     |   4.96   \n",
      "   1    |   540   |   0.295280   |     -      |     -     |   4.97   \n",
      "   1    |   560   |   0.271292   |     -      |     -     |   4.96   \n",
      "   1    |   580   |   0.316789   |     -      |     -     |   4.96   \n",
      "   1    |   600   |   0.275330   |     -      |     -     |   4.96   \n",
      "   1    |   620   |   0.290015   |     -      |     -     |   4.96   \n",
      "   1    |   640   |   0.258655   |     -      |     -     |   4.95   \n",
      "   1    |   660   |   0.268722   |     -      |     -     |   4.96   \n",
      "   1    |   680   |   0.286430   |     -      |     -     |   4.97   \n",
      "   1    |   700   |   0.268231   |     -      |     -     |   4.97   \n",
      "   1    |   720   |   0.286882   |     -      |     -     |   4.92   \n",
      "   1    |   740   |   0.257765   |     -      |     -     |   4.96   \n",
      "   1    |   760   |   0.293575   |     -      |     -     |   4.96   \n",
      "   1    |   780   |   0.310242   |     -      |     -     |   4.96   \n",
      "   1    |   800   |   0.230485   |     -      |     -     |   4.96   \n",
      "   1    |   820   |   0.283101   |     -      |     -     |   4.97   \n",
      "   1    |   840   |   0.279996   |     -      |     -     |   4.96   \n",
      "   1    |   860   |   0.267570   |     -      |     -     |   4.96   \n",
      "   1    |   880   |   0.265432   |     -      |     -     |   4.96   \n",
      "   1    |   900   |   0.239822   |     -      |     -     |   4.96   \n",
      "   1    |   920   |   0.286604   |     -      |     -     |   4.97   \n",
      "   1    |   940   |   0.236660   |     -      |     -     |   4.96   \n",
      "   1    |   960   |   0.264898   |     -      |     -     |   4.97   \n",
      "   1    |   980   |   0.240255   |     -      |     -     |   4.96   \n",
      "   1    |  1000   |   0.247084   |     -      |     -     |   4.96   \n",
      "   1    |  1020   |   0.220308   |     -      |     -     |   4.96   \n",
      "   1    |  1040   |   0.228447   |     -      |     -     |   4.96   \n",
      "   1    |  1060   |   0.233445   |     -      |     -     |   4.96   \n",
      "   1    |  1080   |   0.227914   |     -      |     -     |   4.97   \n",
      "   1    |  1100   |   0.249203   |     -      |     -     |   4.96   \n",
      "   1    |  1120   |   0.258643   |     -      |     -     |   4.97   \n",
      "   1    |  1140   |   0.248527   |     -      |     -     |   4.96   \n",
      "   1    |  1160   |   0.256647   |     -      |     -     |   4.96   \n",
      "   1    |  1180   |   0.253132   |     -      |     -     |   4.96   \n",
      "   1    |  1200   |   0.248748   |     -      |     -     |   4.96   \n",
      "   1    |  1220   |   0.221260   |     -      |     -     |   4.96   \n",
      "   1    |  1240   |   0.240458   |     -      |     -     |   4.97   \n",
      "   1    |  1260   |   0.261852   |     -      |     -     |   4.96   \n",
      "   1    |  1280   |   0.255076   |     -      |     -     |   4.97   \n",
      "   1    |  1300   |   0.216517   |     -      |     -     |   4.96   \n",
      "   1    |  1320   |   0.237902   |     -      |     -     |   4.96   \n",
      "   1    |  1340   |   0.201176   |     -      |     -     |   4.96   \n",
      "   1    |  1360   |   0.253408   |     -      |     -     |   4.96   \n",
      "   1    |  1380   |   0.222794   |     -      |     -     |   4.94   \n",
      "   1    |  1400   |   0.271036   |     -      |     -     |   4.77   \n",
      "   1    |  1420   |   0.223231   |     -      |     -     |   5.01   \n",
      "   1    |  1440   |   0.222814   |     -      |     -     |   5.00   \n",
      "   1    |  1460   |   0.253331   |     -      |     -     |   5.01   \n",
      "   1    |  1480   |   0.260132   |     -      |     -     |   5.00   \n",
      "   1    |  1500   |   0.228500   |     -      |     -     |   5.01   \n",
      "   1    |  1520   |   0.268550   |     -      |     -     |   5.00   \n",
      "   1    |  1540   |   0.256181   |     -      |     -     |   5.01   \n",
      "   1    |  1560   |   0.311350   |     -      |     -     |   5.00   \n",
      "   1    |  1580   |   0.255163   |     -      |     -     |   5.00   \n",
      "   1    |  1600   |   0.231727   |     -      |     -     |   5.01   \n",
      "   1    |  1620   |   0.198361   |     -      |     -     |   5.01   \n",
      "   1    |  1640   |   0.220641   |     -      |     -     |   5.01   \n",
      "   1    |  1660   |   0.258618   |     -      |     -     |   5.00   \n",
      "   1    |  1680   |   0.211963   |     -      |     -     |   5.00   \n",
      "   1    |  1700   |   0.241842   |     -      |     -     |   5.00   \n",
      "   1    |  1720   |   0.221431   |     -      |     -     |   5.01   \n",
      "   1    |  1740   |   0.220469   |     -      |     -     |   4.81   \n",
      "   1    |  1760   |   0.240110   |     -      |     -     |   4.85   \n",
      "   1    |  1780   |   0.269449   |     -      |     -     |   5.09   \n",
      "   1    |  1800   |   0.221331   |     -      |     -     |   5.00   \n",
      "   1    |  1820   |   0.229624   |     -      |     -     |   5.01   \n",
      "   1    |  1840   |   0.212765   |     -      |     -     |   5.01   \n",
      "   1    |  1860   |   0.193986   |     -      |     -     |   5.01   \n",
      "   1    |  1874   |   0.233903   |     -      |     -     |   3.39   \n",
      "----------------------------------------------------------------------\n",
      "\n",
      "\n",
      " Epoch  |  Batch  |  Train Loss  |  Val Loss  |  Val Acc  |  Elapsed \n",
      "----------------------------------------------------------------------\n",
      "   2    |   20    |   0.179928   |     -      |     -     |   4.77   \n",
      "   2    |   40    |   0.179367   |     -      |     -     |   4.68   \n",
      "   2    |   60    |   0.189411   |     -      |     -     |   4.61   \n",
      "   2    |   80    |   0.165805   |     -      |     -     |   4.61   \n",
      "   2    |   100   |   0.163492   |     -      |     -     |   4.66   \n",
      "   2    |   120   |   0.219893   |     -      |     -     |   4.69   \n",
      "   2    |   140   |   0.171497   |     -      |     -     |   4.76   \n",
      "   2    |   160   |   0.171220   |     -      |     -     |   4.77   \n",
      "   2    |   180   |   0.176265   |     -      |     -     |   4.78   \n",
      "   2    |   200   |   0.167418   |     -      |     -     |   4.77   \n",
      "   2    |   220   |   0.216173   |     -      |     -     |   4.77   \n",
      "   2    |   240   |   0.174998   |     -      |     -     |   4.75   \n",
      "   2    |   260   |   0.142277   |     -      |     -     |   4.76   \n",
      "   2    |   280   |   0.167055   |     -      |     -     |   4.73   \n",
      "   2    |   300   |   0.159334   |     -      |     -     |   4.63   \n",
      "   2    |   320   |   0.149056   |     -      |     -     |   4.67   \n",
      "   2    |   340   |   0.150979   |     -      |     -     |   4.73   \n",
      "   2    |   360   |   0.180890   |     -      |     -     |   4.76   \n",
      "   2    |   380   |   0.187288   |     -      |     -     |   4.75   \n",
      "   2    |   400   |   0.143272   |     -      |     -     |   4.75   \n",
      "   2    |   420   |   0.165198   |     -      |     -     |   4.79   \n",
      "   2    |   440   |   0.124797   |     -      |     -     |   4.70   \n",
      "   2    |   460   |   0.166338   |     -      |     -     |   4.72   \n",
      "   2    |   480   |   0.143742   |     -      |     -     |   4.71   \n",
      "   2    |   500   |   0.146927   |     -      |     -     |   4.71   \n",
      "   2    |   520   |   0.166974   |     -      |     -     |   4.71   \n",
      "   2    |   540   |   0.178062   |     -      |     -     |   4.71   \n",
      "   2    |   560   |   0.125631   |     -      |     -     |   4.71   \n",
      "   2    |   580   |   0.199007   |     -      |     -     |   4.75   \n",
      "   2    |   600   |   0.184360   |     -      |     -     |   4.81   \n",
      "   2    |   620   |   0.173177   |     -      |     -     |   4.87   \n",
      "   2    |   640   |   0.183786   |     -      |     -     |   4.82   \n",
      "   2    |   660   |   0.174085   |     -      |     -     |   4.71   \n",
      "   2    |   680   |   0.145259   |     -      |     -     |   4.70   \n",
      "   2    |   700   |   0.134057   |     -      |     -     |   4.71   \n",
      "   2    |   720   |   0.150202   |     -      |     -     |   4.71   \n",
      "   2    |   740   |   0.178242   |     -      |     -     |   4.71   \n",
      "   2    |   760   |   0.152724   |     -      |     -     |   4.71   \n",
      "   2    |   780   |   0.136419   |     -      |     -     |   4.72   \n",
      "   2    |   800   |   0.178349   |     -      |     -     |   4.71   \n",
      "   2    |   820   |   0.148664   |     -      |     -     |   4.70   \n",
      "   2    |   840   |   0.148708   |     -      |     -     |   4.71   \n",
      "   2    |   860   |   0.176868   |     -      |     -     |   4.79   \n",
      "   2    |   880   |   0.202000   |     -      |     -     |   4.74   \n",
      "   2    |   900   |   0.131690   |     -      |     -     |   4.75   \n",
      "   2    |   920   |   0.153852   |     -      |     -     |   4.78   \n",
      "   2    |   940   |   0.137965   |     -      |     -     |   4.79   \n",
      "   2    |   960   |   0.178857   |     -      |     -     |   4.78   \n",
      "   2    |   980   |   0.179726   |     -      |     -     |   4.77   \n",
      "   2    |  1000   |   0.163261   |     -      |     -     |   4.79   \n",
      "   2    |  1020   |   0.166075   |     -      |     -     |   4.74   \n",
      "   2    |  1040   |   0.135835   |     -      |     -     |   4.82   \n",
      "   2    |  1060   |   0.163740   |     -      |     -     |   4.70   \n",
      "   2    |  1080   |   0.167016   |     -      |     -     |   4.67   \n",
      "   2    |  1100   |   0.161520   |     -      |     -     |   4.67   \n",
      "   2    |  1120   |   0.150337   |     -      |     -     |   4.67   \n",
      "   2    |  1140   |   0.143856   |     -      |     -     |   4.67   \n",
      "   2    |  1160   |   0.179310   |     -      |     -     |   4.69   \n",
      "   2    |  1180   |   0.147116   |     -      |     -     |   4.69   \n",
      "   2    |  1200   |   0.168730   |     -      |     -     |   4.68   \n",
      "   2    |  1220   |   0.224404   |     -      |     -     |   4.67   \n",
      "   2    |  1240   |   0.155132   |     -      |     -     |   4.67   \n",
      "   2    |  1260   |   0.195099   |     -      |     -     |   4.71   \n",
      "   2    |  1280   |   0.171173   |     -      |     -     |   4.80   \n",
      "   2    |  1300   |   0.161825   |     -      |     -     |   4.82   \n",
      "   2    |  1320   |   0.189932   |     -      |     -     |   4.73   \n",
      "   2    |  1340   |   0.164799   |     -      |     -     |   4.81   \n",
      "   2    |  1360   |   0.120623   |     -      |     -     |   4.76   \n",
      "   2    |  1380   |   0.154084   |     -      |     -     |   4.69   \n",
      "   2    |  1400   |   0.152207   |     -      |     -     |   4.67   \n",
      "   2    |  1420   |   0.180654   |     -      |     -     |   4.67   \n",
      "   2    |  1440   |   0.141930   |     -      |     -     |   4.67   \n",
      "   2    |  1460   |   0.151519   |     -      |     -     |   4.67   \n",
      "   2    |  1480   |   0.132705   |     -      |     -     |   4.67   \n",
      "   2    |  1500   |   0.157927   |     -      |     -     |   4.71   \n",
      "   2    |  1520   |   0.161856   |     -      |     -     |   4.58   \n",
      "   2    |  1540   |   0.146897   |     -      |     -     |   4.76   \n",
      "   2    |  1560   |   0.145388   |     -      |     -     |   4.75   \n",
      "   2    |  1580   |   0.150705   |     -      |     -     |   4.77   \n",
      "   2    |  1600   |   0.152928   |     -      |     -     |   4.74   \n",
      "   2    |  1620   |   0.129318   |     -      |     -     |   4.72   \n",
      "   2    |  1640   |   0.141730   |     -      |     -     |   4.75   \n",
      "   2    |  1660   |   0.186467   |     -      |     -     |   4.67   \n",
      "   2    |  1680   |   0.132328   |     -      |     -     |   4.67   \n",
      "   2    |  1700   |   0.169525   |     -      |     -     |   4.71   \n",
      "   2    |  1720   |   0.123500   |     -      |     -     |   4.79   \n",
      "   2    |  1740   |   0.155699   |     -      |     -     |   4.74   \n",
      "   2    |  1760   |   0.118058   |     -      |     -     |   4.80   \n",
      "   2    |  1780   |   0.157244   |     -      |     -     |   4.74   \n",
      "   2    |  1800   |   0.155379   |     -      |     -     |   4.67   \n",
      "   2    |  1820   |   0.132631   |     -      |     -     |   4.67   \n",
      "   2    |  1840   |   0.160334   |     -      |     -     |   4.67   \n",
      "   2    |  1860   |   0.167654   |     -      |     -     |   4.67   \n",
      "   2    |  1874   |   0.188809   |     -      |     -     |   3.27   \n",
      "----------------------------------------------------------------------\n",
      "\n",
      "\n",
      "Training complete!\n"
     ]
    }
   ],
   "source": [
    "# Concatenate the train set and the validation set\n",
    "full_train_data = torch.utils.data.ConcatDataset([train_data, val_data])\n",
    "full_train_sampler = RandomSampler(full_train_data)\n",
    "full_train_dataloader = DataLoader(full_train_data, sampler=full_train_sampler, batch_size=32)\n",
    "\n",
    "# Train the Bert Classifier on the entire training data\n",
    "set_seed(12)\n",
    "bert_classifier, optimizer, scheduler = initialize_model(epochs=2)\n",
    "train(bert_classifier, full_train_dataloader, epochs=2)"
   ]
  },
  {
   "cell_type": "code",
   "execution_count": 28,
   "metadata": {},
   "outputs": [
    {
     "name": "stdout",
     "output_type": "stream",
     "text": [
      "AUC: 0.9661\n",
      "Accuracy: 90.50%\n"
     ]
    },
    {
     "data": {
      "image/png": "[encoded data removed]",
      "text/plain": [
       "<Figure size 432x288 with 1 Axes>"
      ]
     },
     "metadata": {
      "needs_background": "light"
     },
     "output_type": "display_data"
    }
   ],
   "source": [
    "# Compute predicted probabilities on the validate set\n",
    "probs = bert_predict(bert_classifier, test_dataloader)\n",
    "\n",
    "# Evaluate the Bert classifier\n",
    "accuracy = evaluate_roc(probs, test_y)"
   ]
  },
  {
   "cell_type": "code",
   "execution_count": 34,
   "metadata": {},
   "outputs": [],
   "source": [
    "filename = f'models/binary_bert_arabic_01_acc_{accuracy*100:.2f}.pt'\n",
    "# model_scripted = torch.jit.script(bert_classifier) # Export to TorchScript\n",
    "torch.save(bert_classifier.state_dict(), filename)\n",
    "# pickle.dump(bert_classifier, open(filename, 'wb'))"
   ]
  },
  {
   "cell_type": "code",
   "execution_count": 35,
   "metadata": {},
   "outputs": [
    {
     "data": {
      "text/plain": [
       "<All keys matched successfully>"
      ]
     },
     "execution_count": 35,
     "metadata": {},
     "output_type": "execute_result"
    }
   ],
   "source": [
    "# Loading the model\n",
    "filename = f'models/binary_bert_arabic_01_acc_{accuracy*100:.2f}.pt'\n",
    "# bert_classifier = torch.load(filename, map_location='cpu')\n",
    "bert_classifier.load_state_dict(torch.load(filename, map_location='cpu'))"
   ]
  },
  {
   "cell_type": "code",
   "execution_count": 36,
   "metadata": {},
   "outputs": [
    {
     "name": "stdout",
     "output_type": "stream",
     "text": [
      "AUC: 0.9661\n",
      "Accuracy: 90.50%\n"
     ]
    },
    {
     "data": {
      "image/png": "[encoded data removed]",
      "text/plain": [
       "<Figure size 432x288 with 1 Axes>"
      ]
     },
     "metadata": {
      "needs_background": "light"
     },
     "output_type": "display_data"
    }
   ],
   "source": [
    "# Compute predicted probabilities on the validate set\n",
    "probs = bert_predict(bert_classifier, test_dataloader)\n",
    "\n",
    "# Evaluate the Bert classifier\n",
    "accuracy = evaluate_roc(probs, test_y)"
   ]
  },
  {
   "cell_type": "code",
   "execution_count": 41,
   "metadata": {},
   "outputs": [],
   "source": [
    "# save the BERT layer as a fine tuned BERT model  \n",
    "filename = f'models/bert_pretrained_01_acc_{accuracy*100:.2f}'\n",
    "bert_classifier.bert.save_pretrained(filename)"
   ]
  },
  {
   "cell_type": "code",
   "execution_count": null,
   "metadata": {},
   "outputs": [],
   "source": []
  }
 ],
 "metadata": {
  "interpreter": {
   "hash": "0ca738696e74c3b582319100ac25d026cf0c528d8decfe2c9d2d27159d6836ba"
  },
  "kernelspec": {
   "display_name": "Python 3.10.4 ('Graduation-Project')",
   "language": "python",
   "name": "python3"
  },
  "language_info": {
   "codemirror_mode": {
    "name": "ipython",
    "version": 3
   },
   "file_extension": ".py",
   "mimetype": "text/x-python",
   "name": "python",
   "nbconvert_exporter": "python",
   "pygments_lexer": "ipython3",
   "version": "3.10.4"
  },
  "orig_nbformat": 4
 },
 "nbformat": 4,
 "nbformat_minor": 2
}
