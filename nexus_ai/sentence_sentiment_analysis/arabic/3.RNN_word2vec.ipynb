{
 "cells": [
  {
   "cell_type": "code",
   "execution_count": 1,
   "metadata": {},
   "outputs": [
    {
     "name": "stderr",
     "output_type": "stream",
     "text": [
      "[nltk_data] Downloading package stopwords to\n",
      "[nltk_data]     C:\\Users\\meshari\\AppData\\Roaming\\nltk_data...\n",
      "[nltk_data]   Package stopwords is already up-to-date!\n"
     ]
    }
   ],
   "source": [
    "import pandas as pd\n",
    "from camel_tools.utils.normalize import normalize_unicode\n",
    "from camel_tools.utils.normalize import normalize_alef_maksura_ar\n",
    "from camel_tools.utils.normalize import normalize_alef_ar\n",
    "from camel_tools.utils.normalize import normalize_teh_marbuta_ar\n",
    "from camel_tools.utils.dediac import dediac_ar\n",
    "from camel_tools.tokenizers.word import simple_word_tokenize\n",
    "from collections import Counter\n",
    "import torch\n",
    "import gensim\n",
    "from torch.utils.data import TensorDataset, DataLoader\n",
    "import torch.nn as nn\n",
    "from nexus_ai.sentence_sentiment_analysis import multi_class_model\n",
    "from nexus_ai.sentence_sentiment_analysis import model\n",
    "from nexus_ai.sentence_sentiment_analysis.sentence_sentiment_analysis_model import train, test, predict\n",
    "import numpy as np\n",
    "from nexus_ai.sentence_sentiment_analysis.preprocessing import clean_reviews, creat_vocab, tokenize_data, pad_features, train_test_split, google_clean_reviews, clean_reviews_and_creat_vocab"
   ]
  },
  {
   "cell_type": "code",
   "execution_count": 2,
   "metadata": {},
   "outputs": [
    {
     "data": {
      "text/html": [
       "<div>\n",
       "<style scoped>\n",
       "    .dataframe tbody tr th:only-of-type {\n",
       "        vertical-align: middle;\n",
       "    }\n",
       "\n",
       "    .dataframe tbody tr th {\n",
       "        vertical-align: top;\n",
       "    }\n",
       "\n",
       "    .dataframe thead th {\n",
       "        text-align: right;\n",
       "    }\n",
       "</style>\n",
       "<table border=\"1\" class=\"dataframe\">\n",
       "  <thead>\n",
       "    <tr style=\"text-align: right;\">\n",
       "      <th></th>\n",
       "      <th>label</th>\n",
       "      <th>text</th>\n",
       "    </tr>\n",
       "  </thead>\n",
       "  <tbody>\n",
       "    <tr>\n",
       "      <th>0</th>\n",
       "      <td>Positive</td>\n",
       "      <td>ممتاز نوعا ما . النظافة والموقع والتجهيز والشا...</td>\n",
       "    </tr>\n",
       "    <tr>\n",
       "      <th>1</th>\n",
       "      <td>Positive</td>\n",
       "      <td>أحد أسباب نجاح الإمارات أن كل شخص في هذه الدول...</td>\n",
       "    </tr>\n",
       "    <tr>\n",
       "      <th>2</th>\n",
       "      <td>Positive</td>\n",
       "      <td>هادفة .. وقوية. تنقلك من صخب شوارع القاهرة الى...</td>\n",
       "    </tr>\n",
       "    <tr>\n",
       "      <th>3</th>\n",
       "      <td>Positive</td>\n",
       "      <td>خلصنا .. مبدئيا اللي مستني ابهار زي الفيل الاز...</td>\n",
       "    </tr>\n",
       "    <tr>\n",
       "      <th>4</th>\n",
       "      <td>Positive</td>\n",
       "      <td>ياسات جلوريا جزء لا يتجزأ من دبي . فندق متكامل...</td>\n",
       "    </tr>\n",
       "  </tbody>\n",
       "</table>\n",
       "</div>"
      ],
      "text/plain": [
       "      label                                               text\n",
       "0  Positive  ممتاز نوعا ما . النظافة والموقع والتجهيز والشا...\n",
       "1  Positive  أحد أسباب نجاح الإمارات أن كل شخص في هذه الدول...\n",
       "2  Positive  هادفة .. وقوية. تنقلك من صخب شوارع القاهرة الى...\n",
       "3  Positive  خلصنا .. مبدئيا اللي مستني ابهار زي الفيل الاز...\n",
       "4  Positive  ياسات جلوريا جزء لا يتجزأ من دبي . فندق متكامل..."
      ]
     },
     "execution_count": 2,
     "metadata": {},
     "output_type": "execute_result"
    }
   ],
   "source": [
    "df = pd.read_csv('dataset/ar_reviews_100k.tsv',sep='\\t')\n",
    "df.head()"
   ]
  },
  {
   "cell_type": "code",
   "execution_count": 3,
   "metadata": {},
   "outputs": [
    {
     "name": "stdout",
     "output_type": "stream",
     "text": [
      "number of null valueslabel    0\n",
      "text     0\n",
      "dtype: int64\n",
      "number of duplicate values0\n"
     ]
    }
   ],
   "source": [
    "print(f'number of null values \\n{df.isnull().sum()}')\n",
    "print(f'number of duplicate values is {df.duplicated().sum()}')"
   ]
  },
  {
   "cell_type": "code",
   "execution_count": 4,
   "metadata": {},
   "outputs": [
    {
     "name": "stdout",
     "output_type": "stream",
     "text": [
      "labels ['Positive' 'Mixed' 'Negative']\n"
     ]
    }
   ],
   "source": [
    "labels = df['label'].unique()\n",
    "print(f'labels {labels}')"
   ]
  },
  {
   "cell_type": "markdown",
   "metadata": {},
   "source": [
    "let's tranform Mixed into Neutral"
   ]
  },
  {
   "cell_type": "code",
   "execution_count": 5,
   "metadata": {},
   "outputs": [
    {
     "name": "stdout",
     "output_type": "stream",
     "text": [
      "dataset shape before transforming: (99999, 2)\n",
      "dataset shape after transforming: (99999, 2)\n",
      "labels ['Positive' 'Neutral' 'Negative']\n"
     ]
    }
   ],
   "source": [
    "print(f'dataset shape before transforming: {df.shape}')\n",
    "df.loc[df[df['label']=='Mixed'].index, 'label'] = 'Neutral'\n",
    "# print(len((df[df['label']=='Mixed']).index.to_list()))\n",
    "# print(df.loc[df[(df['label']=='Mixed')].index, :])\n",
    "print(f'dataset shape after transforming: {df.shape}')\n",
    "labels = df['label'].unique()\n",
    "print(f'labels {labels}')"
   ]
  },
  {
   "cell_type": "code",
   "execution_count": 6,
   "metadata": {},
   "outputs": [
    {
     "name": "stdout",
     "output_type": "stream",
     "text": [
      "Positive precentage 33333\n",
      "Negative precentage 33333\n",
      "Neutral precentage 33333\n"
     ]
    }
   ],
   "source": [
    "pos_prec = df[df['label'] == 'Positive'].shape[0]\n",
    "neg_prec = df[df['label'] == 'Negative'].shape[0]\n",
    "nat_prec = df[df['label'] == 'Neutral'].shape[0]\n",
    "print(f'Positive precentage {pos_prec}')\n",
    "print(f'Negative precentage {neg_prec}')\n",
    "print(f'Neutral precentage {nat_prec}')"
   ]
  },
  {
   "cell_type": "markdown",
   "metadata": {},
   "source": [
    "the dataset is balanced which is very good"
   ]
  },
  {
   "cell_type": "markdown",
   "metadata": {},
   "source": [
    "now let's use the camel tools to preproccess the data"
   ]
  },
  {
   "cell_type": "code",
   "execution_count": 7,
   "metadata": {},
   "outputs": [
    {
     "name": "stdout",
     "output_type": "stream",
     "text": [
      "before unicode normalizing\n",
      "['ممتاز نوعا ما . النظافة والموقع والتجهيز والشاطيء. المطعم', 'أحد أسباب نجاح الإمارات أن كل شخص في هذه الدولة يعشق ترابها. نحن نحب الإمارات. ومضات من فكر. نصائح لدولة تطمح بالصفوف الأولى و قائد لا يقبل إلا براحة شعبه وتوفر كل سب العيش الكريم. حكم و مواقف ونصائح لكل فرد فينا ليس بمجرد كتاب سياسي كما كنت اعتقد. يستحق القراءة مرات كثيرة', 'هادفة .. وقوية. تنقلك من صخب شوارع القاهرة الى هدوء جبال الشيشان .. للتعرف على حقيقة ما يجرى فى تلك البلاد من حروب ضاربة بحق المسلمين و جزء كبير من تاريخ تلك المنطقة. التضحية .. الرجولة .. الوفاء والكثير من القيم الأخرى اثبتت وجودها فى تلك الرواية البسيطة', 'خلصنا .. مبدئيا اللي مستني ابهار زي الفيل الازرق ميقراش احسن.. احمد مراد تخطى مرحلة ان القارئ يخلص الرواية وهو فاتح بؤه لمرحلة ان القارئ يخلص الرواية وهو محترم الكاتب.. اتقان مخيف.. بصرف النظر عن اخطاء لا تذكر ف الحوار.. انما احمد مراد سافر عاش حبة ف اوائل القرن العشرين وجه ياخدنا لهناك.. خلطة مشاعر انسانية حقيقية لدرجة غريبة.. دراما نقلته من كاتب شاب بيستعرض لصنايعي حقيقي تثق فيما سيكتب بعد كده.. ربط بين مصر الآن ومصر من سنة هيطمنك ان عجينة الناس دي متغيرتش و زي ما عدت قبل كده هتعدي اي ازمة دلوقتي.. احمد مراد.. كاتب محترف شغال بضميييررر بكل ما تحمل الكلمة من معنى..']\n",
      "after unicode normalizing\n",
      "['ممتاز نوعا ما . النظافة والموقع والتجهيز والشاطيء. المطعم', 'أحد أسباب نجاح الإمارات أن كل شخص في هذه الدولة يعشق ترابها. نحن نحب الإمارات. ومضات من فكر. نصائح لدولة تطمح بالصفوف الأولى و قائد لا يقبل إلا براحة شعبه وتوفر كل سب العيش الكريم. حكم و مواقف ونصائح لكل فرد فينا ليس بمجرد كتاب سياسي كما كنت اعتقد. يستحق القراءة مرات كثيرة', 'هادفة .. وقوية. تنقلك من صخب شوارع القاهرة الى هدوء جبال الشيشان .. للتعرف على حقيقة ما يجرى فى تلك البلاد من حروب ضاربة بحق المسلمين و جزء كبير من تاريخ تلك المنطقة. التضحية .. الرجولة .. الوفاء والكثير من القيم الأخرى اثبتت وجودها فى تلك الرواية البسيطة', 'خلصنا .. مبدئيا اللي مستني ابهار زي الفيل الازرق ميقراش احسن.. احمد مراد تخطى مرحلة ان القارئ يخلص الرواية وهو فاتح بؤه لمرحلة ان القارئ يخلص الرواية وهو محترم الكاتب.. اتقان مخيف.. بصرف النظر عن اخطاء لا تذكر ف الحوار.. انما احمد مراد سافر عاش حبة ف اوائل القرن العشرين وجه ياخدنا لهناك.. خلطة مشاعر انسانية حقيقية لدرجة غريبة.. دراما نقلته من كاتب شاب بيستعرض لصنايعي حقيقي تثق فيما سيكتب بعد كده.. ربط بين مصر الآن ومصر من سنة هيطمنك ان عجينة الناس دي متغيرتش و زي ما عدت قبل كده هتعدي اي ازمة دلوقتي.. احمد مراد.. كاتب محترف شغال بضميييررر بكل ما تحمل الكلمة من معنى..']\n"
     ]
    }
   ],
   "source": [
    "print('before unicode normalizing')\n",
    "print(df.loc[:3, 'text'].to_list())\n",
    "df['text'] = df['text'].apply(lambda x: normalize_unicode(x))\n",
    "\n",
    "print('after unicode normalizing')\n",
    "print(df.loc[:3, 'text'].to_list())"
   ]
  },
  {
   "cell_type": "code",
   "execution_count": 8,
   "metadata": {},
   "outputs": [
    {
     "name": "stdout",
     "output_type": "stream",
     "text": [
      "oringinal text\n",
      "['ممتاز نوعا ما . النظافة والموقع والتجهيز والشاطيء. المطعم', 'أحد أسباب نجاح الإمارات أن كل شخص في هذه الدولة يعشق ترابها. نحن نحب الإمارات. ومضات من فكر. نصائح لدولة تطمح بالصفوف الأولى و قائد لا يقبل إلا براحة شعبه وتوفر كل سب العيش الكريم. حكم و مواقف ونصائح لكل فرد فينا ليس بمجرد كتاب سياسي كما كنت اعتقد. يستحق القراءة مرات كثيرة', 'هادفة .. وقوية. تنقلك من صخب شوارع القاهرة الى هدوء جبال الشيشان .. للتعرف على حقيقة ما يجرى فى تلك البلاد من حروب ضاربة بحق المسلمين و جزء كبير من تاريخ تلك المنطقة. التضحية .. الرجولة .. الوفاء والكثير من القيم الأخرى اثبتت وجودها فى تلك الرواية البسيطة', 'خلصنا .. مبدئيا اللي مستني ابهار زي الفيل الازرق ميقراش احسن.. احمد مراد تخطى مرحلة ان القارئ يخلص الرواية وهو فاتح بؤه لمرحلة ان القارئ يخلص الرواية وهو محترم الكاتب.. اتقان مخيف.. بصرف النظر عن اخطاء لا تذكر ف الحوار.. انما احمد مراد سافر عاش حبة ف اوائل القرن العشرين وجه ياخدنا لهناك.. خلطة مشاعر انسانية حقيقية لدرجة غريبة.. دراما نقلته من كاتب شاب بيستعرض لصنايعي حقيقي تثق فيما سيكتب بعد كده.. ربط بين مصر الآن ومصر من سنة هيطمنك ان عجينة الناس دي متغيرتش و زي ما عدت قبل كده هتعدي اي ازمة دلوقتي.. احمد مراد.. كاتب محترف شغال بضميييررر بكل ما تحمل الكلمة من معنى..']\n",
      "text after Normalizing alef variants to (ا)\n",
      "['ممتاز نوعا ما . النظافة والموقع والتجهيز والشاطيء. المطعم', 'احد اسباب نجاح الامارات ان كل شخص في هذه الدولة يعشق ترابها. نحن نحب الامارات. ومضات من فكر. نصائح لدولة تطمح بالصفوف الاولى و قائد لا يقبل الا براحة شعبه وتوفر كل سب العيش الكريم. حكم و مواقف ونصائح لكل فرد فينا ليس بمجرد كتاب سياسي كما كنت اعتقد. يستحق القراءة مرات كثيرة', 'هادفة .. وقوية. تنقلك من صخب شوارع القاهرة الى هدوء جبال الشيشان .. للتعرف على حقيقة ما يجرى فى تلك البلاد من حروب ضاربة بحق المسلمين و جزء كبير من تاريخ تلك المنطقة. التضحية .. الرجولة .. الوفاء والكثير من القيم الاخرى اثبتت وجودها فى تلك الرواية البسيطة', 'خلصنا .. مبدئيا اللي مستني ابهار زي الفيل الازرق ميقراش احسن.. احمد مراد تخطى مرحلة ان القارئ يخلص الرواية وهو فاتح بؤه لمرحلة ان القارئ يخلص الرواية وهو محترم الكاتب.. اتقان مخيف.. بصرف النظر عن اخطاء لا تذكر ف الحوار.. انما احمد مراد سافر عاش حبة ف اوائل القرن العشرين وجه ياخدنا لهناك.. خلطة مشاعر انسانية حقيقية لدرجة غريبة.. دراما نقلته من كاتب شاب بيستعرض لصنايعي حقيقي تثق فيما سيكتب بعد كده.. ربط بين مصر الان ومصر من سنة هيطمنك ان عجينة الناس دي متغيرتش و زي ما عدت قبل كده هتعدي اي ازمة دلوقتي.. احمد مراد.. كاتب محترف شغال بضميييررر بكل ما تحمل الكلمة من معنى..']\n",
      "text after Normalizing alef maksura (ى) to yeh (ي)\n",
      "['ممتاز نوعا ما . النظافة والموقع والتجهيز والشاطيء. المطعم', 'احد اسباب نجاح الامارات ان كل شخص في هذه الدولة يعشق ترابها. نحن نحب الامارات. ومضات من فكر. نصائح لدولة تطمح بالصفوف الاولي و قائد لا يقبل الا براحة شعبه وتوفر كل سب العيش الكريم. حكم و مواقف ونصائح لكل فرد فينا ليس بمجرد كتاب سياسي كما كنت اعتقد. يستحق القراءة مرات كثيرة', 'هادفة .. وقوية. تنقلك من صخب شوارع القاهرة الي هدوء جبال الشيشان .. للتعرف علي حقيقة ما يجري في تلك البلاد من حروب ضاربة بحق المسلمين و جزء كبير من تاريخ تلك المنطقة. التضحية .. الرجولة .. الوفاء والكثير من القيم الاخري اثبتت وجودها في تلك الرواية البسيطة', 'خلصنا .. مبدئيا اللي مستني ابهار زي الفيل الازرق ميقراش احسن.. احمد مراد تخطي مرحلة ان القارئ يخلص الرواية وهو فاتح بؤه لمرحلة ان القارئ يخلص الرواية وهو محترم الكاتب.. اتقان مخيف.. بصرف النظر عن اخطاء لا تذكر ف الحوار.. انما احمد مراد سافر عاش حبة ف اوائل القرن العشرين وجه ياخدنا لهناك.. خلطة مشاعر انسانية حقيقية لدرجة غريبة.. دراما نقلته من كاتب شاب بيستعرض لصنايعي حقيقي تثق فيما سيكتب بعد كده.. ربط بين مصر الان ومصر من سنة هيطمنك ان عجينة الناس دي متغيرتش و زي ما عدت قبل كده هتعدي اي ازمة دلوقتي.. احمد مراد.. كاتب محترف شغال بضميييررر بكل ما تحمل الكلمة من معني..']\n",
      "text after Normalizing teh marbuta (ة) to heh (ه)\n",
      "['ممتاز نوعا ما . النظافه والموقع والتجهيز والشاطيء. المطعم', 'احد اسباب نجاح الامارات ان كل شخص في هذه الدوله يعشق ترابها. نحن نحب الامارات. ومضات من فكر. نصائح لدوله تطمح بالصفوف الاولي و قائد لا يقبل الا براحه شعبه وتوفر كل سب العيش الكريم. حكم و مواقف ونصائح لكل فرد فينا ليس بمجرد كتاب سياسي كما كنت اعتقد. يستحق القراءه مرات كثيره', 'هادفه .. وقويه. تنقلك من صخب شوارع القاهره الي هدوء جبال الشيشان .. للتعرف علي حقيقه ما يجري في تلك البلاد من حروب ضاربه بحق المسلمين و جزء كبير من تاريخ تلك المنطقه. التضحيه .. الرجوله .. الوفاء والكثير من القيم الاخري اثبتت وجودها في تلك الروايه البسيطه', 'خلصنا .. مبدئيا اللي مستني ابهار زي الفيل الازرق ميقراش احسن.. احمد مراد تخطي مرحله ان القارئ يخلص الروايه وهو فاتح بؤه لمرحله ان القارئ يخلص الروايه وهو محترم الكاتب.. اتقان مخيف.. بصرف النظر عن اخطاء لا تذكر ف الحوار.. انما احمد مراد سافر عاش حبه ف اوائل القرن العشرين وجه ياخدنا لهناك.. خلطه مشاعر انسانيه حقيقيه لدرجه غريبه.. دراما نقلته من كاتب شاب بيستعرض لصنايعي حقيقي تثق فيما سيكتب بعد كده.. ربط بين مصر الان ومصر من سنه هيطمنك ان عجينه الناس دي متغيرتش و زي ما عدت قبل كده هتعدي اي ازمه دلوقتي.. احمد مراد.. كاتب محترف شغال بضميييررر بكل ما تحمل الكلمه من معني..']\n"
     ]
    }
   ],
   "source": [
    "print('oringinal text')\n",
    "print(df.loc[:3, 'text'].to_list())\n",
    "\n",
    "\n",
    "df['text'] = df['text'].apply(lambda x: normalize_alef_ar(x))\n",
    "print('text after Normalizing alef variants to (ا)')\n",
    "print(df.loc[:3, 'text'].to_list())\n",
    "\n",
    "\n",
    "df['text'] = df['text'].apply(lambda x: normalize_alef_maksura_ar(x))\n",
    "print('text after Normalizing alef maksura (ى) to yeh (ي)')\n",
    "print(df.loc[:3, 'text'].to_list())\n",
    "\n",
    "df['text'] = df['text'].apply(lambda x: normalize_teh_marbuta_ar(x))\n",
    "print('text after Normalizing teh marbuta (ة) to heh (ه)')\n",
    "print(df.loc[:3, 'text'].to_list())"
   ]
  },
  {
   "cell_type": "code",
   "execution_count": 9,
   "metadata": {},
   "outputs": [
    {
     "name": "stdout",
     "output_type": "stream",
     "text": [
      "oringinal text\n",
      "['ممتاز نوعا ما . النظافه والموقع والتجهيز والشاطيء. المطعم', 'احد اسباب نجاح الامارات ان كل شخص في هذه الدوله يعشق ترابها. نحن نحب الامارات. ومضات من فكر. نصائح لدوله تطمح بالصفوف الاولي و قائد لا يقبل الا براحه شعبه وتوفر كل سب العيش الكريم. حكم و مواقف ونصائح لكل فرد فينا ليس بمجرد كتاب سياسي كما كنت اعتقد. يستحق القراءه مرات كثيره', 'هادفه .. وقويه. تنقلك من صخب شوارع القاهره الي هدوء جبال الشيشان .. للتعرف علي حقيقه ما يجري في تلك البلاد من حروب ضاربه بحق المسلمين و جزء كبير من تاريخ تلك المنطقه. التضحيه .. الرجوله .. الوفاء والكثير من القيم الاخري اثبتت وجودها في تلك الروايه البسيطه', 'خلصنا .. مبدئيا اللي مستني ابهار زي الفيل الازرق ميقراش احسن.. احمد مراد تخطي مرحله ان القارئ يخلص الروايه وهو فاتح بؤه لمرحله ان القارئ يخلص الروايه وهو محترم الكاتب.. اتقان مخيف.. بصرف النظر عن اخطاء لا تذكر ف الحوار.. انما احمد مراد سافر عاش حبه ف اوائل القرن العشرين وجه ياخدنا لهناك.. خلطه مشاعر انسانيه حقيقيه لدرجه غريبه.. دراما نقلته من كاتب شاب بيستعرض لصنايعي حقيقي تثق فيما سيكتب بعد كده.. ربط بين مصر الان ومصر من سنه هيطمنك ان عجينه الناس دي متغيرتش و زي ما عدت قبل كده هتعدي اي ازمه دلوقتي.. احمد مراد.. كاتب محترف شغال بضميييررر بكل ما تحمل الكلمه من معني..']\n",
      "text after removing Arabic diacritical marks\n",
      "['ممتاز نوعا ما . النظافه والموقع والتجهيز والشاطيء. المطعم', 'احد اسباب نجاح الامارات ان كل شخص في هذه الدوله يعشق ترابها. نحن نحب الامارات. ومضات من فكر. نصائح لدوله تطمح بالصفوف الاولي و قائد لا يقبل الا براحه شعبه وتوفر كل سب العيش الكريم. حكم و مواقف ونصائح لكل فرد فينا ليس بمجرد كتاب سياسي كما كنت اعتقد. يستحق القراءه مرات كثيره', 'هادفه .. وقويه. تنقلك من صخب شوارع القاهره الي هدوء جبال الشيشان .. للتعرف علي حقيقه ما يجري في تلك البلاد من حروب ضاربه بحق المسلمين و جزء كبير من تاريخ تلك المنطقه. التضحيه .. الرجوله .. الوفاء والكثير من القيم الاخري اثبتت وجودها في تلك الروايه البسيطه', 'خلصنا .. مبدئيا اللي مستني ابهار زي الفيل الازرق ميقراش احسن.. احمد مراد تخطي مرحله ان القارئ يخلص الروايه وهو فاتح بؤه لمرحله ان القارئ يخلص الروايه وهو محترم الكاتب.. اتقان مخيف.. بصرف النظر عن اخطاء لا تذكر ف الحوار.. انما احمد مراد سافر عاش حبه ف اوائل القرن العشرين وجه ياخدنا لهناك.. خلطه مشاعر انسانيه حقيقيه لدرجه غريبه.. دراما نقلته من كاتب شاب بيستعرض لصنايعي حقيقي تثق فيما سيكتب بعد كده.. ربط بين مصر الان ومصر من سنه هيطمنك ان عجينه الناس دي متغيرتش و زي ما عدت قبل كده هتعدي اي ازمه دلوقتي.. احمد مراد.. كاتب محترف شغال بضميييررر بكل ما تحمل الكلمه من معني..']\n"
     ]
    }
   ],
   "source": [
    "print('oringinal text')\n",
    "print(df.loc[:3, 'text'].to_list())\n",
    "\n",
    "\n",
    "df['text'] = df['text'].apply(lambda x: dediac_ar(x))\n",
    "print('text after removing Arabic diacritical marks')\n",
    "print(df.loc[:3, 'text'].to_list())"
   ]
  },
  {
   "cell_type": "markdown",
   "metadata": {},
   "source": [
    "sadly even in the sample original text there was no Arabic diacritical marks, but we now that it did what it should do"
   ]
  },
  {
   "cell_type": "code",
   "execution_count": 10,
   "metadata": {},
   "outputs": [
    {
     "name": "stdout",
     "output_type": "stream",
     "text": [
      "oringinal text\n",
      "['ممتاز نوعا ما . النظافه والموقع والتجهيز والشاطيء. المطعم', 'احد اسباب نجاح الامارات ان كل شخص في هذه الدوله يعشق ترابها. نحن نحب الامارات. ومضات من فكر. نصائح لدوله تطمح بالصفوف الاولي و قائد لا يقبل الا براحه شعبه وتوفر كل سب العيش الكريم. حكم و مواقف ونصائح لكل فرد فينا ليس بمجرد كتاب سياسي كما كنت اعتقد. يستحق القراءه مرات كثيره', 'هادفه .. وقويه. تنقلك من صخب شوارع القاهره الي هدوء جبال الشيشان .. للتعرف علي حقيقه ما يجري في تلك البلاد من حروب ضاربه بحق المسلمين و جزء كبير من تاريخ تلك المنطقه. التضحيه .. الرجوله .. الوفاء والكثير من القيم الاخري اثبتت وجودها في تلك الروايه البسيطه', 'خلصنا .. مبدئيا اللي مستني ابهار زي الفيل الازرق ميقراش احسن.. احمد مراد تخطي مرحله ان القارئ يخلص الروايه وهو فاتح بؤه لمرحله ان القارئ يخلص الروايه وهو محترم الكاتب.. اتقان مخيف.. بصرف النظر عن اخطاء لا تذكر ف الحوار.. انما احمد مراد سافر عاش حبه ف اوائل القرن العشرين وجه ياخدنا لهناك.. خلطه مشاعر انسانيه حقيقيه لدرجه غريبه.. دراما نقلته من كاتب شاب بيستعرض لصنايعي حقيقي تثق فيما سيكتب بعد كده.. ربط بين مصر الان ومصر من سنه هيطمنك ان عجينه الناس دي متغيرتش و زي ما عدت قبل كده هتعدي اي ازمه دلوقتي.. احمد مراد.. كاتب محترف شغال بضميييررر بكل ما تحمل الكلمه من معني..']\n",
      "text after splitting\n",
      "[['ممتاز', 'نوعا', 'ما', '.', 'النظافه', 'والموقع', 'والتجهيز', 'والشاطيء', '.', 'المطعم'], ['احد', 'اسباب', 'نجاح', 'الامارات', 'ان', 'كل', 'شخص', 'في', 'هذه', 'الدوله', 'يعشق', 'ترابها', '.', 'نحن', 'نحب', 'الامارات', '.', 'ومضات', 'من', 'فكر', '.', 'نصائح', 'لدوله', 'تطمح', 'بالصفوف', 'الاولي', 'و', 'قائد', 'لا', 'يقبل', 'الا', 'براحه', 'شعبه', 'وتوفر', 'كل', 'سب', 'العيش', 'الكريم', '.', 'حكم', 'و', 'مواقف', 'ونصائح', 'لكل', 'فرد', 'فينا', 'ليس', 'بمجرد', 'كتاب', 'سياسي', 'كما', 'كنت', 'اعتقد', '.', 'يستحق', 'القراءه', 'مرات', 'كثيره'], ['هادفه', '.', '.', 'وقويه', '.', 'تنقلك', 'من', 'صخب', 'شوارع', 'القاهره', 'الي', 'هدوء', 'جبال', 'الشيشان', '.', '.', 'للتعرف', 'علي', 'حقيقه', 'ما', 'يجري', 'في', 'تلك', 'البلاد', 'من', 'حروب', 'ضاربه', 'بحق', 'المسلمين', 'و', 'جزء', 'كبير', 'من', 'تاريخ', 'تلك', 'المنطقه', '.', 'التضحيه', '.', '.', 'الرجوله', '.', '.', 'الوفاء', 'والكثير', 'من', 'القيم', 'الاخري', 'اثبتت', 'وجودها', 'في', 'تلك', 'الروايه', 'البسيطه'], ['خلصنا', '.', '.', 'مبدئيا', 'اللي', 'مستني', 'ابهار', 'زي', 'الفيل', 'الازرق', 'ميقراش', 'احسن', '.', '.', 'احمد', 'مراد', 'تخطي', 'مرحله', 'ان', 'القارئ', 'يخلص', 'الروايه', 'وهو', 'فاتح', 'بؤه', 'لمرحله', 'ان', 'القارئ', 'يخلص', 'الروايه', 'وهو', 'محترم', 'الكاتب', '.', '.', 'اتقان', 'مخيف', '.', '.', 'بصرف', 'النظر', 'عن', 'اخطاء', 'لا', 'تذكر', 'ف', 'الحوار', '.', '.', 'انما', 'احمد', 'مراد', 'سافر', 'عاش', 'حبه', 'ف', 'اوائل', 'القرن', 'العشرين', 'وجه', 'ياخدنا', 'لهناك', '.', '.', 'خلطه', 'مشاعر', 'انسانيه', 'حقيقيه', 'لدرجه', 'غريبه', '.', '.', 'دراما', 'نقلته', 'من', 'كاتب', 'شاب', 'بيستعرض', 'لصنايعي', 'حقيقي', 'تثق', 'فيما', 'سيكتب', 'بعد', 'كده', '.', '.', 'ربط', 'بين', 'مصر', 'الان', 'ومصر', 'من', 'سنه', 'هيطمنك', 'ان', 'عجينه', 'الناس', 'دي', 'متغيرتش', 'و', 'زي', 'ما', 'عدت', 'قبل', 'كده', 'هتعدي', 'اي', 'ازمه', 'دلوقتي', '.', '.', 'احمد', 'مراد', '.', '.', 'كاتب', 'محترف', 'شغال', 'بضميييررر', 'بكل', 'ما', 'تحمل', 'الكلمه', 'من', 'معني', '.', '.']]\n"
     ]
    }
   ],
   "source": [
    "print('oringinal text')\n",
    "print(df.loc[:3, 'text'].to_list())\n",
    "\n",
    "\n",
    "df['text'] = df['text'].apply(lambda x: simple_word_tokenize(x))\n",
    "print('text after splitting')\n",
    "print(df.loc[:3, 'text'].to_list())"
   ]
  },
  {
   "cell_type": "code",
   "execution_count": 11,
   "metadata": {},
   "outputs": [],
   "source": [
    "# get tokens for pretrained model\n",
    "embd_model = gensim.models.Word2Vec.load('word2vec/word2vec.model')\n",
    "reviews = df['text'].tolist()\n",
    "reviews_ints = []\n",
    "for review in reviews:\n",
    "    # 662109 is the new unknown token added: check the word2vec_add_unk_token notebook to see the procees\n",
    "    reviews_ints.append([embd_model.wv.key_to_index.get(word, 662109) for word in review])"
   ]
  },
  {
   "cell_type": "code",
   "execution_count": 12,
   "metadata": {},
   "outputs": [
    {
     "name": "stdout",
     "output_type": "stream",
     "text": [
      "['ممتاز', 'نوعا', 'ما', '.', 'النظافه', 'والموقع', 'والتجهيز', 'والشاطيء', '.', 'المطعم']\n",
      "[10346, 1660, 27, 0, 20203, 26486, 62562, 659320, 0, 12469]\n"
     ]
    }
   ],
   "source": [
    "print(reviews[0])\n",
    "print(reviews_ints[0])"
   ]
  },
  {
   "cell_type": "code",
   "execution_count": 13,
   "metadata": {},
   "outputs": [
    {
     "name": "stdout",
     "output_type": "stream",
     "text": [
      "encoded_labels class distribution:\n",
      "(0, 33333)\n",
      "(1, 33333)\n",
      "(2, 33333)\n"
     ]
    }
   ],
   "source": [
    "labels = df['label'].tolist()\n",
    "encoded_labels = []\n",
    "for label in labels:\n",
    "    if label == 'Positive':\n",
    "        encoded_labels.append(2)\n",
    "    if label == 'Neutral':\n",
    "        encoded_labels.append(1)\n",
    "    elif label == 'Negative':\n",
    "        encoded_labels.append(0) \n",
    "\n",
    "unique, counts = np.unique(encoded_labels, return_counts=True)\n",
    "distribution = dict(zip(unique, counts))\n",
    "print('encoded_labels class distribution:')\n",
    "for item in distribution.items():\n",
    "    print(item)"
   ]
  },
  {
   "cell_type": "code",
   "execution_count": 14,
   "metadata": {},
   "outputs": [],
   "source": [
    "features = pad_features(reviews_ints, 256)"
   ]
  },
  {
   "cell_type": "code",
   "execution_count": 15,
   "metadata": {},
   "outputs": [
    {
     "name": "stdout",
     "output_type": "stream",
     "text": [
      "(99999, 256)\n"
     ]
    }
   ],
   "source": [
    "print(features.shape)"
   ]
  },
  {
   "cell_type": "code",
   "execution_count": 16,
   "metadata": {},
   "outputs": [
    {
     "name": "stdout",
     "output_type": "stream",
     "text": [
      "make sure the classes (labels) are sorted to have a balanced splits\n"
     ]
    }
   ],
   "source": [
    "train_x, validate_x, test_x, train_y, validate_y, test_y = train_test_split(features, encoded_labels, numclasses=3, train_frac=0.8, balanced=True)"
   ]
  },
  {
   "cell_type": "code",
   "execution_count": 17,
   "metadata": {},
   "outputs": [
    {
     "name": "stdout",
     "output_type": "stream",
     "text": [
      "train_y class distribution:\n",
      "(0, 26666)\n",
      "(1, 26667)\n",
      "(2, 26667)\n",
      "validate_y class distribution:\n",
      "(0, 3333)\n",
      "(1, 3333)\n",
      "(2, 3333)\n",
      "test_y class distribution:\n",
      "(0, 3333)\n",
      "(1, 3333)\n",
      "(2, 3333)\n"
     ]
    }
   ],
   "source": [
    "unique, counts = np.unique(train_y, return_counts=True)\n",
    "distribution = dict(zip(unique, counts))\n",
    "print('train_y class distribution:')\n",
    "for item in distribution.items():\n",
    "    print(item)\n",
    "\n",
    "unique, counts = np.unique(validate_y, return_counts=True)\n",
    "distribution = dict(zip(unique, counts))\n",
    "print('validate_y class distribution:')\n",
    "for item in distribution.items():\n",
    "    print(item)\n",
    "\n",
    "unique, counts = np.unique(test_y, return_counts=True)\n",
    "distribution = dict(zip(unique, counts))\n",
    "print('test_y class distribution:')\n",
    "for item in distribution.items():\n",
    "    print(item)"
   ]
  },
  {
   "cell_type": "code",
   "execution_count": 18,
   "metadata": {},
   "outputs": [
    {
     "name": "stdout",
     "output_type": "stream",
     "text": [
      "(80000, 256) (80000,)\n",
      "(9999, 256) (9999,)\n",
      "(9999, 256) (9999,)\n"
     ]
    }
   ],
   "source": [
    "print(train_x.shape, train_y.shape)\n",
    "print(validate_x.shape, validate_y.shape)\n",
    "print(test_x.shape, test_y.shape)"
   ]
  },
  {
   "cell_type": "code",
   "execution_count": 19,
   "metadata": {},
   "outputs": [],
   "source": [
    "#creating data loaders to be used in training and testing \n",
    "train_data = TensorDataset(torch.from_numpy(train_x), torch.from_numpy(train_y))\n",
    "valid_data = TensorDataset(torch.from_numpy(validate_x), torch.from_numpy(validate_y))\n",
    "test_data = TensorDataset(torch.from_numpy(test_x), torch.from_numpy(test_y))\n",
    "\n",
    "#batch_size for dataloaders\n",
    "batch_size = 256\n",
    "\n",
    "num_worker = 0\n",
    "\n",
    "train_loader = DataLoader(train_data, shuffle=True, batch_size=batch_size, drop_last=True, num_workers=num_worker)\n",
    "valid_loader = DataLoader(valid_data, shuffle=True, batch_size=batch_size, drop_last=True, num_workers=num_worker)\n",
    "test_loader = DataLoader(test_data, shuffle=True, batch_size=batch_size, drop_last=True, num_workers=num_worker)"
   ]
  },
  {
   "cell_type": "markdown",
   "metadata": {},
   "source": [
    "since the dataset are not very large let's try a few architecture, while doing a simple grid search for each architecture optimal learning rate"
   ]
  },
  {
   "cell_type": "code",
   "execution_count": 20,
   "id": "4e375c69",
   "metadata": {},
   "outputs": [
    {
     "name": "stdout",
     "output_type": "stream",
     "text": [
      "ar_word2vec_RNN(\n",
      "  (embd): Embedding(662110, 300)\n",
      "  (lstm): LSTM(300, 100, num_layers=2, batch_first=True, dropout=0.3)\n",
      "  (dropout): Dropout(p=0.3, inplace=False)\n",
      "  (fc1): Linear(in_features=100, out_features=3, bias=True)\n",
      "  (LogSoftmax): LogSoftmax(dim=1)\n",
      ")\n",
      "training with learning rate of 0.001....\n",
      "Epoch: 1/10... Step: 312... Loss: 1.099592... Val Loss: 1.098465\n",
      "Validation loss decreased (inf --> 1.098465).  Saving model ...\n",
      "Epoch: 2/10... Step: 624... Loss: 1.064780... Val Loss: 1.047024\n",
      "Validation loss decreased (1.098465 --> 1.047024).  Saving model ...\n",
      "Epoch: 3/10... Step: 936... Loss: 0.889849... Val Loss: 0.856504\n",
      "Validation loss decreased (1.047024 --> 0.856504).  Saving model ...\n",
      "Epoch: 4/10... Step: 1248... Loss: 0.850127... Val Loss: 0.833803\n",
      "Validation loss decreased (0.856504 --> 0.833803).  Saving model ...\n",
      "Epoch: 5/10... Step: 1560... Loss: 0.720864... Val Loss: 0.773401\n",
      "Validation loss decreased (0.833803 --> 0.773401).  Saving model ...\n",
      "Epoch: 6/10... Step: 1872... Loss: 0.674691... Val Loss: 0.758970\n",
      "Validation loss decreased (0.773401 --> 0.758970).  Saving model ...\n",
      "Epoch: 7/10... Step: 2184... Loss: 0.739204... Val Loss: 0.749064\n",
      "Validation loss decreased (0.758970 --> 0.749064).  Saving model ...\n",
      "Epoch: 8/10... Step: 2496... Loss: 0.730032... Val Loss: 0.741171\n",
      "Validation loss decreased (0.749064 --> 0.741171).  Saving model ...\n",
      "Epoch: 9/10... Step: 2808... Loss: 0.627455... Val Loss: 0.744471\n",
      "Epoch: 10/10... Step: 3120... Loss: 0.676887... Val Loss: 0.742707\n",
      "\n",
      "\n",
      "\n",
      "\n",
      "\n",
      "ar_word2vec_RNN(\n",
      "  (embd): Embedding(662110, 300)\n",
      "  (lstm): LSTM(300, 100, num_layers=2, batch_first=True, dropout=0.3)\n",
      "  (dropout): Dropout(p=0.3, inplace=False)\n",
      "  (fc1): Linear(in_features=100, out_features=3, bias=True)\n",
      "  (LogSoftmax): LogSoftmax(dim=1)\n",
      ")\n",
      "training with learning rate of 0.002....\n",
      "Epoch: 1/10... Step: 312... Loss: 1.099331... Val Loss: 1.098588\n",
      "Validation loss decreased (inf --> 1.098588).  Saving model ...\n",
      "Epoch: 2/10... Step: 624... Loss: 1.000278... Val Loss: 1.018051\n",
      "Validation loss decreased (1.098588 --> 1.018051).  Saving model ...\n",
      "Epoch: 3/10... Step: 936... Loss: 0.984000... Val Loss: 0.954720\n",
      "Validation loss decreased (1.018051 --> 0.954720).  Saving model ...\n",
      "Epoch: 4/10... Step: 1248... Loss: 0.931471... Val Loss: 0.947520\n",
      "Validation loss decreased (0.954720 --> 0.947520).  Saving model ...\n",
      "Epoch: 5/10... Step: 1560... Loss: 0.833812... Val Loss: 0.851387\n",
      "Validation loss decreased (0.947520 --> 0.851387).  Saving model ...\n",
      "Epoch: 6/10... Step: 1872... Loss: 0.835831... Val Loss: 0.879766\n",
      "Epoch: 7/10... Step: 2184... Loss: 0.815954... Val Loss: 0.879578\n",
      "Epoch: 8/10... Step: 2496... Loss: 0.864819... Val Loss: 0.866206\n",
      "Epoch: 9/10... Step: 2808... Loss: 0.825614... Val Loss: 0.867873\n",
      "Epoch: 10/10... Step: 3120... Loss: 0.954976... Val Loss: 0.874072\n",
      "\n",
      "\n",
      "\n",
      "\n",
      "\n",
      "ar_word2vec_RNN(\n",
      "  (embd): Embedding(662110, 300)\n",
      "  (lstm): LSTM(300, 100, num_layers=2, batch_first=True, dropout=0.3)\n",
      "  (dropout): Dropout(p=0.3, inplace=False)\n",
      "  (fc1): Linear(in_features=100, out_features=3, bias=True)\n",
      "  (LogSoftmax): LogSoftmax(dim=1)\n",
      ")\n",
      "training with learning rate of 0.003....\n",
      "Epoch: 1/10... Step: 312... Loss: 1.098771... Val Loss: 1.098368\n",
      "Validation loss decreased (inf --> 1.098368).  Saving model ...\n",
      "Epoch: 2/10... Step: 624... Loss: 0.975179... Val Loss: 0.970311\n",
      "Validation loss decreased (1.098368 --> 0.970311).  Saving model ...\n",
      "Epoch: 3/10... Step: 936... Loss: 0.902481... Val Loss: 0.942235\n",
      "Validation loss decreased (0.970311 --> 0.942235).  Saving model ...\n",
      "Epoch: 4/10... Step: 1248... Loss: 0.868152... Val Loss: 0.903473\n",
      "Validation loss decreased (0.942235 --> 0.903473).  Saving model ...\n",
      "Epoch: 5/10... Step: 1560... Loss: 0.942789... Val Loss: 0.886147\n",
      "Validation loss decreased (0.903473 --> 0.886147).  Saving model ...\n",
      "Epoch: 6/10... Step: 1872... Loss: 0.893698... Val Loss: 0.889158\n",
      "Epoch: 7/10... Step: 2184... Loss: 0.792670... Val Loss: 0.871819\n",
      "Validation loss decreased (0.886147 --> 0.871819).  Saving model ...\n",
      "Epoch: 8/10... Step: 2496... Loss: 0.887006... Val Loss: 0.875761\n",
      "Epoch: 9/10... Step: 2808... Loss: 0.895622... Val Loss: 0.852034\n",
      "Validation loss decreased (0.871819 --> 0.852034).  Saving model ...\n",
      "Epoch: 10/10... Step: 3120... Loss: 0.824207... Val Loss: 0.865684\n",
      "\n",
      "\n",
      "\n",
      "\n",
      "\n",
      "ar_word2vec_RNN(\n",
      "  (embd): Embedding(662110, 300)\n",
      "  (lstm): LSTM(300, 100, num_layers=2, batch_first=True, dropout=0.3)\n",
      "  (dropout): Dropout(p=0.3, inplace=False)\n",
      "  (fc1): Linear(in_features=100, out_features=3, bias=True)\n",
      "  (LogSoftmax): LogSoftmax(dim=1)\n",
      ")\n",
      "training with learning rate of 0.004....\n",
      "Epoch: 1/10... Step: 312... Loss: 1.098352... Val Loss: 1.098503\n",
      "Validation loss decreased (inf --> 1.098503).  Saving model ...\n",
      "Epoch: 2/10... Step: 624... Loss: 1.066219... Val Loss: 1.035922\n",
      "Validation loss decreased (1.098503 --> 1.035922).  Saving model ...\n",
      "Epoch: 3/10... Step: 936... Loss: 0.987691... Val Loss: 0.974682\n",
      "Validation loss decreased (1.035922 --> 0.974682).  Saving model ...\n",
      "Epoch: 4/10... Step: 1248... Loss: 1.007038... Val Loss: 0.969021\n",
      "Validation loss decreased (0.974682 --> 0.969021).  Saving model ...\n",
      "Epoch: 5/10... Step: 1560... Loss: 0.936006... Val Loss: 0.942452\n",
      "Validation loss decreased (0.969021 --> 0.942452).  Saving model ...\n",
      "Epoch: 6/10... Step: 1872... Loss: 0.881719... Val Loss: 0.927066\n",
      "Validation loss decreased (0.942452 --> 0.927066).  Saving model ...\n",
      "Epoch: 7/10... Step: 2184... Loss: 0.943033... Val Loss: 0.904361\n",
      "Validation loss decreased (0.927066 --> 0.904361).  Saving model ...\n",
      "Epoch: 8/10... Step: 2496... Loss: 0.907986... Val Loss: 0.894988\n",
      "Validation loss decreased (0.904361 --> 0.894988).  Saving model ...\n",
      "Epoch: 9/10... Step: 2808... Loss: 0.792526... Val Loss: 0.849610\n",
      "Validation loss decreased (0.894988 --> 0.849610).  Saving model ...\n",
      "Epoch: 10/10... Step: 3120... Loss: 0.789887... Val Loss: 0.814817\n",
      "Validation loss decreased (0.849610 --> 0.814817).  Saving model ...\n",
      "\n",
      "\n",
      "\n",
      "\n",
      "\n",
      "ar_word2vec_RNN(\n",
      "  (embd): Embedding(662110, 300)\n",
      "  (lstm): LSTM(300, 100, num_layers=2, batch_first=True, dropout=0.3)\n",
      "  (dropout): Dropout(p=0.3, inplace=False)\n",
      "  (fc1): Linear(in_features=100, out_features=3, bias=True)\n",
      "  (LogSoftmax): LogSoftmax(dim=1)\n",
      ")\n",
      "training with learning rate of 0.005....\n",
      "Epoch: 1/10... Step: 312... Loss: 1.100932... Val Loss: 1.098374\n",
      "Validation loss decreased (inf --> 1.098374).  Saving model ...\n",
      "Epoch: 2/10... Step: 624... Loss: 1.041340... Val Loss: 1.032193\n",
      "Validation loss decreased (1.098374 --> 1.032193).  Saving model ...\n",
      "Epoch: 3/10... Step: 936... Loss: 1.053387... Val Loss: 0.991597\n",
      "Validation loss decreased (1.032193 --> 0.991597).  Saving model ...\n",
      "Epoch: 4/10... Step: 1248... Loss: 0.961058... Val Loss: 0.977828\n",
      "Validation loss decreased (0.991597 --> 0.977828).  Saving model ...\n",
      "Epoch: 5/10... Step: 1560... Loss: 0.950494... Val Loss: 0.937008\n",
      "Validation loss decreased (0.977828 --> 0.937008).  Saving model ...\n",
      "Epoch: 6/10... Step: 1872... Loss: 0.951044... Val Loss: 0.953478\n",
      "Epoch: 7/10... Step: 2184... Loss: 0.882357... Val Loss: 0.931615\n",
      "Validation loss decreased (0.937008 --> 0.931615).  Saving model ...\n",
      "Epoch: 8/10... Step: 2496... Loss: 0.882252... Val Loss: 0.930116\n",
      "Validation loss decreased (0.931615 --> 0.930116).  Saving model ...\n",
      "Epoch: 9/10... Step: 2808... Loss: 0.893336... Val Loss: 0.900229\n",
      "Validation loss decreased (0.930116 --> 0.900229).  Saving model ...\n",
      "Epoch: 10/10... Step: 3120... Loss: 0.893749... Val Loss: 0.848645\n",
      "Validation loss decreased (0.900229 --> 0.848645).  Saving model ...\n",
      "\n",
      "\n",
      "\n",
      "\n",
      "\n",
      "ar_word2vec_RNN(\n",
      "  (embd): Embedding(662110, 300)\n",
      "  (lstm): LSTM(300, 100, num_layers=2, batch_first=True, dropout=0.3)\n",
      "  (dropout): Dropout(p=0.3, inplace=False)\n",
      "  (fc1): Linear(in_features=100, out_features=3, bias=True)\n",
      "  (LogSoftmax): LogSoftmax(dim=1)\n",
      ")\n",
      "training with learning rate of 0.006....\n",
      "Epoch: 1/10... Step: 312... Loss: 1.098161... Val Loss: 1.098789\n",
      "Validation loss decreased (inf --> 1.098789).  Saving model ...\n",
      "Epoch: 2/10... Step: 624... Loss: 1.061718... Val Loss: 1.063819\n",
      "Validation loss decreased (1.098789 --> 1.063819).  Saving model ...\n",
      "Epoch: 3/10... Step: 936... Loss: 0.998723... Val Loss: 1.010726\n",
      "Validation loss decreased (1.063819 --> 1.010726).  Saving model ...\n",
      "Epoch: 4/10... Step: 1248... Loss: 0.964748... Val Loss: 0.978460\n",
      "Validation loss decreased (1.010726 --> 0.978460).  Saving model ...\n",
      "Epoch: 5/10... Step: 1560... Loss: 0.956417... Val Loss: 0.964702\n",
      "Validation loss decreased (0.978460 --> 0.964702).  Saving model ...\n",
      "Epoch: 6/10... Step: 1872... Loss: 1.004889... Val Loss: 0.954964\n",
      "Validation loss decreased (0.964702 --> 0.954964).  Saving model ...\n",
      "Epoch: 7/10... Step: 2184... Loss: 0.870577... Val Loss: 0.906394\n",
      "Validation loss decreased (0.954964 --> 0.906394).  Saving model ...\n",
      "Epoch: 8/10... Step: 2496... Loss: 0.825498... Val Loss: 0.870770\n",
      "Validation loss decreased (0.906394 --> 0.870770).  Saving model ...\n",
      "Epoch: 9/10... Step: 2808... Loss: 0.918910... Val Loss: 0.933913\n",
      "Epoch: 10/10... Step: 3120... Loss: 0.821549... Val Loss: 0.822449\n",
      "Validation loss decreased (0.870770 --> 0.822449).  Saving model ...\n",
      "\n",
      "\n",
      "\n",
      "\n",
      "\n",
      "ar_word2vec_RNN(\n",
      "  (embd): Embedding(662110, 300)\n",
      "  (lstm): LSTM(300, 100, num_layers=2, batch_first=True, dropout=0.3)\n",
      "  (dropout): Dropout(p=0.3, inplace=False)\n",
      "  (fc1): Linear(in_features=100, out_features=3, bias=True)\n",
      "  (LogSoftmax): LogSoftmax(dim=1)\n",
      ")\n",
      "training with learning rate of 0.007....\n",
      "Epoch: 1/10... Step: 312... Loss: 1.098789... Val Loss: 1.098725\n",
      "Validation loss decreased (inf --> 1.098725).  Saving model ...\n",
      "Epoch: 2/10... Step: 624... Loss: 1.083730... Val Loss: 1.096581\n",
      "Validation loss decreased (1.098725 --> 1.096581).  Saving model ...\n",
      "Epoch: 3/10... Step: 936... Loss: 0.993238... Val Loss: 1.001774\n",
      "Validation loss decreased (1.096581 --> 1.001774).  Saving model ...\n",
      "Epoch: 4/10... Step: 1248... Loss: 0.903369... Val Loss: 0.933399\n",
      "Validation loss decreased (1.001774 --> 0.933399).  Saving model ...\n",
      "Epoch: 5/10... Step: 1560... Loss: 0.973153... Val Loss: 0.890401\n",
      "Validation loss decreased (0.933399 --> 0.890401).  Saving model ...\n",
      "Epoch: 6/10... Step: 1872... Loss: 0.822870... Val Loss: 0.822504\n",
      "Validation loss decreased (0.890401 --> 0.822504).  Saving model ...\n",
      "Epoch: 7/10... Step: 2184... Loss: 0.787718... Val Loss: 0.796760\n",
      "Validation loss decreased (0.822504 --> 0.796760).  Saving model ...\n",
      "Epoch: 8/10... Step: 2496... Loss: 0.840980... Val Loss: 0.819715\n",
      "Epoch: 9/10... Step: 2808... Loss: 0.765350... Val Loss: 0.842640\n",
      "Epoch: 10/10... Step: 3120... Loss: 0.832989... Val Loss: 0.833039\n",
      "\n",
      "\n",
      "\n",
      "\n",
      "\n",
      "ar_word2vec_RNN(\n",
      "  (embd): Embedding(662110, 300)\n",
      "  (lstm): LSTM(300, 100, num_layers=2, batch_first=True, dropout=0.3)\n",
      "  (dropout): Dropout(p=0.3, inplace=False)\n",
      "  (fc1): Linear(in_features=100, out_features=3, bias=True)\n",
      "  (LogSoftmax): LogSoftmax(dim=1)\n",
      ")\n",
      "training with learning rate of 0.008....\n",
      "Epoch: 1/10... Step: 312... Loss: 1.100932... Val Loss: 1.098615\n",
      "Validation loss decreased (inf --> 1.098615).  Saving model ...\n",
      "Epoch: 2/10... Step: 624... Loss: 1.096947... Val Loss: 1.098660\n",
      "Epoch: 3/10... Step: 936... Loss: 1.079714... Val Loss: 1.061839\n",
      "Validation loss decreased (1.098615 --> 1.061839).  Saving model ...\n",
      "Epoch: 4/10... Step: 1248... Loss: 1.045725... Val Loss: 1.032601\n",
      "Validation loss decreased (1.061839 --> 1.032601).  Saving model ...\n",
      "Epoch: 5/10... Step: 1560... Loss: 1.028812... Val Loss: 1.015194\n",
      "Validation loss decreased (1.032601 --> 1.015194).  Saving model ...\n",
      "Epoch: 6/10... Step: 1872... Loss: 0.982482... Val Loss: 0.960568\n",
      "Validation loss decreased (1.015194 --> 0.960568).  Saving model ...\n",
      "Epoch: 7/10... Step: 2184... Loss: 0.926313... Val Loss: 0.911399\n",
      "Validation loss decreased (0.960568 --> 0.911399).  Saving model ...\n",
      "Epoch: 8/10... Step: 2496... Loss: 0.886710... Val Loss: 0.918444\n",
      "Epoch: 9/10... Step: 2808... Loss: 0.961703... Val Loss: 0.889992\n",
      "Validation loss decreased (0.911399 --> 0.889992).  Saving model ...\n",
      "Epoch: 10/10... Step: 3120... Loss: 0.806612... Val Loss: 0.855307\n",
      "Validation loss decreased (0.889992 --> 0.855307).  Saving model ...\n",
      "\n",
      "\n",
      "\n",
      "\n",
      "\n",
      "ar_word2vec_RNN(\n",
      "  (embd): Embedding(662110, 300)\n",
      "  (lstm): LSTM(300, 100, num_layers=2, batch_first=True, dropout=0.3)\n",
      "  (dropout): Dropout(p=0.3, inplace=False)\n",
      "  (fc1): Linear(in_features=100, out_features=3, bias=True)\n",
      "  (LogSoftmax): LogSoftmax(dim=1)\n",
      ")\n",
      "training with learning rate of 0.009....\n",
      "Epoch: 1/10... Step: 312... Loss: 1.029075... Val Loss: 1.053979\n",
      "Validation loss decreased (inf --> 1.053979).  Saving model ...\n",
      "Epoch: 2/10... Step: 624... Loss: 1.016907... Val Loss: 1.014109\n",
      "Validation loss decreased (1.053979 --> 1.014109).  Saving model ...\n",
      "Epoch: 3/10... Step: 936... Loss: 0.984468... Val Loss: 0.971411\n",
      "Validation loss decreased (1.014109 --> 0.971411).  Saving model ...\n",
      "Epoch: 4/10... Step: 1248... Loss: 0.939606... Val Loss: 0.949842\n",
      "Validation loss decreased (0.971411 --> 0.949842).  Saving model ...\n",
      "Epoch: 5/10... Step: 1560... Loss: 0.854312... Val Loss: 0.904855\n",
      "Validation loss decreased (0.949842 --> 0.904855).  Saving model ...\n",
      "Epoch: 6/10... Step: 1872... Loss: 0.874558... Val Loss: 0.914419\n",
      "Epoch: 7/10... Step: 2184... Loss: 0.809534... Val Loss: 0.830467\n",
      "Validation loss decreased (0.904855 --> 0.830467).  Saving model ...\n",
      "Epoch: 8/10... Step: 2496... Loss: 0.727550... Val Loss: 0.799237\n",
      "Validation loss decreased (0.830467 --> 0.799237).  Saving model ...\n",
      "Epoch: 9/10... Step: 2808... Loss: 0.790446... Val Loss: 0.798261\n",
      "Validation loss decreased (0.799237 --> 0.798261).  Saving model ...\n",
      "Epoch: 10/10... Step: 3120... Loss: 0.751802... Val Loss: 0.777123\n",
      "Validation loss decreased (0.798261 --> 0.777123).  Saving model ...\n",
      "\n",
      "\n",
      "\n",
      "\n",
      "\n",
      "ar_word2vec_RNN(\n",
      "  (embd): Embedding(662110, 300)\n",
      "  (lstm): LSTM(300, 100, num_layers=2, batch_first=True, dropout=0.3)\n",
      "  (dropout): Dropout(p=0.3, inplace=False)\n",
      "  (fc1): Linear(in_features=100, out_features=3, bias=True)\n",
      "  (LogSoftmax): LogSoftmax(dim=1)\n",
      ")\n",
      "training with learning rate of 0.0001....\n",
      "Epoch: 1/10... Step: 312... Loss: 1.098672... Val Loss: 1.098752\n",
      "Validation loss decreased (inf --> 1.098752).  Saving model ...\n",
      "Epoch: 2/10... Step: 624... Loss: 1.097335... Val Loss: 1.098920\n",
      "Epoch: 3/10... Step: 936... Loss: 1.098636... Val Loss: 1.098619\n",
      "Validation loss decreased (1.098752 --> 1.098619).  Saving model ...\n",
      "Epoch: 4/10... Step: 1248... Loss: 1.100529... Val Loss: 1.098747\n",
      "Epoch: 5/10... Step: 1560... Loss: 1.097894... Val Loss: 1.098408\n",
      "Validation loss decreased (1.098619 --> 1.098408).  Saving model ...\n",
      "Epoch: 6/10... Step: 1872... Loss: 1.100358... Val Loss: 1.098967\n",
      "Epoch: 7/10... Step: 2184... Loss: 1.097680... Val Loss: 1.098508\n",
      "Epoch: 8/10... Step: 2496... Loss: 1.096207... Val Loss: 1.098364\n",
      "Validation loss decreased (1.098408 --> 1.098364).  Saving model ...\n",
      "Epoch: 9/10... Step: 2808... Loss: 1.090708... Val Loss: 1.098744\n",
      "Epoch: 10/10... Step: 3120... Loss: 1.092451... Val Loss: 1.099328\n",
      "\n",
      "\n",
      "\n",
      "\n",
      "\n",
      "ar_word2vec_RNN(\n",
      "  (embd): Embedding(662110, 300)\n",
      "  (lstm): LSTM(300, 100, num_layers=2, batch_first=True, dropout=0.3)\n",
      "  (dropout): Dropout(p=0.3, inplace=False)\n",
      "  (fc1): Linear(in_features=100, out_features=3, bias=True)\n",
      "  (LogSoftmax): LogSoftmax(dim=1)\n",
      ")\n",
      "training with learning rate of 0.0002....\n",
      "Epoch: 1/10... Step: 312... Loss: 1.099085... Val Loss: 1.098679\n",
      "Validation loss decreased (inf --> 1.098679).  Saving model ...\n",
      "Epoch: 2/10... Step: 624... Loss: 1.097349... Val Loss: 1.098663\n",
      "Validation loss decreased (1.098679 --> 1.098663).  Saving model ...\n",
      "Epoch: 3/10... Step: 936... Loss: 1.102136... Val Loss: 1.098613\n",
      "Validation loss decreased (1.098663 --> 1.098613).  Saving model ...\n",
      "Epoch: 4/10... Step: 1248... Loss: 1.097590... Val Loss: 1.098218\n",
      "Validation loss decreased (1.098613 --> 1.098218).  Saving model ...\n",
      "Epoch: 5/10... Step: 1560... Loss: 1.097315... Val Loss: 1.098910\n",
      "Epoch: 6/10... Step: 1872... Loss: 1.083285... Val Loss: 1.100456\n",
      "Epoch: 7/10... Step: 2184... Loss: 1.000802... Val Loss: 1.033141\n",
      "Validation loss decreased (1.098218 --> 1.033141).  Saving model ...\n",
      "Epoch: 8/10... Step: 2496... Loss: 0.926105... Val Loss: 0.977668\n",
      "Validation loss decreased (1.033141 --> 0.977668).  Saving model ...\n",
      "Epoch: 9/10... Step: 2808... Loss: 0.890309... Val Loss: 0.934141\n",
      "Validation loss decreased (0.977668 --> 0.934141).  Saving model ...\n",
      "Epoch: 10/10... Step: 3120... Loss: 0.912205... Val Loss: 0.899966\n",
      "Validation loss decreased (0.934141 --> 0.899966).  Saving model ...\n",
      "\n",
      "\n",
      "\n",
      "\n",
      "\n",
      "ar_word2vec_RNN(\n",
      "  (embd): Embedding(662110, 300)\n",
      "  (lstm): LSTM(300, 100, num_layers=2, batch_first=True, dropout=0.3)\n",
      "  (dropout): Dropout(p=0.3, inplace=False)\n",
      "  (fc1): Linear(in_features=100, out_features=3, bias=True)\n",
      "  (LogSoftmax): LogSoftmax(dim=1)\n",
      ")\n",
      "training with learning rate of 0.0003....\n",
      "Epoch: 1/10... Step: 312... Loss: 1.099361... Val Loss: 1.098656\n",
      "Validation loss decreased (inf --> 1.098656).  Saving model ...\n",
      "Epoch: 2/10... Step: 624... Loss: 1.097812... Val Loss: 1.098558\n",
      "Validation loss decreased (1.098656 --> 1.098558).  Saving model ...\n",
      "Epoch: 3/10... Step: 936... Loss: 1.095435... Val Loss: 1.098117\n",
      "Validation loss decreased (1.098558 --> 1.098117).  Saving model ...\n",
      "Epoch: 4/10... Step: 1248... Loss: 1.092083... Val Loss: 1.098125\n",
      "Epoch: 5/10... Step: 1560... Loss: 0.937706... Val Loss: 0.948970\n",
      "Validation loss decreased (1.098117 --> 0.948970).  Saving model ...\n",
      "Epoch: 6/10... Step: 1872... Loss: 0.900073... Val Loss: 0.916717\n",
      "Validation loss decreased (0.948970 --> 0.916717).  Saving model ...\n",
      "Epoch: 7/10... Step: 2184... Loss: 0.840739... Val Loss: 0.879323\n",
      "Validation loss decreased (0.916717 --> 0.879323).  Saving model ...\n",
      "Epoch: 8/10... Step: 2496... Loss: 0.725631... Val Loss: 0.819013\n",
      "Validation loss decreased (0.879323 --> 0.819013).  Saving model ...\n",
      "Epoch: 9/10... Step: 2808... Loss: 0.684507... Val Loss: 0.801356\n",
      "Validation loss decreased (0.819013 --> 0.801356).  Saving model ...\n",
      "Epoch: 10/10... Step: 3120... Loss: 0.638703... Val Loss: 0.778973\n",
      "Validation loss decreased (0.801356 --> 0.778973).  Saving model ...\n",
      "\n",
      "\n",
      "\n",
      "\n",
      "\n",
      "ar_word2vec_RNN(\n",
      "  (embd): Embedding(662110, 300)\n",
      "  (lstm): LSTM(300, 100, num_layers=2, batch_first=True, dropout=0.3)\n",
      "  (dropout): Dropout(p=0.3, inplace=False)\n",
      "  (fc1): Linear(in_features=100, out_features=3, bias=True)\n",
      "  (LogSoftmax): LogSoftmax(dim=1)\n",
      ")\n",
      "training with learning rate of 0.0004....\n",
      "Epoch: 1/10... Step: 312... Loss: 1.098104... Val Loss: 1.099135\n",
      "Validation loss decreased (inf --> 1.099135).  Saving model ...\n",
      "Epoch: 2/10... Step: 624... Loss: 1.096918... Val Loss: 1.098548\n",
      "Validation loss decreased (1.099135 --> 1.098548).  Saving model ...\n",
      "Epoch: 3/10... Step: 936... Loss: 1.093885... Val Loss: 1.098380\n",
      "Validation loss decreased (1.098548 --> 1.098380).  Saving model ...\n",
      "Epoch: 4/10... Step: 1248... Loss: 0.944266... Val Loss: 0.979808\n",
      "Validation loss decreased (1.098380 --> 0.979808).  Saving model ...\n",
      "Epoch: 5/10... Step: 1560... Loss: 0.898494... Val Loss: 0.912998\n",
      "Validation loss decreased (0.979808 --> 0.912998).  Saving model ...\n",
      "Epoch: 6/10... Step: 1872... Loss: 0.791612... Val Loss: 0.847294\n",
      "Validation loss decreased (0.912998 --> 0.847294).  Saving model ...\n",
      "Epoch: 7/10... Step: 2184... Loss: 0.813759... Val Loss: 0.829113\n",
      "Validation loss decreased (0.847294 --> 0.829113).  Saving model ...\n",
      "Epoch: 8/10... Step: 2496... Loss: 0.798702... Val Loss: 0.805255\n",
      "Validation loss decreased (0.829113 --> 0.805255).  Saving model ...\n",
      "Epoch: 9/10... Step: 2808... Loss: 0.757733... Val Loss: 0.790330\n",
      "Validation loss decreased (0.805255 --> 0.790330).  Saving model ...\n",
      "Epoch: 10/10... Step: 3120... Loss: 0.797964... Val Loss: 0.770492\n",
      "Validation loss decreased (0.790330 --> 0.770492).  Saving model ...\n",
      "\n",
      "\n",
      "\n",
      "\n",
      "\n",
      "ar_word2vec_RNN(\n",
      "  (embd): Embedding(662110, 300)\n",
      "  (lstm): LSTM(300, 100, num_layers=2, batch_first=True, dropout=0.3)\n",
      "  (dropout): Dropout(p=0.3, inplace=False)\n",
      "  (fc1): Linear(in_features=100, out_features=3, bias=True)\n",
      "  (LogSoftmax): LogSoftmax(dim=1)\n",
      ")\n",
      "training with learning rate of 0.0005....\n",
      "Epoch: 1/10... Step: 312... Loss: 1.098807... Val Loss: 1.098611\n",
      "Validation loss decreased (inf --> 1.098611).  Saving model ...\n",
      "Epoch: 2/10... Step: 624... Loss: 1.098241... Val Loss: 1.098253\n",
      "Validation loss decreased (1.098611 --> 1.098253).  Saving model ...\n",
      "Epoch: 3/10... Step: 936... Loss: 1.097230... Val Loss: 1.098564\n",
      "Epoch: 4/10... Step: 1248... Loss: 0.983706... Val Loss: 0.971126\n",
      "Validation loss decreased (1.098253 --> 0.971126).  Saving model ...\n",
      "Epoch: 5/10... Step: 1560... Loss: 0.915378... Val Loss: 0.913200\n",
      "Validation loss decreased (0.971126 --> 0.913200).  Saving model ...\n",
      "Epoch: 6/10... Step: 1872... Loss: 0.838805... Val Loss: 0.833449\n",
      "Validation loss decreased (0.913200 --> 0.833449).  Saving model ...\n",
      "Epoch: 7/10... Step: 2184... Loss: 0.774787... Val Loss: 0.806659\n",
      "Validation loss decreased (0.833449 --> 0.806659).  Saving model ...\n",
      "Epoch: 8/10... Step: 2496... Loss: 0.809041... Val Loss: 0.788291\n",
      "Validation loss decreased (0.806659 --> 0.788291).  Saving model ...\n",
      "Epoch: 9/10... Step: 2808... Loss: 0.723296... Val Loss: 0.770954\n",
      "Validation loss decreased (0.788291 --> 0.770954).  Saving model ...\n",
      "Epoch: 10/10... Step: 3120... Loss: 0.736217... Val Loss: 0.780855\n",
      "\n",
      "\n",
      "\n",
      "\n",
      "\n",
      "ar_word2vec_RNN(\n",
      "  (embd): Embedding(662110, 300)\n",
      "  (lstm): LSTM(300, 100, num_layers=2, batch_first=True, dropout=0.3)\n",
      "  (dropout): Dropout(p=0.3, inplace=False)\n",
      "  (fc1): Linear(in_features=100, out_features=3, bias=True)\n",
      "  (LogSoftmax): LogSoftmax(dim=1)\n",
      ")\n",
      "training with learning rate of 0.0006....\n",
      "Epoch: 1/10... Step: 312... Loss: 1.098986... Val Loss: 1.098627\n",
      "Validation loss decreased (inf --> 1.098627).  Saving model ...\n",
      "Epoch: 2/10... Step: 624... Loss: 1.099736... Val Loss: 1.098337\n",
      "Validation loss decreased (1.098627 --> 1.098337).  Saving model ...\n",
      "Epoch: 3/10... Step: 936... Loss: 0.937267... Val Loss: 0.967918\n",
      "Validation loss decreased (1.098337 --> 0.967918).  Saving model ...\n",
      "Epoch: 4/10... Step: 1248... Loss: 0.794818... Val Loss: 0.877084\n",
      "Validation loss decreased (0.967918 --> 0.877084).  Saving model ...\n",
      "Epoch: 5/10... Step: 1560... Loss: 0.816639... Val Loss: 0.860751\n",
      "Validation loss decreased (0.877084 --> 0.860751).  Saving model ...\n",
      "Epoch: 6/10... Step: 1872... Loss: 0.792793... Val Loss: 0.818511\n",
      "Validation loss decreased (0.860751 --> 0.818511).  Saving model ...\n",
      "Epoch: 7/10... Step: 2184... Loss: 0.790941... Val Loss: 0.768574\n",
      "Validation loss decreased (0.818511 --> 0.768574).  Saving model ...\n",
      "Epoch: 8/10... Step: 2496... Loss: 0.843630... Val Loss: 0.762893\n",
      "Validation loss decreased (0.768574 --> 0.762893).  Saving model ...\n",
      "Epoch: 9/10... Step: 2808... Loss: 0.750231... Val Loss: 0.756690\n",
      "Validation loss decreased (0.762893 --> 0.756690).  Saving model ...\n",
      "Epoch: 10/10... Step: 3120... Loss: 0.657918... Val Loss: 0.747704\n",
      "Validation loss decreased (0.756690 --> 0.747704).  Saving model ...\n",
      "\n",
      "\n",
      "\n",
      "\n",
      "\n",
      "ar_word2vec_RNN(\n",
      "  (embd): Embedding(662110, 300)\n",
      "  (lstm): LSTM(300, 100, num_layers=2, batch_first=True, dropout=0.3)\n",
      "  (dropout): Dropout(p=0.3, inplace=False)\n",
      "  (fc1): Linear(in_features=100, out_features=3, bias=True)\n",
      "  (LogSoftmax): LogSoftmax(dim=1)\n",
      ")\n",
      "training with learning rate of 0.0007....\n",
      "Epoch: 1/10... Step: 312... Loss: 1.100654... Val Loss: 1.098598\n",
      "Validation loss decreased (inf --> 1.098598).  Saving model ...\n",
      "Epoch: 2/10... Step: 624... Loss: 1.098207... Val Loss: 1.098286\n",
      "Validation loss decreased (1.098598 --> 1.098286).  Saving model ...\n",
      "Epoch: 3/10... Step: 936... Loss: 1.002294... Val Loss: 1.012047\n",
      "Validation loss decreased (1.098286 --> 1.012047).  Saving model ...\n",
      "Epoch: 4/10... Step: 1248... Loss: 0.794105... Val Loss: 0.886677\n",
      "Validation loss decreased (1.012047 --> 0.886677).  Saving model ...\n",
      "Epoch: 5/10... Step: 1560... Loss: 0.896297... Val Loss: 0.791763\n",
      "Validation loss decreased (0.886677 --> 0.791763).  Saving model ...\n",
      "Epoch: 6/10... Step: 1872... Loss: 0.787892... Val Loss: 0.781747\n",
      "Validation loss decreased (0.791763 --> 0.781747).  Saving model ...\n",
      "Epoch: 7/10... Step: 2184... Loss: 0.829582... Val Loss: 0.768070\n",
      "Validation loss decreased (0.781747 --> 0.768070).  Saving model ...\n",
      "Epoch: 8/10... Step: 2496... Loss: 0.644340... Val Loss: 0.758746\n",
      "Validation loss decreased (0.768070 --> 0.758746).  Saving model ...\n",
      "Epoch: 9/10... Step: 2808... Loss: 0.671039... Val Loss: 0.746776\n",
      "Validation loss decreased (0.758746 --> 0.746776).  Saving model ...\n",
      "Epoch: 10/10... Step: 3120... Loss: 0.636585... Val Loss: 0.745913\n",
      "Validation loss decreased (0.746776 --> 0.745913).  Saving model ...\n",
      "\n",
      "\n",
      "\n",
      "\n",
      "\n",
      "ar_word2vec_RNN(\n",
      "  (embd): Embedding(662110, 300)\n",
      "  (lstm): LSTM(300, 100, num_layers=2, batch_first=True, dropout=0.3)\n",
      "  (dropout): Dropout(p=0.3, inplace=False)\n",
      "  (fc1): Linear(in_features=100, out_features=3, bias=True)\n",
      "  (LogSoftmax): LogSoftmax(dim=1)\n",
      ")\n",
      "training with learning rate of 0.0008....\n",
      "Epoch: 1/10... Step: 312... Loss: 1.100347... Val Loss: 1.098475\n",
      "Validation loss decreased (inf --> 1.098475).  Saving model ...\n",
      "Epoch: 2/10... Step: 624... Loss: 1.096600... Val Loss: 1.097815\n",
      "Validation loss decreased (1.098475 --> 1.097815).  Saving model ...\n",
      "Epoch: 3/10... Step: 936... Loss: 0.980961... Val Loss: 0.933778\n",
      "Validation loss decreased (1.097815 --> 0.933778).  Saving model ...\n",
      "Epoch: 4/10... Step: 1248... Loss: 0.917710... Val Loss: 0.863681\n",
      "Validation loss decreased (0.933778 --> 0.863681).  Saving model ...\n",
      "Epoch: 5/10... Step: 1560... Loss: 0.790352... Val Loss: 0.815979\n",
      "Validation loss decreased (0.863681 --> 0.815979).  Saving model ...\n",
      "Epoch: 6/10... Step: 1872... Loss: 0.824523... Val Loss: 0.791884\n",
      "Validation loss decreased (0.815979 --> 0.791884).  Saving model ...\n",
      "Epoch: 7/10... Step: 2184... Loss: 0.775440... Val Loss: 0.756558\n",
      "Validation loss decreased (0.791884 --> 0.756558).  Saving model ...\n",
      "Epoch: 8/10... Step: 2496... Loss: 0.751107... Val Loss: 0.751173\n",
      "Validation loss decreased (0.756558 --> 0.751173).  Saving model ...\n",
      "Epoch: 9/10... Step: 2808... Loss: 0.740253... Val Loss: 0.753512\n",
      "Epoch: 10/10... Step: 3120... Loss: 0.728365... Val Loss: 0.756151\n",
      "\n",
      "\n",
      "\n",
      "\n",
      "\n",
      "ar_word2vec_RNN(\n",
      "  (embd): Embedding(662110, 300)\n",
      "  (lstm): LSTM(300, 100, num_layers=2, batch_first=True, dropout=0.3)\n",
      "  (dropout): Dropout(p=0.3, inplace=False)\n",
      "  (fc1): Linear(in_features=100, out_features=3, bias=True)\n",
      "  (LogSoftmax): LogSoftmax(dim=1)\n",
      ")\n",
      "training with learning rate of 0.0009....\n",
      "Epoch: 1/10... Step: 312... Loss: 1.098935... Val Loss: 1.098500\n",
      "Validation loss decreased (inf --> 1.098500).  Saving model ...\n",
      "Epoch: 2/10... Step: 624... Loss: 1.098741... Val Loss: 1.098349\n",
      "Validation loss decreased (1.098500 --> 1.098349).  Saving model ...\n",
      "Epoch: 3/10... Step: 936... Loss: 0.953731... Val Loss: 1.024309\n",
      "Validation loss decreased (1.098349 --> 1.024309).  Saving model ...\n",
      "Epoch: 4/10... Step: 1248... Loss: 0.908632... Val Loss: 0.906086\n",
      "Validation loss decreased (1.024309 --> 0.906086).  Saving model ...\n",
      "Epoch: 5/10... Step: 1560... Loss: 0.837823... Val Loss: 0.817862\n",
      "Validation loss decreased (0.906086 --> 0.817862).  Saving model ...\n",
      "Epoch: 6/10... Step: 1872... Loss: 0.733992... Val Loss: 0.790451\n",
      "Validation loss decreased (0.817862 --> 0.790451).  Saving model ...\n",
      "Epoch: 7/10... Step: 2184... Loss: 0.700793... Val Loss: 0.778583\n",
      "Validation loss decreased (0.790451 --> 0.778583).  Saving model ...\n",
      "Epoch: 8/10... Step: 2496... Loss: 0.683375... Val Loss: 0.771526\n",
      "Validation loss decreased (0.778583 --> 0.771526).  Saving model ...\n",
      "Epoch: 9/10... Step: 2808... Loss: 0.709371... Val Loss: 0.767927\n",
      "Validation loss decreased (0.771526 --> 0.767927).  Saving model ...\n",
      "Epoch: 10/10... Step: 3120... Loss: 0.635265... Val Loss: 0.761962\n",
      "Validation loss decreased (0.767927 --> 0.761962).  Saving model ...\n",
      "\n",
      "\n",
      "\n",
      "\n",
      "\n"
     ]
    }
   ],
   "source": [
    "lr_list = [\n",
    "    1e-3, 2e-3, 3e-3, 4e-3, 5e-3, 6e-3, 7e-3, 8e-3, 9e-3,\n",
    "    1e-4, 2e-4, 3e-4, 4e-4, 5e-4, 6e-4, 7e-4, 8e-4, 9e-4\n",
    "]\n",
    "# lr_list = [\n",
    "#     1e-2, 5e-2, 1e-3, 5e-3, 1e-4, 5e-4, 1e-5, 5e-5, 1e-6,\n",
    "# ]\n",
    "for lr in lr_list:\n",
    "    torch.cuda.empty_cache()    \n",
    "    #make sure the gpu is avalibale before moving the data to It else the work would be done using the cpu\n",
    "    train_on_gpu=torch.cuda.is_available()\n",
    "\n",
    "    #specifing the model hypermetrs and creating the model\n",
    "    vocab_size = len(embd_model.wv.key_to_index)\n",
    "    output_size = 3\n",
    "    embedding_dim = 300\n",
    "    hidden_dim = 100\n",
    "    n_layers = 2\n",
    "    drop_prob = 0.3\n",
    "    \n",
    "    net = multi_class_model.ar_word2vec_RNN(vocab_size, output_size, embedding_dim, hidden_dim, n_layers, train_on_gpu=train_on_gpu,\n",
    "                    bidirectional=False, drop_prob=drop_prob, train_embd=True)\n",
    "\n",
    "    print(net)\n",
    "\n",
    "    # optimization functions\n",
    "    # optimizer = torch.optim.Adam(net.parameters(), lr=lr,weight_decay=0.00001)\n",
    "    optimizer = torch.optim.Adam(net.parameters(), lr=lr)\n",
    "    print(f'training with learning rate of {lr}....')\n",
    "    # training the model\n",
    "    train(net, train_loader, valid_loader, optimizer, embd_model.wv.key_to_index, batch_size, multi_class=True, seq_length=256, epochs=10,\n",
    "        print_every=1, train_on_gpu=train_on_gpu, save_dic='models/arabic_01.pth')\n",
    "    print('\\n\\n\\n\\n')\n",
    "    torch.cuda.empty_cache()"
   ]
  },
  {
   "cell_type": "code",
   "execution_count": 25,
   "metadata": {},
   "outputs": [
    {
     "name": "stdout",
     "output_type": "stream",
     "text": [
      "ar_word2vec_RNN(\n",
      "  (embd): Embedding(662110, 300)\n",
      "  (lstm): LSTM(300, 100, num_layers=2, batch_first=True, dropout=0.3)\n",
      "  (dropout): Dropout(p=0.3, inplace=False)\n",
      "  (fc1): Linear(in_features=100, out_features=3, bias=True)\n",
      "  (LogSoftmax): LogSoftmax(dim=1)\n",
      ")\n"
     ]
    }
   ],
   "source": [
    "torch.cuda.empty_cache()    \n",
    "# make sure the gpu is avalibale before moving the data to It else the work would be done using the cpu\n",
    "train_on_gpu=torch.cuda.is_available()\n",
    "\n",
    "# specifing the model hypermetrs and creating the model\n",
    "vocab_size = len(embd_model.wv.key_to_index)\n",
    "output_size = 3\n",
    "embedding_dim = 300\n",
    "hidden_dim = 100\n",
    "n_layers = 2\n",
    "drop_prob = 0.3\n",
    "\n",
    "net = multi_class_model.ar_word2vec_RNN(vocab_size, output_size, embedding_dim, hidden_dim, n_layers, train_on_gpu=train_on_gpu,\n",
    "            bidirectional=False, drop_prob=drop_prob)\n",
    "\n",
    "print(net)\n",
    "\n",
    "lr = 7e-4\n",
    "# optimizer = torch.optim.Adam(net.parameters(), lr=lr,weight_decay=0.00001)\n",
    "optimizer = torch.optim.Adam(net.parameters(), lr=lr)"
   ]
  },
  {
   "cell_type": "code",
   "execution_count": 26,
   "metadata": {},
   "outputs": [
    {
     "name": "stdout",
     "output_type": "stream",
     "text": [
      "Epoch: 1/10... Step: 312... Loss: 1.098104... Val Loss: 1.098547\n",
      "Validation loss decreased (inf --> 1.098547).  Saving model ...\n",
      "Epoch: 2/10... Step: 624... Loss: 1.016623... Val Loss: 1.028347\n",
      "Validation loss decreased (1.098547 --> 1.028347).  Saving model ...\n",
      "Epoch: 3/10... Step: 936... Loss: 0.887928... Val Loss: 0.924211\n",
      "Validation loss decreased (1.028347 --> 0.924211).  Saving model ...\n",
      "Epoch: 4/10... Step: 1248... Loss: 0.814031... Val Loss: 0.812846\n",
      "Validation loss decreased (0.924211 --> 0.812846).  Saving model ...\n",
      "Epoch: 5/10... Step: 1560... Loss: 0.737314... Val Loss: 0.778060\n",
      "Validation loss decreased (0.812846 --> 0.778060).  Saving model ...\n",
      "Epoch: 6/10... Step: 1872... Loss: 0.714753... Val Loss: 0.765691\n",
      "Validation loss decreased (0.778060 --> 0.765691).  Saving model ...\n",
      "Epoch: 7/10... Step: 2184... Loss: 0.732823... Val Loss: 0.748772\n",
      "Validation loss decreased (0.765691 --> 0.748772).  Saving model ...\n",
      "Epoch: 8/10... Step: 2496... Loss: 0.706392... Val Loss: 0.736813\n",
      "Validation loss decreased (0.748772 --> 0.736813).  Saving model ...\n",
      "Epoch: 9/10... Step: 2808... Loss: 0.615254... Val Loss: 0.747094\n",
      "Epoch: 10/10... Step: 3120... Loss: 0.687340... Val Loss: 0.740435\n"
     ]
    }
   ],
   "source": [
    "# training the model\n",
    "train(net, train_loader, valid_loader, optimizer, embd_model.wv.key_to_index, batch_size, multi_class=True, seq_length=256, epochs=10,\n",
    "print_every=1, train_on_gpu=train_on_gpu, save_dic='models/arabic_01.pth')\n",
    "torch.cuda.empty_cache()"
   ]
  },
  {
   "cell_type": "code",
   "execution_count": 27,
   "id": "d587e422",
   "metadata": {
    "scrolled": true
   },
   "outputs": [
    {
     "name": "stdout",
     "output_type": "stream",
     "text": [
      "Test loss: 0.744\n",
      "Test accuracy: 0.658\n"
     ]
    }
   ],
   "source": [
    "# testing the model\n",
    "test(test_loader, train_on_gpu, batch_size, multi_class=True, net=net)"
   ]
  },
  {
   "cell_type": "code",
   "execution_count": 28,
   "metadata": {},
   "outputs": [
    {
     "name": "stdout",
     "output_type": "stream",
     "text": [
      "Test loss: 0.733\n",
      "Test accuracy: 0.658\n"
     ]
    }
   ],
   "source": [
    "# testing the last saved model\n",
    "test(test_loader, train_on_gpu, batch_size, multi_class=True, model_path='models/arabic_01.pth')"
   ]
  },
  {
   "cell_type": "code",
   "execution_count": null,
   "metadata": {},
   "outputs": [],
   "source": []
  }
 ],
 "metadata": {
  "interpreter": {
   "hash": "0ca738696e74c3b582319100ac25d026cf0c528d8decfe2c9d2d27159d6836ba"
  },
  "kernelspec": {
   "display_name": "Python 3.10.4 ('Graduation-Project')",
   "language": "python",
   "name": "python3"
  },
  "language_info": {
   "codemirror_mode": {
    "name": "ipython",
    "version": 3
   },
   "file_extension": ".py",
   "mimetype": "text/x-python",
   "name": "python",
   "nbconvert_exporter": "python",
   "pygments_lexer": "ipython3",
   "version": "3.10.4"
  },
  "orig_nbformat": 4
 },
 "nbformat": 4,
 "nbformat_minor": 2
}
