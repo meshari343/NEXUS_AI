{
 "cells": [
  {
   "cell_type": "code",
   "execution_count": 51,
   "id": "893c71c6",
   "metadata": {},
   "outputs": [],
   "source": [
    "import pandas as pd\n",
    "import numpy as np\n",
    "import matplotlib.pyplot as plt\n",
    "from langdetect import detect\n",
    "from langdetect.lang_detect_exception import LangDetectException\n",
    "%matplotlib inline\n",
    "#costume classes\n",
    "from nexus_ai.sentence_sentiment_analysis.preprocessing import tokenize_data"
   ]
  },
  {
   "cell_type": "code",
   "execution_count": 52,
   "id": "b1efb2ef",
   "metadata": {},
   "outputs": [
    {
     "data": {
      "text/html": [
       "<div>\n",
       "<style scoped>\n",
       "    .dataframe tbody tr th:only-of-type {\n",
       "        vertical-align: middle;\n",
       "    }\n",
       "\n",
       "    .dataframe tbody tr th {\n",
       "        vertical-align: top;\n",
       "    }\n",
       "\n",
       "    .dataframe thead th {\n",
       "        text-align: right;\n",
       "    }\n",
       "</style>\n",
       "<table border=\"1\" class=\"dataframe\">\n",
       "  <thead>\n",
       "    <tr style=\"text-align: right;\">\n",
       "      <th></th>\n",
       "      <th>source</th>\n",
       "      <th>rating</th>\n",
       "      <th>date</th>\n",
       "      <th>text</th>\n",
       "      <th>username</th>\n",
       "    </tr>\n",
       "  </thead>\n",
       "  <tbody>\n",
       "    <tr>\n",
       "      <th>0</th>\n",
       "      <td>Google Maps</td>\n",
       "      <td>3</td>\n",
       "      <td>2 days ago</td>\n",
       "      <td>Visited the place for 3 times\\nNo consistency ...</td>\n",
       "      <td>basem ibrahim</td>\n",
       "    </tr>\n",
       "    <tr>\n",
       "      <th>1</th>\n",
       "      <td>Google Maps</td>\n",
       "      <td>5</td>\n",
       "      <td>2 years ago</td>\n",
       "      <td>Always one for trying something new and as we ...</td>\n",
       "      <td>Tony McReynolds</td>\n",
       "    </tr>\n",
       "    <tr>\n",
       "      <th>2</th>\n",
       "      <td>Google Maps</td>\n",
       "      <td>3</td>\n",
       "      <td>3 years ago</td>\n",
       "      <td>A nice place for a drink, coffee is alright, n...</td>\n",
       "      <td>AbdulAziz Al Hindi</td>\n",
       "    </tr>\n",
       "    <tr>\n",
       "      <th>3</th>\n",
       "      <td>Google Maps</td>\n",
       "      <td>5</td>\n",
       "      <td>a year ago</td>\n",
       "      <td>I like the taste of the cold coffee named (DUL...</td>\n",
       "      <td>Dr/A Al-Kfiri</td>\n",
       "    </tr>\n",
       "    <tr>\n",
       "      <th>4</th>\n",
       "      <td>Google Maps</td>\n",
       "      <td>5</td>\n",
       "      <td>a year ago</td>\n",
       "      <td>Nice menu specially after the lockdown. Having...</td>\n",
       "      <td>Hanea Rezk</td>\n",
       "    </tr>\n",
       "  </tbody>\n",
       "</table>\n",
       "</div>"
      ],
      "text/plain": [
       "        source  rating         date  \\\n",
       "0  Google Maps       3   2 days ago   \n",
       "1  Google Maps       5  2 years ago   \n",
       "2  Google Maps       3  3 years ago   \n",
       "3  Google Maps       5   a year ago   \n",
       "4  Google Maps       5   a year ago   \n",
       "\n",
       "                                                text              username  \n",
       "0  Visited the place for 3 times\\nNo consistency ...        basem ibrahim   \n",
       "1  Always one for trying something new and as we ...      Tony McReynolds   \n",
       "2  A nice place for a drink, coffee is alright, n...   AbdulAziz Al Hindi   \n",
       "3  I like the taste of the cold coffee named (DUL...        Dr/A Al-Kfiri   \n",
       "4  Nice menu specially after the lockdown. Having...           Hanea Rezk   "
      ]
     },
     "execution_count": 52,
     "metadata": {},
     "output_type": "execute_result"
    }
   ],
   "source": [
    "#loading the data\n",
    "# with open('yelp_academic_dataset_review.json', encoding='utf-8') as f:\n",
    "#     df_review = pd.DataFrame(json.loads(line) for line in f)\n",
    "df_reviews = pd.read_json('dataset/googlemaps_sample_dataset.json')\n",
    "df_reviews.head(5)"
   ]
  },
  {
   "cell_type": "code",
   "execution_count": 53,
   "metadata": {},
   "outputs": [],
   "source": [
    "df_reviews.drop(['source', 'date', 'username'], axis=1, inplace=True)"
   ]
  },
  {
   "cell_type": "code",
   "execution_count": 54,
   "id": "0d1b364c",
   "metadata": {},
   "outputs": [
    {
     "data": {
      "text/plain": [
       "(2550, 2)"
      ]
     },
     "execution_count": 54,
     "metadata": {},
     "output_type": "execute_result"
    }
   ],
   "source": [
    "df_reviews.shape"
   ]
  },
  {
   "cell_type": "code",
   "execution_count": 55,
   "id": "bba14b02",
   "metadata": {},
   "outputs": [
    {
     "data": {
      "text/plain": [
       "<AxesSubplot:ylabel='Frequency'>"
      ]
     },
     "execution_count": 55,
     "metadata": {},
     "output_type": "execute_result"
    },
    {
     "data": {
      "image/png": "[encoded data removed]",
      "text/plain": [
       "<Figure size 432x288 with 1 Axes>"
      ]
     },
     "metadata": {
      "needs_background": "light"
     },
     "output_type": "display_data"
    }
   ],
   "source": [
    "#plotting the rating distrubution\n",
    "figure = plt.figure()\n",
    "\n",
    "axes = figure.add_subplot(1, 1, 1)\n",
    "axes.set_ylabel('Frequancy')\n",
    "\n",
    "# df_review['stars'].plot.hist()\n",
    "df_reviews['rating'].plot.hist()"
   ]
  },
  {
   "cell_type": "code",
   "execution_count": 56,
   "id": "25a4ba05",
   "metadata": {},
   "outputs": [
    {
     "data": {
      "text/html": [
       "<div>\n",
       "<style scoped>\n",
       "    .dataframe tbody tr th:only-of-type {\n",
       "        vertical-align: middle;\n",
       "    }\n",
       "\n",
       "    .dataframe tbody tr th {\n",
       "        vertical-align: top;\n",
       "    }\n",
       "\n",
       "    .dataframe thead th {\n",
       "        text-align: right;\n",
       "    }\n",
       "</style>\n",
       "<table border=\"1\" class=\"dataframe\">\n",
       "  <thead>\n",
       "    <tr style=\"text-align: right;\">\n",
       "      <th></th>\n",
       "      <th>rating</th>\n",
       "      <th>text</th>\n",
       "      <th>polarity</th>\n",
       "    </tr>\n",
       "  </thead>\n",
       "  <tbody>\n",
       "    <tr>\n",
       "      <th>0</th>\n",
       "      <td>3</td>\n",
       "      <td>Visited the place for 3 times\\nNo consistency ...</td>\n",
       "      <td>Neutral</td>\n",
       "    </tr>\n",
       "    <tr>\n",
       "      <th>1</th>\n",
       "      <td>5</td>\n",
       "      <td>Always one for trying something new and as we ...</td>\n",
       "      <td>Positive</td>\n",
       "    </tr>\n",
       "    <tr>\n",
       "      <th>2</th>\n",
       "      <td>3</td>\n",
       "      <td>A nice place for a drink, coffee is alright, n...</td>\n",
       "      <td>Neutral</td>\n",
       "    </tr>\n",
       "    <tr>\n",
       "      <th>3</th>\n",
       "      <td>5</td>\n",
       "      <td>I like the taste of the cold coffee named (DUL...</td>\n",
       "      <td>Positive</td>\n",
       "    </tr>\n",
       "    <tr>\n",
       "      <th>4</th>\n",
       "      <td>5</td>\n",
       "      <td>Nice menu specially after the lockdown. Having...</td>\n",
       "      <td>Positive</td>\n",
       "    </tr>\n",
       "  </tbody>\n",
       "</table>\n",
       "</div>"
      ],
      "text/plain": [
       "   rating                                               text  polarity\n",
       "0       3  Visited the place for 3 times\\nNo consistency ...   Neutral\n",
       "1       5  Always one for trying something new and as we ...  Positive\n",
       "2       3  A nice place for a drink, coffee is alright, n...   Neutral\n",
       "3       5  I like the taste of the cold coffee named (DUL...  Positive\n",
       "4       5  Nice menu specially after the lockdown. Having...  Positive"
      ]
     },
     "execution_count": 56,
     "metadata": {},
     "output_type": "execute_result"
    }
   ],
   "source": [
    "# converting rating to (Positive/Negative/Neutral) into a new cloumn called stars\n",
    "stars_mapping = {\n",
    "    5.0: 'Positive', 4.5: 'Positive', 4.0: 'Positive',\n",
    "    3.5:'Neutral', 3.0:'Neutral', 2.5:'Neutral',\n",
    "    2.0:'Negative', 1.5:'Negative', 1.0:'Negative', 0.5:'Negative'\n",
    "    }\n",
    "df_reviews['polarity'] = df_reviews['rating'].map(stars_mapping)\n",
    "df_reviews.dropna(axis=0, inplace=True)\n",
    "df_reviews.head(5)"
   ]
  },
  {
   "cell_type": "code",
   "execution_count": 57,
   "id": "fef9d6e6",
   "metadata": {
    "scrolled": false
   },
   "outputs": [
    {
     "data": {
      "text/plain": [
       "<BarContainer object of 3 artists>"
      ]
     },
     "execution_count": 57,
     "metadata": {},
     "output_type": "execute_result"
    },
    {
     "data": {
      "image/png": "[encoded data removed]",
      "text/plain": [
       "<Figure size 432x288 with 1 Axes>"
      ]
     },
     "metadata": {
      "needs_background": "light"
     },
     "output_type": "display_data"
    }
   ],
   "source": [
    "# plotting the pos/neg/neu distrubution\n",
    "plt.figure()\n",
    "\n",
    "plt.ylabel('Frequancy')\n",
    "\n",
    "counts = pd.DataFrame(df_reviews['polarity'].value_counts())\n",
    "plt.bar(counts.index, counts['polarity'])"
   ]
  },
  {
   "cell_type": "code",
   "execution_count": 58,
   "metadata": {},
   "outputs": [
    {
     "data": {
      "text/html": [
       "<div>\n",
       "<style scoped>\n",
       "    .dataframe tbody tr th:only-of-type {\n",
       "        vertical-align: middle;\n",
       "    }\n",
       "\n",
       "    .dataframe tbody tr th {\n",
       "        vertical-align: top;\n",
       "    }\n",
       "\n",
       "    .dataframe thead th {\n",
       "        text-align: right;\n",
       "    }\n",
       "</style>\n",
       "<table border=\"1\" class=\"dataframe\">\n",
       "  <thead>\n",
       "    <tr style=\"text-align: right;\">\n",
       "      <th></th>\n",
       "      <th>rating</th>\n",
       "      <th>text</th>\n",
       "      <th>polarity</th>\n",
       "    </tr>\n",
       "  </thead>\n",
       "  <tbody>\n",
       "    <tr>\n",
       "      <th>0</th>\n",
       "      <td>3</td>\n",
       "      <td>Visited the place for 3 times\\nNo consistency ...</td>\n",
       "      <td>Neutral</td>\n",
       "    </tr>\n",
       "    <tr>\n",
       "      <th>1</th>\n",
       "      <td>5</td>\n",
       "      <td>Always one for trying something new and as we ...</td>\n",
       "      <td>Positive</td>\n",
       "    </tr>\n",
       "    <tr>\n",
       "      <th>2</th>\n",
       "      <td>3</td>\n",
       "      <td>A nice place for a drink, coffee is alright, n...</td>\n",
       "      <td>Neutral</td>\n",
       "    </tr>\n",
       "    <tr>\n",
       "      <th>3</th>\n",
       "      <td>5</td>\n",
       "      <td>I like the taste of the cold coffee named (DUL...</td>\n",
       "      <td>Positive</td>\n",
       "    </tr>\n",
       "    <tr>\n",
       "      <th>4</th>\n",
       "      <td>5</td>\n",
       "      <td>Nice menu specially after the lockdown. Having...</td>\n",
       "      <td>Positive</td>\n",
       "    </tr>\n",
       "    <tr>\n",
       "      <th>...</th>\n",
       "      <td>...</td>\n",
       "      <td>...</td>\n",
       "      <td>...</td>\n",
       "    </tr>\n",
       "    <tr>\n",
       "      <th>2545</th>\n",
       "      <td>5</td>\n",
       "      <td></td>\n",
       "      <td>Positive</td>\n",
       "    </tr>\n",
       "    <tr>\n",
       "      <th>2546</th>\n",
       "      <td>4</td>\n",
       "      <td></td>\n",
       "      <td>Positive</td>\n",
       "    </tr>\n",
       "    <tr>\n",
       "      <th>2547</th>\n",
       "      <td>5</td>\n",
       "      <td></td>\n",
       "      <td>Positive</td>\n",
       "    </tr>\n",
       "    <tr>\n",
       "      <th>2548</th>\n",
       "      <td>1</td>\n",
       "      <td></td>\n",
       "      <td>Negative</td>\n",
       "    </tr>\n",
       "    <tr>\n",
       "      <th>2549</th>\n",
       "      <td>1</td>\n",
       "      <td></td>\n",
       "      <td>Negative</td>\n",
       "    </tr>\n",
       "  </tbody>\n",
       "</table>\n",
       "<p>2550 rows × 3 columns</p>\n",
       "</div>"
      ],
      "text/plain": [
       "      rating                                               text  polarity\n",
       "0          3  Visited the place for 3 times\\nNo consistency ...   Neutral\n",
       "1          5  Always one for trying something new and as we ...  Positive\n",
       "2          3  A nice place for a drink, coffee is alright, n...   Neutral\n",
       "3          5  I like the taste of the cold coffee named (DUL...  Positive\n",
       "4          5  Nice menu specially after the lockdown. Having...  Positive\n",
       "...      ...                                                ...       ...\n",
       "2545       5                                                     Positive\n",
       "2546       4                                                     Positive\n",
       "2547       5                                                     Positive\n",
       "2548       1                                                     Negative\n",
       "2549       1                                                     Negative\n",
       "\n",
       "[2550 rows x 3 columns]"
      ]
     },
     "execution_count": 58,
     "metadata": {},
     "output_type": "execute_result"
    }
   ],
   "source": [
    "df_reviews"
   ]
  },
  {
   "cell_type": "code",
   "execution_count": 59,
   "metadata": {},
   "outputs": [
    {
     "name": "stdout",
     "output_type": "stream",
     "text": [
      "[(\"Visited the place for 3 times\\nNo consistency of coffee taste . I belive it's due to the temperature of coffee &milk …\", '', ''), ('Always one for trying something new and as we finished our wonderful evening meal we stepped in to Dose for the first time. Wonderful decorations, atmosphere and music just at the right level. One area I feel people think they can save …', '', ''), ('A nice place for a drink, coffee is alright, nothing special, but the decor is beautiful and the ambiance is great, with classics playing in the background, chairs are not very comfortable though. I hated the long line, I ordered the red …', '', ''), ('I like the taste of the cold coffee named (DULCE DE LECHE)\\nIts not the first time i try it and its not gonna be the last time and im gonna taste another option from their list . Order didn’t take long time to be done …', '', ''), ('Nice menu specially after the lockdown. Having different sizes. Very good staff & quick service. Welcome back to dose after lockdown (that welcome is for me). They have cold and hot menu. My favorite choice is Spanish latte. Espresso is so …', '', ''), ('Nice chill place\\nNice environment for working (in the morning)\\nQuick service …', '', ''), ('As always superb. One of the best quality Coffee in Town.\\nI am fan of this brand since i drink 1st time in Bahrain.', '', ''), ('Quite place, eye catching style, good hospitality, and delicious staff', '', ''), ('Well balanced coffee. Little bit pricey in comparison to the cup size they serve ( short size). We ordered chocflakes, red velvet, and flat white. All were hot beverages the tase was great. It’s a cozy atmosphere but I recommend to take …', '', ''), (\"I'm not a fan of iced coffee, but the KitKat iced latte was amazing, been craving another since it, décor is great, avoid rush times if you don't want to wait 30-60 mins for a drink\", '', '')]\n"
     ]
    }
   ],
   "source": [
    "# remove google translation\n",
    "df_reviews['text'] = df_reviews['text'].str.replace(\"(translated by google)\", '', regex=False)\n",
    "df_reviews['text'] = df_reviews['text'].str.replace(\"(original)\", '%*?<>!', regex=False)\n",
    "# split each review into before and after the original\n",
    "df_reviews['text'] = df_reviews['text'].str.partition('%*?<>!', expand=False)\n",
    "# take the text before the original (the translated review)\n",
    "print(df_reviews['text'].tolist()[:10])\n",
    "df_reviews['text'] = df_reviews['text'].apply(lambda x: x[2])\n",
    "\n",
    "# after removing the google translation remove outliers (zreo length reviews)\n",
    "lengths = df_reviews['text'].apply(lambda x: len(x))\n",
    "zero_idx = df_reviews[lengths == 0].index\n",
    "df_reviews.drop(zero_idx, axis=0, inplace=True)"
   ]
  },
  {
   "cell_type": "code",
   "execution_count": 60,
   "metadata": {},
   "outputs": [
    {
     "data": {
      "text/html": [
       "<div>\n",
       "<style scoped>\n",
       "    .dataframe tbody tr th:only-of-type {\n",
       "        vertical-align: middle;\n",
       "    }\n",
       "\n",
       "    .dataframe tbody tr th {\n",
       "        vertical-align: top;\n",
       "    }\n",
       "\n",
       "    .dataframe thead th {\n",
       "        text-align: right;\n",
       "    }\n",
       "</style>\n",
       "<table border=\"1\" class=\"dataframe\">\n",
       "  <thead>\n",
       "    <tr style=\"text-align: right;\">\n",
       "      <th></th>\n",
       "      <th>rating</th>\n",
       "      <th>text</th>\n",
       "      <th>polarity</th>\n",
       "    </tr>\n",
       "  </thead>\n",
       "  <tbody>\n",
       "  </tbody>\n",
       "</table>\n",
       "</div>"
      ],
      "text/plain": [
       "Empty DataFrame\n",
       "Columns: [rating, text, polarity]\n",
       "Index: []"
      ]
     },
     "execution_count": 60,
     "metadata": {},
     "output_type": "execute_result"
    }
   ],
   "source": [
    "df_reviews"
   ]
  },
  {
   "cell_type": "code",
   "execution_count": null,
   "id": "16356a20",
   "metadata": {
    "scrolled": true
   },
   "outputs": [
    {
     "data": {
      "text/html": [
       "<div>\n",
       "<style scoped>\n",
       "    .dataframe tbody tr th:only-of-type {\n",
       "        vertical-align: middle;\n",
       "    }\n",
       "\n",
       "    .dataframe tbody tr th {\n",
       "        vertical-align: top;\n",
       "    }\n",
       "\n",
       "    .dataframe thead th {\n",
       "        text-align: right;\n",
       "    }\n",
       "</style>\n",
       "<table border=\"1\" class=\"dataframe\">\n",
       "  <thead>\n",
       "    <tr style=\"text-align: right;\">\n",
       "      <th></th>\n",
       "      <th>text</th>\n",
       "      <th>rating</th>\n",
       "      <th>stars</th>\n",
       "      <th>lengths</th>\n",
       "    </tr>\n",
       "  </thead>\n",
       "  <tbody>\n",
       "    <tr>\n",
       "      <th>0</th>\n",
       "      <td>Stopped off here as we were looking for somewh...</td>\n",
       "      <td>3</td>\n",
       "      <td>1</td>\n",
       "      <td>109</td>\n",
       "    </tr>\n",
       "    <tr>\n",
       "      <th>1</th>\n",
       "      <td>What a great restaurant. We went to go see the...</td>\n",
       "      <td>5</td>\n",
       "      <td>1</td>\n",
       "      <td>54</td>\n",
       "    </tr>\n",
       "    <tr>\n",
       "      <th>2</th>\n",
       "      <td>Boy, am I glad I got to try Da Marino before t...</td>\n",
       "      <td>5</td>\n",
       "      <td>1</td>\n",
       "      <td>205</td>\n",
       "    </tr>\n",
       "    <tr>\n",
       "      <th>3</th>\n",
       "      <td>We found this gem during our mini trip to expe...</td>\n",
       "      <td>5</td>\n",
       "      <td>1</td>\n",
       "      <td>146</td>\n",
       "    </tr>\n",
       "    <tr>\n",
       "      <th>4</th>\n",
       "      <td>Donna the bartender is amazing. She is a hard ...</td>\n",
       "      <td>5</td>\n",
       "      <td>1</td>\n",
       "      <td>32</td>\n",
       "    </tr>\n",
       "    <tr>\n",
       "      <th>...</th>\n",
       "      <td>...</td>\n",
       "      <td>...</td>\n",
       "      <td>...</td>\n",
       "      <td>...</td>\n",
       "    </tr>\n",
       "    <tr>\n",
       "      <th>26628</th>\n",
       "      <td>They have really a good burger using a good qu...</td>\n",
       "      <td>3</td>\n",
       "      <td>1</td>\n",
       "      <td>19</td>\n",
       "    </tr>\n",
       "    <tr>\n",
       "      <th>26629</th>\n",
       "      <td>High price .. bad food tast and quality ..heav...</td>\n",
       "      <td>1</td>\n",
       "      <td>0</td>\n",
       "      <td>20</td>\n",
       "    </tr>\n",
       "    <tr>\n",
       "      <th>26630</th>\n",
       "      <td>This was a nice sit down restaurant with food ...</td>\n",
       "      <td>2</td>\n",
       "      <td>0</td>\n",
       "      <td>213</td>\n",
       "    </tr>\n",
       "    <tr>\n",
       "      <th>26631</th>\n",
       "      <td>I went for a dinner Sunday, reservation at 7:0...</td>\n",
       "      <td>1</td>\n",
       "      <td>0</td>\n",
       "      <td>235</td>\n",
       "    </tr>\n",
       "    <tr>\n",
       "      <th>26632</th>\n",
       "      <td>Notably the worst experience in a fine dining ...</td>\n",
       "      <td>1</td>\n",
       "      <td>0</td>\n",
       "      <td>154</td>\n",
       "    </tr>\n",
       "  </tbody>\n",
       "</table>\n",
       "<p>26633 rows × 4 columns</p>\n",
       "</div>"
      ],
      "text/plain": [
       "                                                    text  rating  stars  \\\n",
       "0      Stopped off here as we were looking for somewh...       3      1   \n",
       "1      What a great restaurant. We went to go see the...       5      1   \n",
       "2      Boy, am I glad I got to try Da Marino before t...       5      1   \n",
       "3      We found this gem during our mini trip to expe...       5      1   \n",
       "4      Donna the bartender is amazing. She is a hard ...       5      1   \n",
       "...                                                  ...     ...    ...   \n",
       "26628  They have really a good burger using a good qu...       3      1   \n",
       "26629  High price .. bad food tast and quality ..heav...       1      0   \n",
       "26630  This was a nice sit down restaurant with food ...       2      0   \n",
       "26631  I went for a dinner Sunday, reservation at 7:0...       1      0   \n",
       "26632  Notably the worst experience in a fine dining ...       1      0   \n",
       "\n",
       "       lengths  \n",
       "0          109  \n",
       "1           54  \n",
       "2          205  \n",
       "3          146  \n",
       "4           32  \n",
       "...        ...  \n",
       "26628       19  \n",
       "26629       20  \n",
       "26630      213  \n",
       "26631      235  \n",
       "26632      154  \n",
       "\n",
       "[26633 rows x 4 columns]"
      ]
     },
     "metadata": {},
     "output_type": "display_data"
    }
   ],
   "source": [
    "# remove non english reviews\n",
    "lambda_ = lambda x: x if detect(x) == 'ar' else None\n",
    "for i in range(len(df_reviews)):\n",
    "    if(len(df_reviews.iloc[i, 0]) > 40):\n",
    "        try:\n",
    "            df_reviews.iloc[i, 0] = lambda_(df_reviews.iloc[i, 0])\n",
    "        # if the number of words in the text is shorter than 10 LangDetect would raise an exception\n",
    "        # or if the text contain only numbers/symbols\n",
    "        except LangDetectException:\n",
    "            pass\n",
    "none_value = df_reviews[df_reviews['text'].isnull()].index\n",
    "df_reviews.drop(none_value, axis=0, inplace=True)"
   ]
  },
  {
   "cell_type": "code",
   "execution_count": 37,
   "id": "fded9454",
   "metadata": {},
   "outputs": [],
   "source": [
    "#sorting the values by the label so that the positive (1)\n",
    "# df_review = df_review.sort_values(by=['stars', 'lengths'], ascending=[False, False])\n",
    "# df_review = df_review.sort_values(by='stars', ascending=False)\n",
    "# df_review"
   ]
  },
  {
   "cell_type": "code",
   "execution_count": null,
   "id": "45d7d687",
   "metadata": {},
   "outputs": [],
   "source": [
    "# a test to balance the reviews in a dataframe\n",
    "# def balance_distrubution(df, pos_percentage = 0.5):\n",
    "#     if df['stars'].sum(axis=0)/len(df) < pos_percentage:\n",
    "#         print('positive percentage is already below {}%'.format(pos_percentage*100))\n",
    "#         return\n",
    "    \n",
    "#     df = df.reset_index(drop=True) \n",
    "#     #taking an estimation of 1% if the total length of the dataframe\n",
    "#     step = int(len(df)/100)\n",
    "    \n",
    "#     for i in range(0, df.shape[0], step):\n",
    "#         #dropping the amount of step of entries until the pos_percentage reaches 1% obave it\n",
    "#         #so that no more data than required would be deleted\n",
    "#         if (df['stars'].sum(axis=0)/len(df)) > (pos_percentage+0.02):\n",
    "#             df.drop(df.index[0:step], axis=0, inplace=True)\n",
    "#             df = df.reset_index(drop=True)\n",
    "#             print(df['stars'].sum(axis=0)/len(df))\n",
    "#         elif (df['stars'].sum(axis=0)/len(df)) > pos_percentage:\n",
    "#             #taking an estimation of the remaining data and dropping them\n",
    "#             #taking the positive reviews from the end to get rid of very short reviews\n",
    "#             remaining_data = int(((df['stars'].sum(axis=0)/len(df)) - pos_percentage) * len(df))\n",
    "#             postive_last_index = int(len(df)/2)-remaining_data\n",
    "#             df.drop(df.index[postive_last_index-remaining_data:postive_last_index], axis=0, inplace=True)\n",
    "#             df = df.reset_index(drop=True)  \n",
    "#             print(df['stars'].sum(axis=0)/len(df))\n",
    "#             #dropping entries one by one until it reaches pos_percentage \n",
    "#             for i in range(df.shape[0]):\n",
    "#                 if (df['stars'].sum(axis=0)/len(df)) > pos_percentage:\n",
    "#                     df.drop(df.index[0], axis=0, inplace=True)\n",
    "#                     df = df.reset_index(drop=True)\n",
    "#                     print(df['stars'].sum(axis=0)/len(df))\n",
    "#                 else:\n",
    "#                     break        \n",
    "#         elif (df['stars'].sum(axis=0)/len(df)) == pos_percentage:        \n",
    "#             return df\n",
    "        \n",
    "#         else:\n",
    "#             raise Exception()"
   ]
  },
  {
   "cell_type": "code",
   "execution_count": null,
   "id": "c88f3164",
   "metadata": {
    "scrolled": true
   },
   "outputs": [
    {
     "name": "stdout",
     "output_type": "stream",
     "text": [
      "positive percentage is already below 95.0%\n"
     ]
    }
   ],
   "source": [
    "balance_distrubution(df_reviews, pos_percentage=0.95)"
   ]
  },
  {
   "cell_type": "code",
   "execution_count": null,
   "id": "f009666a",
   "metadata": {
    "scrolled": true
   },
   "outputs": [
    {
     "name": "stdout",
     "output_type": "stream",
     "text": [
      "0.9057154776804339\n",
      "0.9047546071031761\n",
      "0.9037739500677375\n",
      "0.9027728890453284\n",
      "0.9017507805398569\n",
      "0.9007069537085114\n",
      "0.8996407088934641\n",
      "0.8985513160579474\n",
      "0.8974380131193531\n",
      "0.8963000041713595\n",
      "0.8951364575863668\n",
      "0.8939465039887377\n",
      "0.8927292340884574\n",
      "0.8914836963638745\n",
      "0.8902088945811067\n",
      "0.8889037851365241\n",
      "0.8875672742074081\n",
      "0.886198214694438\n",
      "0.8847954029380416\n",
      "0.8833575751888518\n",
      "0.8818834038105193\n",
      "0.8803714931908956\n",
      "0.8788203753351207\n",
      "0.8772285051113635\n",
      "0.8755942551168493\n",
      "0.8739159101283157\n",
      "0.8721916610971159\n",
      "0.8704195986447746\n",
      "0.8685977060098314\n",
      "0.8667238513911971\n",
      "0.8647957796269103\n",
      "0.8628111031400033\n",
      "0.860767292075049\n",
      "0.8586616635397123\n",
      "0.8564913698551059\n",
      "0.8542533857067479\n",
      "0.8519444940742065\n",
      "0.8495612708018154\n",
      "0.8471000676548374\n",
      "0.844556993684737\n",
      "0.8419278947033764\n",
      "0.8392083306383804\n",
      "0.8363935505100362\n",
      "0.8334784647330699\n",
      "0.8304576144036009\n",
      "0.8273251371813573\n",
      "0.8240747293185195\n",
      "0.8206996033177064\n",
      "0.8171924406206339\n",
      "0.8135453386334658\n",
      "0.809749751281855\n",
      "0.8057964221545192\n",
      "0.8016753091344236\n",
      "0.7973754992256907\n",
      "0.7928851120553195\n",
      "0.788191190253046\n",
      "0.783279574579374\n",
      "0.7781347612672914\n",
      "0.7727397385501417\n",
      "0.7670757987444955\n",
      "0.7611223215143653\n",
      "0.7548565230253427\n",
      "0.748253164556962\n",
      "0.7412842127172442\n",
      "0.7339184416140426\n",
      "0.7261209650765671\n",
      "0.717852684144819\n",
      "0.7090696313633704\n",
      "0.6997221886701293\n",
      "0.689754149507051\n",
      "0.6791015877113722\n",
      "0.6676914850955754\n",
      "0.6554400554400555\n",
      "0.6422506835515902\n",
      "0.6280113721382613\n",
      "0.6125915536855229\n",
      "0.5958380751097383\n",
      "0.577570093457944\n",
      "0.5575725218010322\n",
      "0.5355875210162526\n",
      "0.5113033221938275\n",
      "0.5057654075546719\n",
      "0.5056671306422748\n",
      "0.505568814638027\n",
      "0.5054704595185996\n",
      "0.5053720652606446\n",
      "0.505273631840796\n",
      "0.5051751592356688\n",
      "0.5050766474218594\n",
      "0.5049780963759458\n",
      "0.5048795060744872\n",
      "0.5047808764940239\n",
      "0.5046822076110778\n",
      "0.5045834994021523\n",
      "0.5044847518437313\n",
      "0.5043859649122807\n",
      "0.5042871385842472\n",
      "0.504188272836059\n",
      "0.5040893676441253\n",
      "0.5039904229848364\n",
      "0.503891438834564\n",
      "0.5037924151696607\n",
      "0.5036933519664604\n",
      "0.5035942492012779\n",
      "0.5034951068504094\n",
      "0.5033959248901319\n",
      "0.5032967032967033\n",
      "0.503197442046363\n",
      "0.5030981411153308\n",
      "0.502998800479808\n",
      "0.5028994201159768\n",
      "0.5028\n",
      "0.5027005401080216\n",
      "0.5026010404161665\n",
      "0.5025015009005404\n",
      "0.5024019215372297\n",
      "0.5023023023023023\n",
      "0.5022026431718062\n",
      "0.5021029441217705\n",
      "0.5020032051282052\n",
      "0.5019034261671008\n",
      "0.5018036072144288\n",
      "0.5017037482461415\n",
      "0.5016038492381716\n",
      "0.5015039101664327\n",
      "0.5014039310068191\n",
      "0.5013039117352056\n",
      "0.5012038523274478\n",
      "0.5011037527593819\n",
      "0.5010036130068246\n",
      "0.5009034330455732\n",
      "0.5008032128514056\n",
      "0.5007029524000803\n",
      "0.5006026516673363\n",
      "0.5005023106288929\n",
      "0.5004019292604501\n",
      "0.5003015075376884\n",
      "0.5002010454362686\n",
      "0.5001005429318319\n",
      "0.5\n"
     ]
    }
   ],
   "source": [
    "df_review = balance_distrubution(df_reviews, pos_percentage=0.5)"
   ]
  },
  {
   "cell_type": "code",
   "execution_count": null,
   "id": "f1ba8a84",
   "metadata": {},
   "outputs": [
    {
     "name": "stdout",
     "output_type": "stream",
     "text": [
      "(4972, 4)\n",
      "the number of entries lost: 21661\n"
     ]
    }
   ],
   "source": [
    "#making sure the dataframe has been modified and to see the amount of data lost\n",
    "#original number of rows is 26633 \n",
    "print(df_review.shape)\n",
    "print(f'the number of entries lost: {26633-df_review.shape[0]}')"
   ]
  },
  {
   "cell_type": "code",
   "execution_count": null,
   "id": "c982469e",
   "metadata": {
    "scrolled": true
   },
   "outputs": [
    {
     "data": {
      "text/plain": [
       "<BarContainer object of 2 artists>"
      ]
     },
     "metadata": {},
     "output_type": "display_data"
    },
    {
     "data": {
      "image/png": "[encoded data removed]",
      "text/plain": [
       "<Figure size 432x288 with 1 Axes>"
      ]
     },
     "metadata": {},
     "output_type": "display_data"
    }
   ],
   "source": [
    "#plot to make sure the distrubution is the balanced\n",
    "plt.figure()\n",
    "\n",
    "plt.ylabel('Frequancy')\n",
    "plt.xticks([1, 0],['positive','negative'])\n",
    "\n",
    "plt.bar([1, 0],df_review['stars'].value_counts())"
   ]
  },
  {
   "cell_type": "code",
   "execution_count": null,
   "id": "e0906813",
   "metadata": {},
   "outputs": [
    {
     "data": {
      "text/html": [
       "<div>\n",
       "<style scoped>\n",
       "    .dataframe tbody tr th:only-of-type {\n",
       "        vertical-align: middle;\n",
       "    }\n",
       "\n",
       "    .dataframe tbody tr th {\n",
       "        vertical-align: top;\n",
       "    }\n",
       "\n",
       "    .dataframe thead th {\n",
       "        text-align: right;\n",
       "    }\n",
       "</style>\n",
       "<table border=\"1\" class=\"dataframe\">\n",
       "  <thead>\n",
       "    <tr style=\"text-align: right;\">\n",
       "      <th></th>\n",
       "      <th>text</th>\n",
       "      <th>rating</th>\n",
       "      <th>stars</th>\n",
       "      <th>lengths</th>\n",
       "    </tr>\n",
       "  </thead>\n",
       "  <tbody>\n",
       "    <tr>\n",
       "      <th>0</th>\n",
       "      <td>I was extremely impressed by Mohamed Ali Taala...</td>\n",
       "      <td>5</td>\n",
       "      <td>1</td>\n",
       "      <td>37</td>\n",
       "    </tr>\n",
       "    <tr>\n",
       "      <th>1</th>\n",
       "      <td>Very nice food, very nice service especially A...</td>\n",
       "      <td>5</td>\n",
       "      <td>1</td>\n",
       "      <td>19</td>\n",
       "    </tr>\n",
       "    <tr>\n",
       "      <th>2</th>\n",
       "      <td>Nisce service from ABHISHEK and delicious food...</td>\n",
       "      <td>5</td>\n",
       "      <td>1</td>\n",
       "      <td>30</td>\n",
       "    </tr>\n",
       "    <tr>\n",
       "      <th>3</th>\n",
       "      <td>Thank you so much for good delicious food and ...</td>\n",
       "      <td>5</td>\n",
       "      <td>1</td>\n",
       "      <td>20</td>\n",
       "    </tr>\n",
       "    <tr>\n",
       "      <th>4</th>\n",
       "      <td>Superb venue, very friendly, welcoming, and ef...</td>\n",
       "      <td>5</td>\n",
       "      <td>1</td>\n",
       "      <td>89</td>\n",
       "    </tr>\n",
       "    <tr>\n",
       "      <th>...</th>\n",
       "      <td>...</td>\n",
       "      <td>...</td>\n",
       "      <td>...</td>\n",
       "      <td>...</td>\n",
       "    </tr>\n",
       "    <tr>\n",
       "      <th>4967</th>\n",
       "      <td>We found a place close to Book of Mormon, it i...</td>\n",
       "      <td>2</td>\n",
       "      <td>0</td>\n",
       "      <td>115</td>\n",
       "    </tr>\n",
       "    <tr>\n",
       "      <th>4968</th>\n",
       "      <td>After doing lots of research and poring over N...</td>\n",
       "      <td>1</td>\n",
       "      <td>0</td>\n",
       "      <td>348</td>\n",
       "    </tr>\n",
       "    <tr>\n",
       "      <th>4969</th>\n",
       "      <td>we went there with a party of 5 european trave...</td>\n",
       "      <td>2</td>\n",
       "      <td>0</td>\n",
       "      <td>107</td>\n",
       "    </tr>\n",
       "    <tr>\n",
       "      <th>4970</th>\n",
       "      <td>Generally the atmosphere is very good. You can...</td>\n",
       "      <td>2</td>\n",
       "      <td>0</td>\n",
       "      <td>28</td>\n",
       "    </tr>\n",
       "    <tr>\n",
       "      <th>4971</th>\n",
       "      <td>Notably the worst experience in a fine dining ...</td>\n",
       "      <td>1</td>\n",
       "      <td>0</td>\n",
       "      <td>154</td>\n",
       "    </tr>\n",
       "  </tbody>\n",
       "</table>\n",
       "<p>4972 rows × 4 columns</p>\n",
       "</div>"
      ],
      "text/plain": [
       "                                                   text  rating  stars  \\\n",
       "0     I was extremely impressed by Mohamed Ali Taala...       5      1   \n",
       "1     Very nice food, very nice service especially A...       5      1   \n",
       "2     Nisce service from ABHISHEK and delicious food...       5      1   \n",
       "3     Thank you so much for good delicious food and ...       5      1   \n",
       "4     Superb venue, very friendly, welcoming, and ef...       5      1   \n",
       "...                                                 ...     ...    ...   \n",
       "4967  We found a place close to Book of Mormon, it i...       2      0   \n",
       "4968  After doing lots of research and poring over N...       1      0   \n",
       "4969  we went there with a party of 5 european trave...       2      0   \n",
       "4970  Generally the atmosphere is very good. You can...       2      0   \n",
       "4971  Notably the worst experience in a fine dining ...       1      0   \n",
       "\n",
       "      lengths  \n",
       "0          37  \n",
       "1          19  \n",
       "2          30  \n",
       "3          20  \n",
       "4          89  \n",
       "...       ...  \n",
       "4967      115  \n",
       "4968      348  \n",
       "4969      107  \n",
       "4970       28  \n",
       "4971      154  \n",
       "\n",
       "[4972 rows x 4 columns]"
      ]
     },
     "metadata": {},
     "output_type": "display_data"
    }
   ],
   "source": [
    "df_review"
   ]
  },
  {
   "cell_type": "code",
   "execution_count": null,
   "id": "7300b045",
   "metadata": {},
   "outputs": [
    {
     "name": "stdout",
     "output_type": "stream",
     "text": [
      "avarege length is 91.14581657280772\n"
     ]
    },
    {
     "data": {
      "text/plain": [
       "<AxesSubplot:ylabel='Frequency'>"
      ]
     },
     "metadata": {},
     "output_type": "display_data"
    },
    {
     "data": {
      "image/png": "[encoded data removed]",
      "text/plain": [
       "<Figure size 432x288 with 1 Axes>"
      ]
     },
     "metadata": {},
     "output_type": "display_data"
    }
   ],
   "source": [
    "#plotting the length of the reviews\n",
    "print('avarege length is', df_review['lengths'].mean())\n",
    "\n",
    "df_review['lengths'].plot.hist(range=(0,100))"
   ]
  },
  {
   "cell_type": "code",
   "execution_count": null,
   "id": "f140de84",
   "metadata": {},
   "outputs": [
    {
     "name": "stdout",
     "output_type": "stream",
     "text": [
      "distrubution (precentage of positive data): 50.0 %\n"
     ]
    }
   ],
   "source": [
    "#printing the precentage of positive entries\n",
    "print('distrubution (precentage of positive data): {} %'.format((df_review['stars'].sum(axis=0)/df_review.shape[0])*100))"
   ]
  },
  {
   "cell_type": "code",
   "execution_count": null,
   "id": "6b25dc93",
   "metadata": {},
   "outputs": [
    {
     "data": {
      "text/html": [
       "<div>\n",
       "<style scoped>\n",
       "    .dataframe tbody tr th:only-of-type {\n",
       "        vertical-align: middle;\n",
       "    }\n",
       "\n",
       "    .dataframe tbody tr th {\n",
       "        vertical-align: top;\n",
       "    }\n",
       "\n",
       "    .dataframe thead th {\n",
       "        text-align: right;\n",
       "    }\n",
       "</style>\n",
       "<table border=\"1\" class=\"dataframe\">\n",
       "  <thead>\n",
       "    <tr style=\"text-align: right;\">\n",
       "      <th></th>\n",
       "      <th>text</th>\n",
       "      <th>rating</th>\n",
       "    </tr>\n",
       "  </thead>\n",
       "  <tbody>\n",
       "    <tr>\n",
       "      <th>0</th>\n",
       "      <td>I was extremely impressed by Mohamed Ali Taala...</td>\n",
       "      <td>5</td>\n",
       "    </tr>\n",
       "    <tr>\n",
       "      <th>1</th>\n",
       "      <td>Very nice food, very nice service especially A...</td>\n",
       "      <td>5</td>\n",
       "    </tr>\n",
       "    <tr>\n",
       "      <th>2</th>\n",
       "      <td>Nisce service from ABHISHEK and delicious food...</td>\n",
       "      <td>5</td>\n",
       "    </tr>\n",
       "    <tr>\n",
       "      <th>3</th>\n",
       "      <td>Thank you so much for good delicious food and ...</td>\n",
       "      <td>5</td>\n",
       "    </tr>\n",
       "    <tr>\n",
       "      <th>4</th>\n",
       "      <td>Superb venue, very friendly, welcoming, and ef...</td>\n",
       "      <td>5</td>\n",
       "    </tr>\n",
       "  </tbody>\n",
       "</table>\n",
       "</div>"
      ],
      "text/plain": [
       "                                                text  rating\n",
       "0  I was extremely impressed by Mohamed Ali Taala...       5\n",
       "1  Very nice food, very nice service especially A...       5\n",
       "2  Nisce service from ABHISHEK and delicious food...       5\n",
       "3  Thank you so much for good delicious food and ...       5\n",
       "4  Superb venue, very friendly, welcoming, and ef...       5"
      ]
     },
     "metadata": {},
     "output_type": "display_data"
    }
   ],
   "source": [
    "df_review.drop(['lengths', 'stars'], axis=1, inplace=True)\n",
    "df_review.head(5)"
   ]
  },
  {
   "cell_type": "code",
   "execution_count": null,
   "id": "3c3107ec",
   "metadata": {},
   "outputs": [
    {
     "data": {
      "text/plain": [
       "<AxesSubplot:ylabel='Frequency'>"
      ]
     },
     "metadata": {},
     "output_type": "display_data"
    },
    {
     "data": {
      "image/png": "[encoded data removed]",
      "text/plain": [
       "<Figure size 432x288 with 1 Axes>"
      ]
     },
     "metadata": {},
     "output_type": "display_data"
    }
   ],
   "source": [
    "#plotting the rating distrubution\n",
    "figure = plt.figure()\n",
    "\n",
    "axes = figure.add_subplot(1, 1, 1)\n",
    "axes.set_ylabel('Frequancy')\n",
    "\n",
    "# df_review['stars'].plot.hist()\n",
    "df_review['rating'].plot.hist()"
   ]
  },
  {
   "cell_type": "code",
   "execution_count": null,
   "id": "b51ec69a",
   "metadata": {},
   "outputs": [],
   "source": [
    "#saving the data to be used later on\n",
    "df_review.to_pickle('google_balanced.pkl')\n",
    "df_review.to_csv('google_balanced.csv')\n",
    "df_review.to_json('google_balanced.json',orient='records')"
   ]
  },
  {
   "cell_type": "code",
   "execution_count": null,
   "id": "e6488511",
   "metadata": {},
   "outputs": [
    {
     "data": {
      "text/html": [
       "<div>\n",
       "<style scoped>\n",
       "    .dataframe tbody tr th:only-of-type {\n",
       "        vertical-align: middle;\n",
       "    }\n",
       "\n",
       "    .dataframe tbody tr th {\n",
       "        vertical-align: top;\n",
       "    }\n",
       "\n",
       "    .dataframe thead th {\n",
       "        text-align: right;\n",
       "    }\n",
       "</style>\n",
       "<table border=\"1\" class=\"dataframe\">\n",
       "  <thead>\n",
       "    <tr style=\"text-align: right;\">\n",
       "      <th></th>\n",
       "      <th>text</th>\n",
       "      <th>rating</th>\n",
       "    </tr>\n",
       "  </thead>\n",
       "  <tbody>\n",
       "    <tr>\n",
       "      <th>0</th>\n",
       "      <td>I was extremely impressed by Mohamed Ali Taala...</td>\n",
       "      <td>5</td>\n",
       "    </tr>\n",
       "    <tr>\n",
       "      <th>1</th>\n",
       "      <td>Very nice food, very nice service especially A...</td>\n",
       "      <td>5</td>\n",
       "    </tr>\n",
       "    <tr>\n",
       "      <th>2</th>\n",
       "      <td>Nisce service from ABHISHEK and delicious food...</td>\n",
       "      <td>5</td>\n",
       "    </tr>\n",
       "    <tr>\n",
       "      <th>3</th>\n",
       "      <td>Thank you so much for good delicious food and ...</td>\n",
       "      <td>5</td>\n",
       "    </tr>\n",
       "    <tr>\n",
       "      <th>4</th>\n",
       "      <td>Superb venue, very friendly, welcoming, and ef...</td>\n",
       "      <td>5</td>\n",
       "    </tr>\n",
       "    <tr>\n",
       "      <th>5</th>\n",
       "      <td>When we walked in this morning, my wife made a...</td>\n",
       "      <td>5</td>\n",
       "    </tr>\n",
       "    <tr>\n",
       "      <th>6</th>\n",
       "      <td>The visit to Al Orjouan started from the very ...</td>\n",
       "      <td>5</td>\n",
       "    </tr>\n",
       "    <tr>\n",
       "      <th>7</th>\n",
       "      <td>Every thing was amazing and the food was great...</td>\n",
       "      <td>5</td>\n",
       "    </tr>\n",
       "    <tr>\n",
       "      <th>8</th>\n",
       "      <td>The food was excellent and service also amazin...</td>\n",
       "      <td>5</td>\n",
       "    </tr>\n",
       "    <tr>\n",
       "      <th>9</th>\n",
       "      <td>Nice restaurant and excellent service, the foo...</td>\n",
       "      <td>5</td>\n",
       "    </tr>\n",
       "  </tbody>\n",
       "</table>\n",
       "</div>"
      ],
      "text/plain": [
       "                                                text  rating\n",
       "0  I was extremely impressed by Mohamed Ali Taala...       5\n",
       "1  Very nice food, very nice service especially A...       5\n",
       "2  Nisce service from ABHISHEK and delicious food...       5\n",
       "3  Thank you so much for good delicious food and ...       5\n",
       "4  Superb venue, very friendly, welcoming, and ef...       5\n",
       "5  When we walked in this morning, my wife made a...       5\n",
       "6  The visit to Al Orjouan started from the very ...       5\n",
       "7  Every thing was amazing and the food was great...       5\n",
       "8  The food was excellent and service also amazin...       5\n",
       "9  Nice restaurant and excellent service, the foo...       5"
      ]
     },
     "metadata": {},
     "output_type": "display_data"
    }
   ],
   "source": [
    "df1 = pd.read_pickle('google_balanced.pkl')\n",
    "df1.head(10)"
   ]
  }
 ],
 "metadata": {
  "interpreter": {
   "hash": "0ca738696e74c3b582319100ac25d026cf0c528d8decfe2c9d2d27159d6836ba"
  },
  "kernelspec": {
   "display_name": "Python 3.10.4 ('Graduation-Project')",
   "language": "python",
   "name": "python3"
  },
  "language_info": {
   "codemirror_mode": {
    "name": "ipython",
    "version": 3
   },
   "file_extension": ".py",
   "mimetype": "text/x-python",
   "name": "python",
   "nbconvert_exporter": "python",
   "pygments_lexer": "ipython3",
   "version": "3.10.4"
  },
  "orig_nbformat": 4
 },
 "nbformat": 4,
 "nbformat_minor": 2
}
