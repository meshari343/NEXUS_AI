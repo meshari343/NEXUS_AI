{
 "cells": [
  {
   "cell_type": "code",
   "execution_count": 1,
   "id": "893c71c6",
   "metadata": {},
   "outputs": [
    {
     "name": "stderr",
     "output_type": "stream",
     "text": [
      "[nltk_data] Downloading package stopwords to\n",
      "[nltk_data]     C:\\Users\\meshari\\AppData\\Roaming\\nltk_data...\n",
      "[nltk_data]   Package stopwords is already up-to-date!\n"
     ]
    }
   ],
   "source": [
    "import pandas as pd\n",
    "import numpy as np\n",
    "import torch\n",
    "from torch.utils.data import TensorDataset, DataLoader\n",
    "import torch.nn as nn\n",
    "import matplotlib.pyplot as plt\n",
    "%matplotlib inline\n",
    "\n",
    "#costume classes\n",
    "from nexus_ai.sentence_sentiment_analysis.model import SentimentRNN\n",
    "from nexus_ai.sentence_sentiment_analysis.model_utilities import train, test, predict\n",
    "from nexus_ai.sentence_sentiment_analysis.preprocessing import clean_reviews, creat_vocab, tokenize_data, pad_features, train_test_split, google_clean_reviews, clean_reviews_and_creat_vocab"
   ]
  },
  {
   "cell_type": "markdown",
   "id": "8d9bd795",
   "metadata": {},
   "source": [
    "# loading and exploring the data:"
   ]
  },
  {
   "cell_type": "code",
   "execution_count": 2,
   "id": "83eaa8b4",
   "metadata": {},
   "outputs": [],
   "source": [
    "df_review = pd.read_pickle('yelp_balanced_60_positive.pkl')"
   ]
  },
  {
   "cell_type": "code",
   "execution_count": 3,
   "id": "37c03e4e",
   "metadata": {},
   "outputs": [
    {
     "data": {
      "text/plain": [
       "(4935445, 2)"
      ]
     },
     "execution_count": 3,
     "metadata": {},
     "output_type": "execute_result"
    }
   ],
   "source": [
    "df_review.shape"
   ]
  },
  {
   "cell_type": "code",
   "execution_count": 4,
   "id": "c982469e",
   "metadata": {},
   "outputs": [
    {
     "data": {
      "text/plain": [
       "<BarContainer object of 2 artists>"
      ]
     },
     "execution_count": 4,
     "metadata": {},
     "output_type": "execute_result"
    },
    {
     "data": {
      "image/png": "[encoded data removed]",
      "text/plain": [
       "<Figure size 432x288 with 1 Axes>"
      ]
     },
     "metadata": {
      "needs_background": "light"
     },
     "output_type": "display_data"
    }
   ],
   "source": [
    "#plotting the distrubution of positive/negative reviews\n",
    "plt.figure()\n",
    "\n",
    "plt.ylabel('Frequancy')\n",
    "plt.xticks([1, 0],['positive','negative'])\n",
    "\n",
    "plt.bar([1, 0],df_review['stars'].value_counts())"
   ]
  },
  {
   "cell_type": "markdown",
   "id": "abe05253",
   "metadata": {},
   "source": [
    "# preprocessing the data:"
   ]
  },
  {
   "cell_type": "code",
   "execution_count": 5,
   "id": "c618f548",
   "metadata": {},
   "outputs": [],
   "source": [
    "#converting the dataframe to two lists one for reviews and one for labels\n",
    "reviews = list(df_review['text'])\n",
    "labels = list(df_review['stars'])"
   ]
  },
  {
   "cell_type": "code",
   "execution_count": 6,
   "id": "8c9f64d8",
   "metadata": {},
   "outputs": [],
   "source": [
    "#freeing up memory by removing unnecessary data from it\n",
    "df_review = None"
   ]
  },
  {
   "cell_type": "code",
   "execution_count": 7,
   "id": "34563a3b",
   "metadata": {},
   "outputs": [],
   "source": [
    "#cleaning up the reviews and creating a vocablary containing words mentioned more than 100 times in the whole dataset \n",
    "#the vocablary is ordered so that the most mentioned words would come first\n",
    "# reviews, vocab_to_int = clean_reviews_and_creat_vocab(reviews, greater_than=100, stopwords_=True, stemm=True)\n",
    "reviews, vocab_to_int = clean_reviews_and_creat_vocab(reviews, greater_than=100)"
   ]
  },
  {
   "cell_type": "code",
   "execution_count": 8,
   "id": "5e696446",
   "metadata": {
    "scrolled": true
   },
   "outputs": [
    {
     "name": "stdout",
     "output_type": "stream",
     "text": [
      "40954\n"
     ]
    }
   ],
   "source": [
    "print(len(vocab_to_int))"
   ]
  },
  {
   "cell_type": "code",
   "execution_count": 9,
   "id": "8ebc2b02",
   "metadata": {},
   "outputs": [
    {
     "name": "stdout",
     "output_type": "stream",
     "text": [
      "||*Period*||\n",
      "the\n",
      "||*Comma*||\n",
      "and\n",
      "i\n",
      "to\n",
      "a\n",
      "||*Return*||\n",
      "was\n",
      "of\n",
      "it\n",
      "for\n",
      "in\n",
      "is\n",
      "||*Exclamation_mark*||\n",
      "my\n",
      "that\n",
      "they\n",
      "this\n",
      "with\n"
     ]
    }
   ],
   "source": [
    "#printing the highest 20 words mentioned in the data\n",
    "for vocab, stop in zip(vocab_to_int.keys(), range(20)):\n",
    "    print(vocab)"
   ]
  },
  {
   "cell_type": "code",
   "execution_count": 10,
   "id": "a7c04a1c",
   "metadata": {},
   "outputs": [],
   "source": [
    "#tockenizing the reviews by converting words to numbers that's unique to each word\n",
    "#tockenizing the labels by converting positive/negative to 1/0\n",
    "reviews_ints, encoded_labels = tokenize_data(reviews, labels, vocab_to_int)"
   ]
  },
  {
   "cell_type": "markdown",
   "id": "2da77a35",
   "metadata": {},
   "source": [
    "# getting rid of outliers:"
   ]
  },
  {
   "cell_type": "code",
   "execution_count": 11,
   "id": "b43d65c9",
   "metadata": {},
   "outputs": [],
   "source": [
    "# encoded_labels = encoded_labels.tolist()"
   ]
  },
  {
   "cell_type": "code",
   "execution_count": 12,
   "id": "27166d2a",
   "metadata": {},
   "outputs": [],
   "source": [
    "# non_high_len_idx = [i for i in range(len(reviews_ints)) if review_lengths[i] < 1000]\n",
    "# print('number of remaining elements {}'.format(len(non_high_len_idx)))\n",
    "# print('the deleted elements would be {}'.format(len(review_lengths)-len(non_high_len_idx)))"
   ]
  },
  {
   "cell_type": "code",
   "execution_count": 13,
   "id": "1ecff999",
   "metadata": {},
   "outputs": [],
   "source": [
    "# print(len(reviews_ints))\n",
    "# print(len(encoded_labels))\n",
    "# print(len(review_lengths))\n",
    "# print('avarege length is', statistics.mean(review_lengths))\n",
    "# print('the max length is', max(review_lengths))\n",
    "# print('the min length is', min(review_lengths))"
   ]
  },
  {
   "cell_type": "code",
   "execution_count": 14,
   "id": "0c3c1a46",
   "metadata": {},
   "outputs": [],
   "source": [
    "# reviews_ints = [reviews_ints[i] for i in non_high_len_idx]\n",
    "# encoded_labels = [encoded_labels[i] for i in non_high_len_idx]\n",
    "# review_lengths = [len(review) for review in reviews_ints]"
   ]
  },
  {
   "cell_type": "code",
   "execution_count": 15,
   "id": "dfb399e5",
   "metadata": {},
   "outputs": [],
   "source": [
    "# print(len(reviews_ints))\n",
    "# print(len(encoded_labels))\n",
    "# print(len(review_lengths))\n",
    "# print('avarege length is', statistics.mean(review_lengths))\n",
    "# print('the max length is', max(review_lengths))\n",
    "# print('the min length is', min(review_lengths))"
   ]
  },
  {
   "cell_type": "code",
   "execution_count": 16,
   "id": "13374293",
   "metadata": {},
   "outputs": [],
   "source": [
    "# non_short_len_idx = [i for i in range(len(review_lengths)) if review_lengths[i] > 5]\n",
    "# print('number of remaining elements {}'.format(len(non_short_len_idx)))\n",
    "# print('the deleted elements would be {}'.format(len(review_lengths)-len(non_short_len_idx)))"
   ]
  },
  {
   "cell_type": "code",
   "execution_count": 17,
   "id": "4851e91c",
   "metadata": {},
   "outputs": [],
   "source": [
    "# reviews_ints = [reviews_ints[i] for i in non_short_len_idx]\n",
    "# encoded_labels = [encoded_labels[i] for i in non_short_len_idx]\n",
    "# review_lengths = [len(review) for review in reviews_ints]"
   ]
  },
  {
   "cell_type": "code",
   "execution_count": 18,
   "id": "bd8a3b7a",
   "metadata": {},
   "outputs": [],
   "source": [
    "# print(len(reviews_ints))\n",
    "# print(len(encoded_labels))\n",
    "# print(len(review_lengths))\n",
    "# print('avarege length is', statistics.mean(review_lengths))\n",
    "# print('the max length is', max(review_lengths))\n",
    "# print('the min length is', min(review_lengths))"
   ]
  },
  {
   "cell_type": "code",
   "execution_count": 19,
   "id": "5f9d20c7",
   "metadata": {},
   "outputs": [],
   "source": [
    "# encoded_labels = np.array(encoded_labels)"
   ]
  },
  {
   "cell_type": "code",
   "execution_count": 20,
   "id": "8a77ccdd",
   "metadata": {
    "scrolled": false
   },
   "outputs": [],
   "source": [
    "# #plotting the length of the reviews to choose an appropriate sequence length\n",
    "# import statistics\n",
    "# review_lengths = [len(review) for review in reviews_ints]\n",
    "\n",
    "# print('avarege length is', statistics.mean(review_lengths))\n",
    "# print('the max length is', max(review_lengths))\n",
    "# print('the min length is', min(review_lengths))\n",
    "\n",
    "# plt.figure()\n",
    "\n",
    "# plt.hist(review_lengths, bins=5)\n",
    "\n",
    "# plt.show()"
   ]
  },
  {
   "cell_type": "code",
   "execution_count": 21,
   "id": "7af1a371",
   "metadata": {
    "scrolled": true
   },
   "outputs": [
    {
     "name": "stdout",
     "output_type": "stream",
     "text": [
      "avarege length is 137.32506289953642\n",
      "the max length is 2472\n",
      "the min length is 1\n"
     ]
    },
    {
     "data": {
      "image/png": "[encoded data removed]",
      "text/plain": [
       "<Figure size 432x288 with 1 Axes>"
      ]
     },
     "metadata": {
      "needs_background": "light"
     },
     "output_type": "display_data"
    }
   ],
   "source": [
    "#plotting the length of the reviews to choose an appropriate sequence length\n",
    "import statistics\n",
    "review_lengths = [len(review) for review in reviews_ints]\n",
    "\n",
    "print('avarege length is', statistics.mean(review_lengths))\n",
    "print('the max length is', max(review_lengths))\n",
    "print('the min length is', min(review_lengths))\n",
    "\n",
    "plt.figure()\n",
    "\n",
    "plt.hist(review_lengths, bins=5)\n",
    "\n",
    "plt.show()"
   ]
  },
  {
   "cell_type": "code",
   "execution_count": 22,
   "id": "55bd68dc",
   "metadata": {},
   "outputs": [
    {
     "data": {
      "image/png": "[encoded data removed]",
      "text/plain": [
       "<Figure size 432x288 with 1 Axes>"
      ]
     },
     "metadata": {
      "needs_background": "light"
     },
     "output_type": "display_data"
    }
   ],
   "source": [
    "# plot with a range of 100\n",
    "plt.figure()\n",
    "\n",
    "plt.hist(review_lengths, range=(0, 100), bins=5)\n",
    "\n",
    "plt.show()"
   ]
  },
  {
   "cell_type": "code",
   "execution_count": 23,
   "id": "e741c600",
   "metadata": {},
   "outputs": [
    {
     "name": "stdout",
     "output_type": "stream",
     "text": [
      "positive avarege length is 119.84815369293496\n",
      "positive max length is 1397\n",
      "positive min length is 1\n"
     ]
    },
    {
     "data": {
      "image/png": "[encoded data removed]",
      "text/plain": [
       "<Figure size 432x288 with 1 Axes>"
      ]
     },
     "metadata": {
      "needs_background": "light"
     },
     "output_type": "display_data"
    }
   ],
   "source": [
    "pos_review_lengths = [len(review) for i, review in enumerate(reviews_ints) if encoded_labels[i]==1]\n",
    "\n",
    "print('positive avarege length is', statistics.mean(pos_review_lengths))\n",
    "print('positive max length is', max(pos_review_lengths))\n",
    "print('positive min length is', min(pos_review_lengths))\n",
    "\n",
    "plt.figure()\n",
    "\n",
    "plt.hist(pos_review_lengths, bins=5)\n",
    "\n",
    "plt.show()"
   ]
  },
  {
   "cell_type": "code",
   "execution_count": 24,
   "id": "ab42f960",
   "metadata": {},
   "outputs": [
    {
     "name": "stdout",
     "output_type": "stream",
     "text": [
      "negative avarege length is 163.5387092754554\n",
      "negative max length is 2472\n",
      "negative min length is 1\n"
     ]
    },
    {
     "data": {
      "image/png": "[encoded data removed]",
      "text/plain": [
       "<Figure size 432x288 with 1 Axes>"
      ]
     },
     "metadata": {
      "needs_background": "light"
     },
     "output_type": "display_data"
    }
   ],
   "source": [
    "neg_review_lengths = [len(review) for i, review in enumerate(reviews_ints) if encoded_labels[i]==0]\n",
    "\n",
    "print('negative avarege length is', statistics.mean(neg_review_lengths))\n",
    "print('negative max length is', max(neg_review_lengths))\n",
    "print('negative min length is', min(neg_review_lengths))\n",
    "\n",
    "plt.figure()\n",
    "\n",
    "plt.hist(neg_review_lengths, bins=5)\n",
    "\n",
    "plt.show()"
   ]
  },
  {
   "cell_type": "markdown",
   "id": "52334760",
   "metadata": {},
   "source": [
    "# preparing and splitting the dataset:"
   ]
  },
  {
   "cell_type": "code",
   "execution_count": 25,
   "id": "2b3412ba",
   "metadata": {},
   "outputs": [],
   "source": [
    "#the sequence length is 80 because of the length of google reviews seems to in this range\n",
    "#and it's also approriate for the yelp dataset\n",
    "seq_length = 80\n",
    "features = pad_features(reviews_ints, seq_length)"
   ]
  },
  {
   "cell_type": "code",
   "execution_count": 26,
   "id": "0c018112",
   "metadata": {},
   "outputs": [],
   "source": [
    "#splitting the reviews and labels into training, validiting, testing sets\n",
    "train_x, validate_x, test_x, train_y, validate_y, test_y = train_test_split(features, encoded_labels, ordered_by_labels=True)"
   ]
  },
  {
   "cell_type": "code",
   "execution_count": 27,
   "id": "8ae13e14",
   "metadata": {},
   "outputs": [
    {
     "name": "stdout",
     "output_type": "stream",
     "text": [
      "(3948200, 80)\n",
      "(3948200,)\n",
      "(493524, 80)\n",
      "(493524,)\n",
      "(493524, 80)\n",
      "(493524,)\n",
      "training data distrubution (precentage of positive data): 50.0 %\n",
      "validating data distrubution (precentage of positive data): 99.98419529749313 %\n",
      "testing data distrubution (precentage of positive data): 100.0 %\n"
     ]
    }
   ],
   "source": [
    "## print out the shapes of resultant feature data\n",
    "print(train_x.shape)\n",
    "print(train_y.shape)\n",
    "print(validate_x.shape)\n",
    "print(validate_y.shape)\n",
    "print(test_x.shape)\n",
    "print(test_y.shape)\n",
    "# testing equality of distrubution for pos/neg\n",
    "print('training data distrubution (precentage of positive data): {} %'.format((train_y.sum()/train_y.shape[0])*100))\n",
    "print('validating data distrubution (precentage of positive data): {} %'.format((validate_y.sum()/validate_y.shape[0])*100))\n",
    "print('testing data distrubution (precentage of positive data): {} %'.format((test_y.sum()/test_y.shape[0])*100)) "
   ]
  },
  {
   "cell_type": "code",
   "execution_count": 28,
   "id": "8b3c1b9d",
   "metadata": {},
   "outputs": [],
   "source": [
    "#creating data loaders to be used in training and testing \n",
    "\n",
    "train_data = TensorDataset(torch.from_numpy(features), torch.from_numpy(encoded_labels))\n",
    "valid_data = TensorDataset(torch.from_numpy(validate_x), torch.from_numpy(validate_y))\n",
    "test_data = TensorDataset(torch.from_numpy(test_x), torch.from_numpy(test_y))\n",
    "\n",
    "#batch_size for dataloaders\n",
    "batch_size = 256\n",
    "\n",
    "num_worker = 0\n",
    "\n",
    "train_loader = DataLoader(train_data, shuffle=True, batch_size=batch_size, drop_last=True, num_workers=num_worker)\n",
    "valid_loader = DataLoader(valid_data, shuffle=True, batch_size=batch_size, drop_last=True, num_workers=num_worker)\n",
    "test_loader = DataLoader(test_data, shuffle=True, batch_size=batch_size, drop_last=True, num_workers=num_worker)"
   ]
  },
  {
   "cell_type": "code",
   "execution_count": 29,
   "id": "ecd990c2",
   "metadata": {},
   "outputs": [],
   "source": [
    "#freeing up memory by removing unnecessary data from it\n",
    "# reviews = None\n",
    "# labels = None\n",
    "# reviews_ints\n",
    "# encoded_labels = None\n",
    "# features = None\n",
    "# train_x = None\n",
    "# validate_x = None\n",
    "# test_x = None\n",
    "# train_y = None\n",
    "# validate_y = None\n",
    "# test_y = None"
   ]
  },
  {
   "cell_type": "markdown",
   "id": "317b261b",
   "metadata": {},
   "source": [
    "# defining and training the model:"
   ]
  },
  {
   "cell_type": "code",
   "execution_count": 30,
   "id": "4e375c69",
   "metadata": {},
   "outputs": [
    {
     "name": "stdout",
     "output_type": "stream",
     "text": [
      "SentimentRNN(\n",
      "  (embd): Embedding(40955, 300)\n",
      "  (lstm): LSTM(300, 200, num_layers=2, batch_first=True, dropout=0.3)\n",
      "  (dropout): Dropout(p=0.3, inplace=False)\n",
      "  (fc1): Linear(in_features=200, out_features=1, bias=True)\n",
      "  (sigmoid): Sigmoid()\n",
      ")\n"
     ]
    }
   ],
   "source": [
    "#make sure the gpu is avalibale before moving the data to It else the work would be done using the cpu\n",
    "train_on_gpu=torch.cuda.is_available()\n",
    "\n",
    "#specifing the model hypermetrs and creating the model\n",
    "vocab_size = len(vocab_to_int)+1\n",
    "output_size = 1\n",
    "embedding_dim = 300\n",
    "hidden_dim = 200\n",
    "n_layers = 2\n",
    " \n",
    "net = SentimentRNN(vocab_size, output_size, embedding_dim, hidden_dim, n_layers, train_on_gpu=train_on_gpu,\n",
    "                   bidirectional=False, drop_prob=0.3)\n",
    "\n",
    "print(net)\n",
    "\n",
    "# loss and optimization functions\n",
    "\n",
    "lr=0.0001\n",
    "criterion = nn.BCELoss()\n",
    "# optimizer = torch.optim.Adam(net.parameters(), lr=lr,weight_decay=0.00001)\n",
    "optimizer = torch.optim.Adam(net.parameters(), lr=lr)"
   ]
  },
  {
   "cell_type": "code",
   "execution_count": 163,
   "id": "8f1d71c5",
   "metadata": {
    "scrolled": false
   },
   "outputs": [
    {
     "name": "stdout",
     "output_type": "stream",
     "text": [
      "Epoch: 1/1... Step: 19278... Loss: 0.120001... Val Loss: 0.077971\n",
      "Validation loss decreased (inf --> 0.077971).  Saving model ...\n"
     ]
    }
   ],
   "source": [
    "# training the model\n",
    "train(net, train_loader, valid_loader, optimizer, vocab_to_int, batch_size, seq_length=seq_length, epochs=1,\n",
    "      print_every=1, train_on_gpu=train_on_gpu, save_dic='yelp_test21.pth')"
   ]
  },
  {
   "cell_type": "markdown",
   "id": "0abb4519",
   "metadata": {},
   "source": [
    "# testing and validating the model:"
   ]
  },
  {
   "cell_type": "code",
   "execution_count": 164,
   "id": "d587e422",
   "metadata": {
    "scrolled": true
   },
   "outputs": [
    {
     "name": "stdout",
     "output_type": "stream",
     "text": [
      "Test loss: 0.079\n",
      "Test accuracy: 0.967\n"
     ]
    }
   ],
   "source": [
    "# testing the model\n",
    "test(test_loader, train_on_gpu, batch_size, net=net)"
   ]
  },
  {
   "cell_type": "code",
   "execution_count": 165,
   "id": "d8247ab1",
   "metadata": {
    "scrolled": true
   },
   "outputs": [
    {
     "name": "stdout",
     "output_type": "stream",
     "text": [
      "Test loss: 0.079\n",
      "Test accuracy: 0.967\n"
     ]
    }
   ],
   "source": [
    "# testing the last saved model\n",
    "test(test_loader, train_on_gpu, batch_size, model_path='yelp_test21.pth')"
   ]
  },
  {
   "cell_type": "code",
   "execution_count": 166,
   "id": "a909111c",
   "metadata": {},
   "outputs": [
    {
     "data": {
      "text/plain": [
       "'positive'"
      ]
     },
     "execution_count": 166,
     "metadata": {},
     "output_type": "execute_result"
    }
   ],
   "source": [
    "# testing on a positive review\n",
    "test_review_pos = 'Calm work space caféIn love with the iced Peanut butter latte!!You can reserve meeting rooms per hour at reasonable prices..Nice soothing musicTotally recommend it'\n",
    "\n",
    "predict(reviews=test_review_pos, train_on_gpu=train_on_gpu, vocab_to_int=vocab_to_int, seq_length=seq_length, net=net)"
   ]
  },
  {
   "cell_type": "code",
   "execution_count": 167,
   "id": "6b231c40",
   "metadata": {
    "scrolled": true
   },
   "outputs": [],
   "source": [
    "# testing using google data with 26,000 reviews \n",
    "data = pd.read_json('REVIEWS_DATA_SET_26K_EN.json')\n",
    "# reviews, labels, words = google_clean_reviews(data, stopwords_=True, stemm=True)\n",
    "data = google_clean_reviews(data)\n",
    "reviews = list(df['text'])\n",
    "labels = list(df['rating'])"
   ]
  },
  {
   "cell_type": "code",
   "execution_count": 168,
   "id": "83388de9",
   "metadata": {},
   "outputs": [
    {
     "name": "stdout",
     "output_type": "stream",
     "text": [
      "accuracy = 92.01%\n",
      "recall = 92.39%\n",
      "Precision  = 98.72%\n",
      "F1 score  = 95.45%\n",
      "TP:22302, TN:2196, FN:1836, FP:290\n"
     ]
    },
    {
     "data": {
      "text/html": [
       "<div>\n",
       "<style scoped>\n",
       "    .dataframe tbody tr th:only-of-type {\n",
       "        vertical-align: middle;\n",
       "    }\n",
       "\n",
       "    .dataframe tbody tr th {\n",
       "        vertical-align: top;\n",
       "    }\n",
       "\n",
       "    .dataframe thead th {\n",
       "        text-align: right;\n",
       "    }\n",
       "</style>\n",
       "<table border=\"1\" class=\"dataframe\">\n",
       "  <thead>\n",
       "    <tr style=\"text-align: right;\">\n",
       "      <th></th>\n",
       "      <th>reviews</th>\n",
       "      <th>labels</th>\n",
       "      <th>pred</th>\n",
       "    </tr>\n",
       "  </thead>\n",
       "  <tbody>\n",
       "    <tr>\n",
       "      <th>0</th>\n",
       "      <td>stopped off here as we were looking for somewh...</td>\n",
       "      <td>1</td>\n",
       "      <td>1.0</td>\n",
       "    </tr>\n",
       "    <tr>\n",
       "      <th>1</th>\n",
       "      <td>what a great restaurant ||*Period*||  we went ...</td>\n",
       "      <td>1</td>\n",
       "      <td>1.0</td>\n",
       "    </tr>\n",
       "    <tr>\n",
       "      <th>2</th>\n",
       "      <td>boy ||*Comma*||  am i glad i got to try da mar...</td>\n",
       "      <td>1</td>\n",
       "      <td>1.0</td>\n",
       "    </tr>\n",
       "    <tr>\n",
       "      <th>3</th>\n",
       "      <td>we found this gem during our mini trip to expe...</td>\n",
       "      <td>1</td>\n",
       "      <td>1.0</td>\n",
       "    </tr>\n",
       "    <tr>\n",
       "      <th>4</th>\n",
       "      <td>donna the bartender is amazing ||*Period*||  s...</td>\n",
       "      <td>1</td>\n",
       "      <td>1.0</td>\n",
       "    </tr>\n",
       "    <tr>\n",
       "      <th>...</th>\n",
       "      <td>...</td>\n",
       "      <td>...</td>\n",
       "      <td>...</td>\n",
       "    </tr>\n",
       "    <tr>\n",
       "      <th>26619</th>\n",
       "      <td>they have really a good burger using a good qu...</td>\n",
       "      <td>1</td>\n",
       "      <td>1.0</td>\n",
       "    </tr>\n",
       "    <tr>\n",
       "      <th>26620</th>\n",
       "      <td>high price  ||*Period*||  ||*Period*||  bad fo...</td>\n",
       "      <td>0</td>\n",
       "      <td>0.0</td>\n",
       "    </tr>\n",
       "    <tr>\n",
       "      <th>26621</th>\n",
       "      <td>this was a nice sit down restaurant with food ...</td>\n",
       "      <td>0</td>\n",
       "      <td>0.0</td>\n",
       "    </tr>\n",
       "    <tr>\n",
       "      <th>26622</th>\n",
       "      <td>i went for a dinner sunday ||*Comma*||  reserv...</td>\n",
       "      <td>0</td>\n",
       "      <td>0.0</td>\n",
       "    </tr>\n",
       "    <tr>\n",
       "      <th>26623</th>\n",
       "      <td>notably the worst experience in a fine dining ...</td>\n",
       "      <td>0</td>\n",
       "      <td>0.0</td>\n",
       "    </tr>\n",
       "  </tbody>\n",
       "</table>\n",
       "<p>26624 rows × 3 columns</p>\n",
       "</div>"
      ],
      "text/plain": [
       "                                                 reviews  labels  pred\n",
       "0      stopped off here as we were looking for somewh...       1   1.0\n",
       "1      what a great restaurant ||*Period*||  we went ...       1   1.0\n",
       "2      boy ||*Comma*||  am i glad i got to try da mar...       1   1.0\n",
       "3      we found this gem during our mini trip to expe...       1   1.0\n",
       "4      donna the bartender is amazing ||*Period*||  s...       1   1.0\n",
       "...                                                  ...     ...   ...\n",
       "26619  they have really a good burger using a good qu...       1   1.0\n",
       "26620  high price  ||*Period*||  ||*Period*||  bad fo...       0   0.0\n",
       "26621  this was a nice sit down restaurant with food ...       0   0.0\n",
       "26622  i went for a dinner sunday ||*Comma*||  reserv...       0   0.0\n",
       "26623  notably the worst experience in a fine dining ...       0   0.0\n",
       "\n",
       "[26624 rows x 3 columns]"
      ]
     },
     "execution_count": 168,
     "metadata": {},
     "output_type": "execute_result"
    }
   ],
   "source": [
    "# testing the google dataset on the model\n",
    "predict(reviews=reviews, labels=labels, gpu=True, seq_length=seq_length, vocab_to_int=vocab_to_int, net=net, \n",
    "        stats=True, use_labels=True)"
   ]
  },
  {
   "cell_type": "code",
   "execution_count": 169,
   "id": "edec34f4",
   "metadata": {},
   "outputs": [
    {
     "name": "stdout",
     "output_type": "stream",
     "text": [
      "accuracy = 92.01%\n",
      "recall = 92.39%\n",
      "Precision  = 98.72%\n",
      "F1 score  = 95.45%\n",
      "TP:22302, TN:2196, FN:1836, FP:290\n"
     ]
    },
    {
     "data": {
      "text/html": [
       "<div>\n",
       "<style scoped>\n",
       "    .dataframe tbody tr th:only-of-type {\n",
       "        vertical-align: middle;\n",
       "    }\n",
       "\n",
       "    .dataframe tbody tr th {\n",
       "        vertical-align: top;\n",
       "    }\n",
       "\n",
       "    .dataframe thead th {\n",
       "        text-align: right;\n",
       "    }\n",
       "</style>\n",
       "<table border=\"1\" class=\"dataframe\">\n",
       "  <thead>\n",
       "    <tr style=\"text-align: right;\">\n",
       "      <th></th>\n",
       "      <th>reviews</th>\n",
       "      <th>labels</th>\n",
       "      <th>pred</th>\n",
       "    </tr>\n",
       "  </thead>\n",
       "  <tbody>\n",
       "    <tr>\n",
       "      <th>0</th>\n",
       "      <td>stopped off here as we were looking for somewh...</td>\n",
       "      <td>1</td>\n",
       "      <td>1.0</td>\n",
       "    </tr>\n",
       "    <tr>\n",
       "      <th>1</th>\n",
       "      <td>what a great restaurant ||*Period*||  we went ...</td>\n",
       "      <td>1</td>\n",
       "      <td>1.0</td>\n",
       "    </tr>\n",
       "    <tr>\n",
       "      <th>2</th>\n",
       "      <td>boy ||*Comma*||  am i glad i got to try da mar...</td>\n",
       "      <td>1</td>\n",
       "      <td>1.0</td>\n",
       "    </tr>\n",
       "    <tr>\n",
       "      <th>3</th>\n",
       "      <td>we found this gem during our mini trip to expe...</td>\n",
       "      <td>1</td>\n",
       "      <td>1.0</td>\n",
       "    </tr>\n",
       "    <tr>\n",
       "      <th>4</th>\n",
       "      <td>donna the bartender is amazing ||*Period*||  s...</td>\n",
       "      <td>1</td>\n",
       "      <td>1.0</td>\n",
       "    </tr>\n",
       "    <tr>\n",
       "      <th>...</th>\n",
       "      <td>...</td>\n",
       "      <td>...</td>\n",
       "      <td>...</td>\n",
       "    </tr>\n",
       "    <tr>\n",
       "      <th>26619</th>\n",
       "      <td>they have really a good burger using a good qu...</td>\n",
       "      <td>1</td>\n",
       "      <td>1.0</td>\n",
       "    </tr>\n",
       "    <tr>\n",
       "      <th>26620</th>\n",
       "      <td>high price  ||*Period*||  ||*Period*||  bad fo...</td>\n",
       "      <td>0</td>\n",
       "      <td>0.0</td>\n",
       "    </tr>\n",
       "    <tr>\n",
       "      <th>26621</th>\n",
       "      <td>this was a nice sit down restaurant with food ...</td>\n",
       "      <td>0</td>\n",
       "      <td>0.0</td>\n",
       "    </tr>\n",
       "    <tr>\n",
       "      <th>26622</th>\n",
       "      <td>i went for a dinner sunday ||*Comma*||  reserv...</td>\n",
       "      <td>0</td>\n",
       "      <td>0.0</td>\n",
       "    </tr>\n",
       "    <tr>\n",
       "      <th>26623</th>\n",
       "      <td>notably the worst experience in a fine dining ...</td>\n",
       "      <td>0</td>\n",
       "      <td>0.0</td>\n",
       "    </tr>\n",
       "  </tbody>\n",
       "</table>\n",
       "<p>26624 rows × 3 columns</p>\n",
       "</div>"
      ],
      "text/plain": [
       "                                                 reviews  labels  pred\n",
       "0      stopped off here as we were looking for somewh...       1   1.0\n",
       "1      what a great restaurant ||*Period*||  we went ...       1   1.0\n",
       "2      boy ||*Comma*||  am i glad i got to try da mar...       1   1.0\n",
       "3      we found this gem during our mini trip to expe...       1   1.0\n",
       "4      donna the bartender is amazing ||*Period*||  s...       1   1.0\n",
       "...                                                  ...     ...   ...\n",
       "26619  they have really a good burger using a good qu...       1   1.0\n",
       "26620  high price  ||*Period*||  ||*Period*||  bad fo...       0   0.0\n",
       "26621  this was a nice sit down restaurant with food ...       0   0.0\n",
       "26622  i went for a dinner sunday ||*Comma*||  reserv...       0   0.0\n",
       "26623  notably the worst experience in a fine dining ...       0   0.0\n",
       "\n",
       "[26624 rows x 3 columns]"
      ]
     },
     "execution_count": 169,
     "metadata": {},
     "output_type": "execute_result"
    }
   ],
   "source": [
    "# testing the google dataset using the last saved model\n",
    "predict(reviews=reviews, labels=labels, gpu=True, seq_length=seq_length, vocab_to_int=vocab_to_int,\n",
    "        model_path='yelp_test21.pth', stats=True, use_labels=True)"
   ]
  },
  {
   "cell_type": "code",
   "execution_count": 170,
   "id": "8f675d7c",
   "metadata": {},
   "outputs": [],
   "source": [
    "# testing with balanced google data\n",
    "data = pd.read_json('google_balanced.json')\n",
    "reviews, labels = google_clean_reviews(data)\n",
    "reviews = list(df['text'])\n",
    "labels = list(df['rating'])"
   ]
  },
  {
   "cell_type": "code",
   "execution_count": 171,
   "id": "028d0af8",
   "metadata": {},
   "outputs": [
    {
     "name": "stdout",
     "output_type": "stream",
     "text": [
      "accuracy = 89.46%\n",
      "recall = 90.59%\n",
      "Precision  = 88.59%\n",
      "F1 score  = 89.58%\n",
      "TP:2252, TN:2196, FN:234, FP:290\n"
     ]
    },
    {
     "data": {
      "text/html": [
       "<div>\n",
       "<style scoped>\n",
       "    .dataframe tbody tr th:only-of-type {\n",
       "        vertical-align: middle;\n",
       "    }\n",
       "\n",
       "    .dataframe tbody tr th {\n",
       "        vertical-align: top;\n",
       "    }\n",
       "\n",
       "    .dataframe thead th {\n",
       "        text-align: right;\n",
       "    }\n",
       "</style>\n",
       "<table border=\"1\" class=\"dataframe\">\n",
       "  <thead>\n",
       "    <tr style=\"text-align: right;\">\n",
       "      <th></th>\n",
       "      <th>reviews</th>\n",
       "      <th>labels</th>\n",
       "      <th>pred</th>\n",
       "    </tr>\n",
       "  </thead>\n",
       "  <tbody>\n",
       "    <tr>\n",
       "      <th>0</th>\n",
       "      <td>i was extremely impressed by mohamed ali taala...</td>\n",
       "      <td>1</td>\n",
       "      <td>1.0</td>\n",
       "    </tr>\n",
       "    <tr>\n",
       "      <th>1</th>\n",
       "      <td>very nice food ||*Comma*||  very nice service ...</td>\n",
       "      <td>1</td>\n",
       "      <td>1.0</td>\n",
       "    </tr>\n",
       "    <tr>\n",
       "      <th>2</th>\n",
       "      <td>nisce service from abhishek and delicious food...</td>\n",
       "      <td>1</td>\n",
       "      <td>1.0</td>\n",
       "    </tr>\n",
       "    <tr>\n",
       "      <th>3</th>\n",
       "      <td>thank you so much for good delicious food and ...</td>\n",
       "      <td>1</td>\n",
       "      <td>1.0</td>\n",
       "    </tr>\n",
       "    <tr>\n",
       "      <th>4</th>\n",
       "      <td>superb venue ||*Comma*||  very friendly ||*Com...</td>\n",
       "      <td>1</td>\n",
       "      <td>1.0</td>\n",
       "    </tr>\n",
       "    <tr>\n",
       "      <th>...</th>\n",
       "      <td>...</td>\n",
       "      <td>...</td>\n",
       "      <td>...</td>\n",
       "    </tr>\n",
       "    <tr>\n",
       "      <th>4967</th>\n",
       "      <td>we found a place close to book of mormon ||*Co...</td>\n",
       "      <td>0</td>\n",
       "      <td>0.0</td>\n",
       "    </tr>\n",
       "    <tr>\n",
       "      <th>4968</th>\n",
       "      <td>after doing lots of research and poring over n...</td>\n",
       "      <td>0</td>\n",
       "      <td>0.0</td>\n",
       "    </tr>\n",
       "    <tr>\n",
       "      <th>4969</th>\n",
       "      <td>we went there with a party of 5 european trave...</td>\n",
       "      <td>0</td>\n",
       "      <td>0.0</td>\n",
       "    </tr>\n",
       "    <tr>\n",
       "      <th>4970</th>\n",
       "      <td>generally the atmosphere is very good ||*Perio...</td>\n",
       "      <td>0</td>\n",
       "      <td>0.0</td>\n",
       "    </tr>\n",
       "    <tr>\n",
       "      <th>4971</th>\n",
       "      <td>notably the worst experience in a fine dining ...</td>\n",
       "      <td>0</td>\n",
       "      <td>0.0</td>\n",
       "    </tr>\n",
       "  </tbody>\n",
       "</table>\n",
       "<p>4972 rows × 3 columns</p>\n",
       "</div>"
      ],
      "text/plain": [
       "                                                reviews  labels  pred\n",
       "0     i was extremely impressed by mohamed ali taala...       1   1.0\n",
       "1     very nice food ||*Comma*||  very nice service ...       1   1.0\n",
       "2     nisce service from abhishek and delicious food...       1   1.0\n",
       "3     thank you so much for good delicious food and ...       1   1.0\n",
       "4     superb venue ||*Comma*||  very friendly ||*Com...       1   1.0\n",
       "...                                                 ...     ...   ...\n",
       "4967  we found a place close to book of mormon ||*Co...       0   0.0\n",
       "4968  after doing lots of research and poring over n...       0   0.0\n",
       "4969  we went there with a party of 5 european trave...       0   0.0\n",
       "4970  generally the atmosphere is very good ||*Perio...       0   0.0\n",
       "4971  notably the worst experience in a fine dining ...       0   0.0\n",
       "\n",
       "[4972 rows x 3 columns]"
      ]
     },
     "execution_count": 171,
     "metadata": {},
     "output_type": "execute_result"
    }
   ],
   "source": [
    "# testing the balanced google dataset on the model\n",
    "predict(reviews=reviews, labels=labels, gpu=True, seq_length=seq_length, net=net,\n",
    "        vocab_to_int=vocab_to_int, stats=True, use_labels=True)"
   ]
  },
  {
   "cell_type": "code",
   "execution_count": 172,
   "id": "8de58418",
   "metadata": {},
   "outputs": [
    {
     "name": "stdout",
     "output_type": "stream",
     "text": [
      "accuracy = 89.46%\n",
      "recall = 90.59%\n",
      "Precision  = 88.59%\n",
      "F1 score  = 89.58%\n",
      "TP:2252, TN:2196, FN:234, FP:290\n"
     ]
    },
    {
     "data": {
      "text/html": [
       "<div>\n",
       "<style scoped>\n",
       "    .dataframe tbody tr th:only-of-type {\n",
       "        vertical-align: middle;\n",
       "    }\n",
       "\n",
       "    .dataframe tbody tr th {\n",
       "        vertical-align: top;\n",
       "    }\n",
       "\n",
       "    .dataframe thead th {\n",
       "        text-align: right;\n",
       "    }\n",
       "</style>\n",
       "<table border=\"1\" class=\"dataframe\">\n",
       "  <thead>\n",
       "    <tr style=\"text-align: right;\">\n",
       "      <th></th>\n",
       "      <th>reviews</th>\n",
       "      <th>labels</th>\n",
       "      <th>pred</th>\n",
       "    </tr>\n",
       "  </thead>\n",
       "  <tbody>\n",
       "    <tr>\n",
       "      <th>0</th>\n",
       "      <td>i was extremely impressed by mohamed ali taala...</td>\n",
       "      <td>1</td>\n",
       "      <td>1.0</td>\n",
       "    </tr>\n",
       "    <tr>\n",
       "      <th>1</th>\n",
       "      <td>very nice food ||*Comma*||  very nice service ...</td>\n",
       "      <td>1</td>\n",
       "      <td>1.0</td>\n",
       "    </tr>\n",
       "    <tr>\n",
       "      <th>2</th>\n",
       "      <td>nisce service from abhishek and delicious food...</td>\n",
       "      <td>1</td>\n",
       "      <td>1.0</td>\n",
       "    </tr>\n",
       "    <tr>\n",
       "      <th>3</th>\n",
       "      <td>thank you so much for good delicious food and ...</td>\n",
       "      <td>1</td>\n",
       "      <td>1.0</td>\n",
       "    </tr>\n",
       "    <tr>\n",
       "      <th>4</th>\n",
       "      <td>superb venue ||*Comma*||  very friendly ||*Com...</td>\n",
       "      <td>1</td>\n",
       "      <td>1.0</td>\n",
       "    </tr>\n",
       "    <tr>\n",
       "      <th>...</th>\n",
       "      <td>...</td>\n",
       "      <td>...</td>\n",
       "      <td>...</td>\n",
       "    </tr>\n",
       "    <tr>\n",
       "      <th>4967</th>\n",
       "      <td>we found a place close to book of mormon ||*Co...</td>\n",
       "      <td>0</td>\n",
       "      <td>0.0</td>\n",
       "    </tr>\n",
       "    <tr>\n",
       "      <th>4968</th>\n",
       "      <td>after doing lots of research and poring over n...</td>\n",
       "      <td>0</td>\n",
       "      <td>0.0</td>\n",
       "    </tr>\n",
       "    <tr>\n",
       "      <th>4969</th>\n",
       "      <td>we went there with a party of 5 european trave...</td>\n",
       "      <td>0</td>\n",
       "      <td>0.0</td>\n",
       "    </tr>\n",
       "    <tr>\n",
       "      <th>4970</th>\n",
       "      <td>generally the atmosphere is very good ||*Perio...</td>\n",
       "      <td>0</td>\n",
       "      <td>0.0</td>\n",
       "    </tr>\n",
       "    <tr>\n",
       "      <th>4971</th>\n",
       "      <td>notably the worst experience in a fine dining ...</td>\n",
       "      <td>0</td>\n",
       "      <td>0.0</td>\n",
       "    </tr>\n",
       "  </tbody>\n",
       "</table>\n",
       "<p>4972 rows × 3 columns</p>\n",
       "</div>"
      ],
      "text/plain": [
       "                                                reviews  labels  pred\n",
       "0     i was extremely impressed by mohamed ali taala...       1   1.0\n",
       "1     very nice food ||*Comma*||  very nice service ...       1   1.0\n",
       "2     nisce service from abhishek and delicious food...       1   1.0\n",
       "3     thank you so much for good delicious food and ...       1   1.0\n",
       "4     superb venue ||*Comma*||  very friendly ||*Com...       1   1.0\n",
       "...                                                 ...     ...   ...\n",
       "4967  we found a place close to book of mormon ||*Co...       0   0.0\n",
       "4968  after doing lots of research and poring over n...       0   0.0\n",
       "4969  we went there with a party of 5 european trave...       0   0.0\n",
       "4970  generally the atmosphere is very good ||*Perio...       0   0.0\n",
       "4971  notably the worst experience in a fine dining ...       0   0.0\n",
       "\n",
       "[4972 rows x 3 columns]"
      ]
     },
     "execution_count": 172,
     "metadata": {},
     "output_type": "execute_result"
    }
   ],
   "source": [
    "# testing the balanced google dataset using the last saved model\n",
    "predict(reviews=reviews, labels=labels, gpu=True, model_path='yelp_test21.pth', stats=True, use_labels=True)"
   ]
  },
  {
   "cell_type": "code",
   "execution_count": null,
   "id": "076761a6",
   "metadata": {},
   "outputs": [],
   "source": [
    "#seq length = 80\n",
    "# vocab_size = len(vocab_to_int)+1\n",
    "# output_size = 1\n",
    "# embedding_dim = 300\n",
    "# hidden_dim = 200\n",
    "# n_layers = 2\n",
    "#lr=0.0001"
   ]
  }
 ],
 "metadata": {
  "kernelspec": {
   "display_name": "Python 3",
   "language": "python",
   "name": "python3"
  },
  "language_info": {
   "codemirror_mode": {
    "name": "ipython",
    "version": 3
   },
   "file_extension": ".py",
   "mimetype": "text/x-python",
   "name": "python",
   "nbconvert_exporter": "python",
   "pygments_lexer": "ipython3",
   "version": "3.6.13"
  }
 },
 "nbformat": 4,
 "nbformat_minor": 5
}
