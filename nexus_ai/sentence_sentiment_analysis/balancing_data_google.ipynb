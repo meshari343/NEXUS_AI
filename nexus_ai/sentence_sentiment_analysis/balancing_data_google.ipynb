{
 "cells": [
  {
   "cell_type": "code",
   "execution_count": 1,
   "id": "893c71c6",
   "metadata": {},
   "outputs": [],
   "source": [
    "import pandas as pd\n",
    "import json\n",
    "import numpy as np\n",
    "import matplotlib.pyplot as plt\n",
    "%matplotlib inline\n",
    "#costume classes\n",
    "from model import SentimentRNN\n",
    "from model_utilities import train, test, predict\n",
    "from preprocessing import clean_reviews, creat_vocab, tokenize_data, pad_features, train_test_split, google_clean_reviews, clean_reviews_and_creat_vocab"
   ]
  },
  {
   "cell_type": "code",
   "execution_count": 2,
   "id": "b1efb2ef",
   "metadata": {},
   "outputs": [
    {
     "data": {
      "text/html": [
       "<div>\n",
       "<style scoped>\n",
       "    .dataframe tbody tr th:only-of-type {\n",
       "        vertical-align: middle;\n",
       "    }\n",
       "\n",
       "    .dataframe tbody tr th {\n",
       "        vertical-align: top;\n",
       "    }\n",
       "\n",
       "    .dataframe thead th {\n",
       "        text-align: right;\n",
       "    }\n",
       "</style>\n",
       "<table border=\"1\" class=\"dataframe\">\n",
       "  <thead>\n",
       "    <tr style=\"text-align: right;\">\n",
       "      <th></th>\n",
       "      <th>text</th>\n",
       "      <th>rating</th>\n",
       "    </tr>\n",
       "  </thead>\n",
       "  <tbody>\n",
       "    <tr>\n",
       "      <th>0</th>\n",
       "      <td>Stopped off here as we were looking for somewh...</td>\n",
       "      <td>3</td>\n",
       "    </tr>\n",
       "    <tr>\n",
       "      <th>1</th>\n",
       "      <td>What a great restaurant. We went to go see the...</td>\n",
       "      <td>5</td>\n",
       "    </tr>\n",
       "  </tbody>\n",
       "</table>\n",
       "</div>"
      ],
      "text/plain": [
       "                                                text  rating\n",
       "0  Stopped off here as we were looking for somewh...       3\n",
       "1  What a great restaurant. We went to go see the...       5"
      ]
     },
     "execution_count": 2,
     "metadata": {},
     "output_type": "execute_result"
    }
   ],
   "source": [
    "#loading the data\n",
    "# with open('yelp_academic_dataset_review.json', encoding='utf-8') as f:\n",
    "#     df_review = pd.DataFrame(json.loads(line) for line in f)\n",
    "df_review = pd.read_json('REVIEWS_DATA_SET_26K_EN.json')\n",
    "df_review.head(2)"
   ]
  },
  {
   "cell_type": "code",
   "execution_count": 3,
   "id": "0d1b364c",
   "metadata": {},
   "outputs": [
    {
     "data": {
      "text/plain": [
       "(26633, 2)"
      ]
     },
     "execution_count": 3,
     "metadata": {},
     "output_type": "execute_result"
    }
   ],
   "source": [
    "df_review.shape"
   ]
  },
  {
   "cell_type": "code",
   "execution_count": 4,
   "id": "bba14b02",
   "metadata": {},
   "outputs": [
    {
     "data": {
      "text/plain": [
       "<AxesSubplot:ylabel='Frequency'>"
      ]
     },
     "execution_count": 4,
     "metadata": {},
     "output_type": "execute_result"
    },
    {
     "data": {
      "image/png": "[encoded data removed]",
      "text/plain": [
       "<Figure size 432x288 with 1 Axes>"
      ]
     },
     "metadata": {
      "needs_background": "light"
     },
     "output_type": "display_data"
    }
   ],
   "source": [
    "#plotting the rating distrubution\n",
    "figure = plt.figure()\n",
    "\n",
    "axes = figure.add_subplot(1, 1, 1)\n",
    "axes.set_ylabel('Frequancy')\n",
    "\n",
    "# df_review['stars'].plot.hist()\n",
    "df_review['rating'].plot.hist()"
   ]
  },
  {
   "cell_type": "code",
   "execution_count": 5,
   "id": "25a4ba05",
   "metadata": {},
   "outputs": [
    {
     "data": {
      "text/html": [
       "<div>\n",
       "<style scoped>\n",
       "    .dataframe tbody tr th:only-of-type {\n",
       "        vertical-align: middle;\n",
       "    }\n",
       "\n",
       "    .dataframe tbody tr th {\n",
       "        vertical-align: top;\n",
       "    }\n",
       "\n",
       "    .dataframe thead th {\n",
       "        text-align: right;\n",
       "    }\n",
       "</style>\n",
       "<table border=\"1\" class=\"dataframe\">\n",
       "  <thead>\n",
       "    <tr style=\"text-align: right;\">\n",
       "      <th></th>\n",
       "      <th>text</th>\n",
       "      <th>rating</th>\n",
       "      <th>stars</th>\n",
       "    </tr>\n",
       "  </thead>\n",
       "  <tbody>\n",
       "    <tr>\n",
       "      <th>0</th>\n",
       "      <td>Stopped off here as we were looking for somewh...</td>\n",
       "      <td>3</td>\n",
       "      <td>1</td>\n",
       "    </tr>\n",
       "    <tr>\n",
       "      <th>1</th>\n",
       "      <td>What a great restaurant. We went to go see the...</td>\n",
       "      <td>5</td>\n",
       "      <td>1</td>\n",
       "    </tr>\n",
       "    <tr>\n",
       "      <th>2</th>\n",
       "      <td>Boy, am I glad I got to try Da Marino before t...</td>\n",
       "      <td>5</td>\n",
       "      <td>1</td>\n",
       "    </tr>\n",
       "    <tr>\n",
       "      <th>3</th>\n",
       "      <td>We found this gem during our mini trip to expe...</td>\n",
       "      <td>5</td>\n",
       "      <td>1</td>\n",
       "    </tr>\n",
       "    <tr>\n",
       "      <th>4</th>\n",
       "      <td>Donna the bartender is amazing. She is a hard ...</td>\n",
       "      <td>5</td>\n",
       "      <td>1</td>\n",
       "    </tr>\n",
       "  </tbody>\n",
       "</table>\n",
       "</div>"
      ],
      "text/plain": [
       "                                                text  rating  stars\n",
       "0  Stopped off here as we were looking for somewh...       3      1\n",
       "1  What a great restaurant. We went to go see the...       5      1\n",
       "2  Boy, am I glad I got to try Da Marino before t...       5      1\n",
       "3  We found this gem during our mini trip to expe...       5      1\n",
       "4  Donna the bartender is amazing. She is a hard ...       5      1"
      ]
     },
     "execution_count": 5,
     "metadata": {},
     "output_type": "execute_result"
    }
   ],
   "source": [
    "#converting rating to 1/0 which is positive/negative into a new cloumn called stars\n",
    "df_review['stars'] = df_review['rating'].apply(lambda x:1 if x >= 3 else 0 if x <= 2 else None)\n",
    "df_review.dropna(axis=0, inplace=True)\n",
    "df_review.head(5)"
   ]
  },
  {
   "cell_type": "code",
   "execution_count": 6,
   "id": "fef9d6e6",
   "metadata": {
    "scrolled": false
   },
   "outputs": [
    {
     "data": {
      "text/plain": [
       "<BarContainer object of 2 artists>"
      ]
     },
     "execution_count": 6,
     "metadata": {},
     "output_type": "execute_result"
    },
    {
     "data": {
      "image/png": "[encoded data removed]",
      "text/plain": [
       "<Figure size 432x288 with 1 Axes>"
      ]
     },
     "metadata": {
      "needs_background": "light"
     },
     "output_type": "display_data"
    }
   ],
   "source": [
    "#plotting the pos/neg distrubution\n",
    "plt.figure()\n",
    "\n",
    "plt.ylabel('Frequancy')\n",
    "plt.xticks([1, 0],['positive','negative'])\n",
    "\n",
    "plt.bar([1, 0], df_review['stars'].value_counts())"
   ]
  },
  {
   "cell_type": "code",
   "execution_count": 7,
   "id": "d78a6b90",
   "metadata": {},
   "outputs": [],
   "source": [
    "from collections import Counter\n",
    "from preprocessing import tokenize_data\n",
    "reviews_strings = list(df_review['text'])\n",
    "labels = list(df_review['stars'])\n",
    "reviews_arrays, labels = tokenize_data(reviews_strings, labels, Counter(), lebals_encoded=True)\n",
    "reviews_strings = None\n",
    "labels = None"
   ]
  },
  {
   "cell_type": "code",
   "execution_count": 8,
   "id": "16356a20",
   "metadata": {
    "scrolled": true
   },
   "outputs": [
    {
     "data": {
      "text/html": [
       "<div>\n",
       "<style scoped>\n",
       "    .dataframe tbody tr th:only-of-type {\n",
       "        vertical-align: middle;\n",
       "    }\n",
       "\n",
       "    .dataframe tbody tr th {\n",
       "        vertical-align: top;\n",
       "    }\n",
       "\n",
       "    .dataframe thead th {\n",
       "        text-align: right;\n",
       "    }\n",
       "</style>\n",
       "<table border=\"1\" class=\"dataframe\">\n",
       "  <thead>\n",
       "    <tr style=\"text-align: right;\">\n",
       "      <th></th>\n",
       "      <th>text</th>\n",
       "      <th>rating</th>\n",
       "      <th>stars</th>\n",
       "      <th>lengths</th>\n",
       "    </tr>\n",
       "  </thead>\n",
       "  <tbody>\n",
       "    <tr>\n",
       "      <th>0</th>\n",
       "      <td>Stopped off here as we were looking for somewh...</td>\n",
       "      <td>3</td>\n",
       "      <td>1</td>\n",
       "      <td>109</td>\n",
       "    </tr>\n",
       "    <tr>\n",
       "      <th>1</th>\n",
       "      <td>What a great restaurant. We went to go see the...</td>\n",
       "      <td>5</td>\n",
       "      <td>1</td>\n",
       "      <td>54</td>\n",
       "    </tr>\n",
       "    <tr>\n",
       "      <th>2</th>\n",
       "      <td>Boy, am I glad I got to try Da Marino before t...</td>\n",
       "      <td>5</td>\n",
       "      <td>1</td>\n",
       "      <td>205</td>\n",
       "    </tr>\n",
       "    <tr>\n",
       "      <th>3</th>\n",
       "      <td>We found this gem during our mini trip to expe...</td>\n",
       "      <td>5</td>\n",
       "      <td>1</td>\n",
       "      <td>146</td>\n",
       "    </tr>\n",
       "    <tr>\n",
       "      <th>4</th>\n",
       "      <td>Donna the bartender is amazing. She is a hard ...</td>\n",
       "      <td>5</td>\n",
       "      <td>1</td>\n",
       "      <td>32</td>\n",
       "    </tr>\n",
       "    <tr>\n",
       "      <th>...</th>\n",
       "      <td>...</td>\n",
       "      <td>...</td>\n",
       "      <td>...</td>\n",
       "      <td>...</td>\n",
       "    </tr>\n",
       "    <tr>\n",
       "      <th>26628</th>\n",
       "      <td>They have really a good burger using a good qu...</td>\n",
       "      <td>3</td>\n",
       "      <td>1</td>\n",
       "      <td>19</td>\n",
       "    </tr>\n",
       "    <tr>\n",
       "      <th>26629</th>\n",
       "      <td>High price .. bad food tast and quality ..heav...</td>\n",
       "      <td>1</td>\n",
       "      <td>0</td>\n",
       "      <td>20</td>\n",
       "    </tr>\n",
       "    <tr>\n",
       "      <th>26630</th>\n",
       "      <td>This was a nice sit down restaurant with food ...</td>\n",
       "      <td>2</td>\n",
       "      <td>0</td>\n",
       "      <td>213</td>\n",
       "    </tr>\n",
       "    <tr>\n",
       "      <th>26631</th>\n",
       "      <td>I went for a dinner Sunday, reservation at 7:0...</td>\n",
       "      <td>1</td>\n",
       "      <td>0</td>\n",
       "      <td>235</td>\n",
       "    </tr>\n",
       "    <tr>\n",
       "      <th>26632</th>\n",
       "      <td>Notably the worst experience in a fine dining ...</td>\n",
       "      <td>1</td>\n",
       "      <td>0</td>\n",
       "      <td>154</td>\n",
       "    </tr>\n",
       "  </tbody>\n",
       "</table>\n",
       "<p>26633 rows × 4 columns</p>\n",
       "</div>"
      ],
      "text/plain": [
       "                                                    text  rating  stars  \\\n",
       "0      Stopped off here as we were looking for somewh...       3      1   \n",
       "1      What a great restaurant. We went to go see the...       5      1   \n",
       "2      Boy, am I glad I got to try Da Marino before t...       5      1   \n",
       "3      We found this gem during our mini trip to expe...       5      1   \n",
       "4      Donna the bartender is amazing. She is a hard ...       5      1   \n",
       "...                                                  ...     ...    ...   \n",
       "26628  They have really a good burger using a good qu...       3      1   \n",
       "26629  High price .. bad food tast and quality ..heav...       1      0   \n",
       "26630  This was a nice sit down restaurant with food ...       2      0   \n",
       "26631  I went for a dinner Sunday, reservation at 7:0...       1      0   \n",
       "26632  Notably the worst experience in a fine dining ...       1      0   \n",
       "\n",
       "       lengths  \n",
       "0          109  \n",
       "1           54  \n",
       "2          205  \n",
       "3          146  \n",
       "4           32  \n",
       "...        ...  \n",
       "26628       19  \n",
       "26629       20  \n",
       "26630      213  \n",
       "26631      235  \n",
       "26632      154  \n",
       "\n",
       "[26633 rows x 4 columns]"
      ]
     },
     "execution_count": 8,
     "metadata": {},
     "output_type": "execute_result"
    }
   ],
   "source": [
    "df_review['lengths'] = [len(reviews) for reviews in reviews_arrays]\n",
    "reviews_arrays = None\n",
    "df_review"
   ]
  },
  {
   "cell_type": "code",
   "execution_count": 9,
   "id": "fded9454",
   "metadata": {},
   "outputs": [
    {
     "data": {
      "text/html": [
       "<div>\n",
       "<style scoped>\n",
       "    .dataframe tbody tr th:only-of-type {\n",
       "        vertical-align: middle;\n",
       "    }\n",
       "\n",
       "    .dataframe tbody tr th {\n",
       "        vertical-align: top;\n",
       "    }\n",
       "\n",
       "    .dataframe thead th {\n",
       "        text-align: right;\n",
       "    }\n",
       "</style>\n",
       "<table border=\"1\" class=\"dataframe\">\n",
       "  <thead>\n",
       "    <tr style=\"text-align: right;\">\n",
       "      <th></th>\n",
       "      <th>text</th>\n",
       "      <th>rating</th>\n",
       "      <th>stars</th>\n",
       "      <th>lengths</th>\n",
       "    </tr>\n",
       "  </thead>\n",
       "  <tbody>\n",
       "    <tr>\n",
       "      <th>0</th>\n",
       "      <td>Stopped off here as we were looking for somewh...</td>\n",
       "      <td>3</td>\n",
       "      <td>1</td>\n",
       "      <td>109</td>\n",
       "    </tr>\n",
       "    <tr>\n",
       "      <th>16974</th>\n",
       "      <td>The food is really good, salad bar have many o...</td>\n",
       "      <td>5</td>\n",
       "      <td>1</td>\n",
       "      <td>33</td>\n",
       "    </tr>\n",
       "    <tr>\n",
       "      <th>17000</th>\n",
       "      <td>It is good but not unique  they don't make pas...</td>\n",
       "      <td>4</td>\n",
       "      <td>1</td>\n",
       "      <td>28</td>\n",
       "    </tr>\n",
       "    <tr>\n",
       "      <th>16999</th>\n",
       "      <td>Food was nice and delicious  Lunch offers are ...</td>\n",
       "      <td>4</td>\n",
       "      <td>1</td>\n",
       "      <td>23</td>\n",
       "    </tr>\n",
       "    <tr>\n",
       "      <th>16998</th>\n",
       "      <td>Liked the taste of steak and salmon, good rest...</td>\n",
       "      <td>4</td>\n",
       "      <td>1</td>\n",
       "      <td>30</td>\n",
       "    </tr>\n",
       "    <tr>\n",
       "      <th>...</th>\n",
       "      <td>...</td>\n",
       "      <td>...</td>\n",
       "      <td>...</td>\n",
       "      <td>...</td>\n",
       "    </tr>\n",
       "    <tr>\n",
       "      <th>2209</th>\n",
       "      <td>We found a place close to Book of Mormon, it i...</td>\n",
       "      <td>2</td>\n",
       "      <td>0</td>\n",
       "      <td>115</td>\n",
       "    </tr>\n",
       "    <tr>\n",
       "      <th>5024</th>\n",
       "      <td>After doing lots of research and poring over N...</td>\n",
       "      <td>1</td>\n",
       "      <td>0</td>\n",
       "      <td>348</td>\n",
       "    </tr>\n",
       "    <tr>\n",
       "      <th>8198</th>\n",
       "      <td>we went there with a party of 5 european trave...</td>\n",
       "      <td>2</td>\n",
       "      <td>0</td>\n",
       "      <td>107</td>\n",
       "    </tr>\n",
       "    <tr>\n",
       "      <th>20647</th>\n",
       "      <td>Generally the atmosphere is very good. You can...</td>\n",
       "      <td>2</td>\n",
       "      <td>0</td>\n",
       "      <td>28</td>\n",
       "    </tr>\n",
       "    <tr>\n",
       "      <th>26632</th>\n",
       "      <td>Notably the worst experience in a fine dining ...</td>\n",
       "      <td>1</td>\n",
       "      <td>0</td>\n",
       "      <td>154</td>\n",
       "    </tr>\n",
       "  </tbody>\n",
       "</table>\n",
       "<p>26633 rows × 4 columns</p>\n",
       "</div>"
      ],
      "text/plain": [
       "                                                    text  rating  stars  \\\n",
       "0      Stopped off here as we were looking for somewh...       3      1   \n",
       "16974  The food is really good, salad bar have many o...       5      1   \n",
       "17000  It is good but not unique  they don't make pas...       4      1   \n",
       "16999  Food was nice and delicious  Lunch offers are ...       4      1   \n",
       "16998  Liked the taste of steak and salmon, good rest...       4      1   \n",
       "...                                                  ...     ...    ...   \n",
       "2209   We found a place close to Book of Mormon, it i...       2      0   \n",
       "5024   After doing lots of research and poring over N...       1      0   \n",
       "8198   we went there with a party of 5 european trave...       2      0   \n",
       "20647  Generally the atmosphere is very good. You can...       2      0   \n",
       "26632  Notably the worst experience in a fine dining ...       1      0   \n",
       "\n",
       "       lengths  \n",
       "0          109  \n",
       "16974       33  \n",
       "17000       28  \n",
       "16999       23  \n",
       "16998       30  \n",
       "...        ...  \n",
       "2209       115  \n",
       "5024       348  \n",
       "8198       107  \n",
       "20647       28  \n",
       "26632      154  \n",
       "\n",
       "[26633 rows x 4 columns]"
      ]
     },
     "execution_count": 9,
     "metadata": {},
     "output_type": "execute_result"
    }
   ],
   "source": [
    "#sorting the values by the label so that the positive (1)\n",
    "# df_review = df_review.sort_values(by=['stars', 'lengths'], ascending=[False, False])\n",
    "df_review = df_review.sort_values(by='stars', ascending=False)\n",
    "df_review"
   ]
  },
  {
   "cell_type": "code",
   "execution_count": 10,
   "id": "45d7d687",
   "metadata": {},
   "outputs": [],
   "source": [
    "def balance_distrubution(df, pos_percentage = 0.5):\n",
    "    if df['stars'].sum(axis=0)/len(df) < pos_percentage:\n",
    "        print('positive percentage is already below {}%'.format(pos_percentage*100))\n",
    "        return\n",
    "    \n",
    "    df = df.reset_index(drop=True) \n",
    "    #taking an estimation of 1% if the total length of the dataframe\n",
    "    step = int(len(df)/100)\n",
    "    \n",
    "    for i in range(0, df.shape[0], step):\n",
    "        #dropping the amount of step of entries until the pos_percentage reaches 1% obave it\n",
    "        #so that no more data than required would be deleted\n",
    "        if (df['stars'].sum(axis=0)/len(df)) > (pos_percentage+0.02):\n",
    "            df.drop(df.index[0:step], axis=0, inplace=True)\n",
    "            df = df.reset_index(drop=True)\n",
    "            print(df['stars'].sum(axis=0)/len(df))\n",
    "        elif (df['stars'].sum(axis=0)/len(df)) > pos_percentage:\n",
    "            #taking an estimation of the remaining data and dropping them\n",
    "            #taking the positive reviews from the end to get rid of very short reviews\n",
    "            remaining_data = int(((df['stars'].sum(axis=0)/len(df)) - pos_percentage) * len(df))\n",
    "            postive_last_index = int(len(df)/2)-remaining_data\n",
    "            df.drop(df.index[postive_last_index-remaining_data:postive_last_index], axis=0, inplace=True)\n",
    "            df = df.reset_index(drop=True)  \n",
    "            print(df['stars'].sum(axis=0)/len(df))\n",
    "            #dropping entries one by one until it reaches pos_percentage \n",
    "            for i in range(df.shape[0]):\n",
    "                if (df['stars'].sum(axis=0)/len(df)) > pos_percentage:\n",
    "                    df.drop(df.index[0], axis=0, inplace=True)\n",
    "                    df = df.reset_index(drop=True)\n",
    "                    print(df['stars'].sum(axis=0)/len(df))\n",
    "                else:\n",
    "                    break        \n",
    "        elif (df['stars'].sum(axis=0)/len(df)) == pos_percentage:        \n",
    "            return df\n",
    "        \n",
    "        else:\n",
    "            raise Exception()"
   ]
  },
  {
   "cell_type": "code",
   "execution_count": 11,
   "id": "c88f3164",
   "metadata": {
    "scrolled": true
   },
   "outputs": [
    {
     "name": "stdout",
     "output_type": "stream",
     "text": [
      "positive percentage is already below 95.0%\n"
     ]
    }
   ],
   "source": [
    "balance_distrubution(df_review, pos_percentage=0.95)"
   ]
  },
  {
   "cell_type": "code",
   "execution_count": 12,
   "id": "f009666a",
   "metadata": {
    "scrolled": true
   },
   "outputs": [
    {
     "name": "stdout",
     "output_type": "stream",
     "text": [
      "0.9057154776804339\n",
      "0.9047546071031761\n",
      "0.9037739500677375\n",
      "0.9027728890453284\n",
      "0.9017507805398569\n",
      "0.9007069537085114\n",
      "0.8996407088934641\n",
      "0.8985513160579474\n",
      "0.8974380131193531\n",
      "0.8963000041713595\n",
      "0.8951364575863668\n",
      "0.8939465039887377\n",
      "0.8927292340884574\n",
      "0.8914836963638745\n",
      "0.8902088945811067\n",
      "0.8889037851365241\n",
      "0.8875672742074081\n",
      "0.886198214694438\n",
      "0.8847954029380416\n",
      "0.8833575751888518\n",
      "0.8818834038105193\n",
      "0.8803714931908956\n",
      "0.8788203753351207\n",
      "0.8772285051113635\n",
      "0.8755942551168493\n",
      "0.8739159101283157\n",
      "0.8721916610971159\n",
      "0.8704195986447746\n",
      "0.8685977060098314\n",
      "0.8667238513911971\n",
      "0.8647957796269103\n",
      "0.8628111031400033\n",
      "0.860767292075049\n",
      "0.8586616635397123\n",
      "0.8564913698551059\n",
      "0.8542533857067479\n",
      "0.8519444940742065\n",
      "0.8495612708018154\n",
      "0.8471000676548374\n",
      "0.844556993684737\n",
      "0.8419278947033764\n",
      "0.8392083306383804\n",
      "0.8363935505100362\n",
      "0.8334784647330699\n",
      "0.8304576144036009\n",
      "0.8273251371813573\n",
      "0.8240747293185195\n",
      "0.8206996033177064\n",
      "0.8171924406206339\n",
      "0.8135453386334658\n",
      "0.809749751281855\n",
      "0.8057964221545192\n",
      "0.8016753091344236\n",
      "0.7973754992256907\n",
      "0.7928851120553195\n",
      "0.788191190253046\n",
      "0.783279574579374\n",
      "0.7781347612672914\n",
      "0.7727397385501417\n",
      "0.7670757987444955\n",
      "0.7611223215143653\n",
      "0.7548565230253427\n",
      "0.748253164556962\n",
      "0.7412842127172442\n",
      "0.7339184416140426\n",
      "0.7261209650765671\n",
      "0.717852684144819\n",
      "0.7090696313633704\n",
      "0.6997221886701293\n",
      "0.689754149507051\n",
      "0.6791015877113722\n",
      "0.6676914850955754\n",
      "0.6554400554400555\n",
      "0.6422506835515902\n",
      "0.6280113721382613\n",
      "0.6125915536855229\n",
      "0.5958380751097383\n",
      "0.577570093457944\n",
      "0.5575725218010322\n",
      "0.5355875210162526\n",
      "0.5113033221938275\n",
      "0.5057654075546719\n",
      "0.5056671306422748\n",
      "0.505568814638027\n",
      "0.5054704595185996\n",
      "0.5053720652606446\n",
      "0.505273631840796\n",
      "0.5051751592356688\n",
      "0.5050766474218594\n",
      "0.5049780963759458\n",
      "0.5048795060744872\n",
      "0.5047808764940239\n",
      "0.5046822076110778\n",
      "0.5045834994021523\n",
      "0.5044847518437313\n",
      "0.5043859649122807\n",
      "0.5042871385842472\n",
      "0.504188272836059\n",
      "0.5040893676441253\n",
      "0.5039904229848364\n",
      "0.503891438834564\n",
      "0.5037924151696607\n",
      "0.5036933519664604\n",
      "0.5035942492012779\n",
      "0.5034951068504094\n",
      "0.5033959248901319\n",
      "0.5032967032967033\n",
      "0.503197442046363\n",
      "0.5030981411153308\n",
      "0.502998800479808\n",
      "0.5028994201159768\n",
      "0.5028\n",
      "0.5027005401080216\n",
      "0.5026010404161665\n",
      "0.5025015009005404\n",
      "0.5024019215372297\n",
      "0.5023023023023023\n",
      "0.5022026431718062\n",
      "0.5021029441217705\n",
      "0.5020032051282052\n",
      "0.5019034261671008\n",
      "0.5018036072144288\n",
      "0.5017037482461415\n",
      "0.5016038492381716\n",
      "0.5015039101664327\n",
      "0.5014039310068191\n",
      "0.5013039117352056\n",
      "0.5012038523274478\n",
      "0.5011037527593819\n",
      "0.5010036130068246\n",
      "0.5009034330455732\n",
      "0.5008032128514056\n",
      "0.5007029524000803\n",
      "0.5006026516673363\n",
      "0.5005023106288929\n",
      "0.5004019292604501\n",
      "0.5003015075376884\n",
      "0.5002010454362686\n",
      "0.5001005429318319\n",
      "0.5\n"
     ]
    }
   ],
   "source": [
    "df_review = balance_distrubution(df_review, pos_percentage=0.5)"
   ]
  },
  {
   "cell_type": "code",
   "execution_count": 13,
   "id": "f1ba8a84",
   "metadata": {},
   "outputs": [
    {
     "name": "stdout",
     "output_type": "stream",
     "text": [
      "(4972, 4)\n",
      "the number of entries lost: 21661\n"
     ]
    }
   ],
   "source": [
    "#making sure the dataframe has been modified and to see the amount of data lost\n",
    "#original number of rows is 26633 \n",
    "print(df_review.shape)\n",
    "print(f'the number of entries lost: {26633-df_review.shape[0]}')"
   ]
  },
  {
   "cell_type": "code",
   "execution_count": 14,
   "id": "c982469e",
   "metadata": {
    "scrolled": true
   },
   "outputs": [
    {
     "data": {
      "text/plain": [
       "<BarContainer object of 2 artists>"
      ]
     },
     "execution_count": 14,
     "metadata": {},
     "output_type": "execute_result"
    },
    {
     "data": {
      "image/png": "[encoded data removed]",
      "text/plain": [
       "<Figure size 432x288 with 1 Axes>"
      ]
     },
     "metadata": {
      "needs_background": "light"
     },
     "output_type": "display_data"
    }
   ],
   "source": [
    "#plot to make sure the distrubution is the balanced\n",
    "plt.figure()\n",
    "\n",
    "plt.ylabel('Frequancy')\n",
    "plt.xticks([1, 0],['positive','negative'])\n",
    "\n",
    "plt.bar([1, 0],df_review['stars'].value_counts())"
   ]
  },
  {
   "cell_type": "code",
   "execution_count": 15,
   "id": "e0906813",
   "metadata": {},
   "outputs": [
    {
     "data": {
      "text/html": [
       "<div>\n",
       "<style scoped>\n",
       "    .dataframe tbody tr th:only-of-type {\n",
       "        vertical-align: middle;\n",
       "    }\n",
       "\n",
       "    .dataframe tbody tr th {\n",
       "        vertical-align: top;\n",
       "    }\n",
       "\n",
       "    .dataframe thead th {\n",
       "        text-align: right;\n",
       "    }\n",
       "</style>\n",
       "<table border=\"1\" class=\"dataframe\">\n",
       "  <thead>\n",
       "    <tr style=\"text-align: right;\">\n",
       "      <th></th>\n",
       "      <th>text</th>\n",
       "      <th>rating</th>\n",
       "      <th>stars</th>\n",
       "      <th>lengths</th>\n",
       "    </tr>\n",
       "  </thead>\n",
       "  <tbody>\n",
       "    <tr>\n",
       "      <th>0</th>\n",
       "      <td>I was extremely impressed by Mohamed Ali Taala...</td>\n",
       "      <td>5</td>\n",
       "      <td>1</td>\n",
       "      <td>37</td>\n",
       "    </tr>\n",
       "    <tr>\n",
       "      <th>1</th>\n",
       "      <td>Very nice food, very nice service especially A...</td>\n",
       "      <td>5</td>\n",
       "      <td>1</td>\n",
       "      <td>19</td>\n",
       "    </tr>\n",
       "    <tr>\n",
       "      <th>2</th>\n",
       "      <td>Nisce service from ABHISHEK and delicious food...</td>\n",
       "      <td>5</td>\n",
       "      <td>1</td>\n",
       "      <td>30</td>\n",
       "    </tr>\n",
       "    <tr>\n",
       "      <th>3</th>\n",
       "      <td>Thank you so much for good delicious food and ...</td>\n",
       "      <td>5</td>\n",
       "      <td>1</td>\n",
       "      <td>20</td>\n",
       "    </tr>\n",
       "    <tr>\n",
       "      <th>4</th>\n",
       "      <td>Superb venue, very friendly, welcoming, and ef...</td>\n",
       "      <td>5</td>\n",
       "      <td>1</td>\n",
       "      <td>89</td>\n",
       "    </tr>\n",
       "    <tr>\n",
       "      <th>...</th>\n",
       "      <td>...</td>\n",
       "      <td>...</td>\n",
       "      <td>...</td>\n",
       "      <td>...</td>\n",
       "    </tr>\n",
       "    <tr>\n",
       "      <th>4967</th>\n",
       "      <td>We found a place close to Book of Mormon, it i...</td>\n",
       "      <td>2</td>\n",
       "      <td>0</td>\n",
       "      <td>115</td>\n",
       "    </tr>\n",
       "    <tr>\n",
       "      <th>4968</th>\n",
       "      <td>After doing lots of research and poring over N...</td>\n",
       "      <td>1</td>\n",
       "      <td>0</td>\n",
       "      <td>348</td>\n",
       "    </tr>\n",
       "    <tr>\n",
       "      <th>4969</th>\n",
       "      <td>we went there with a party of 5 european trave...</td>\n",
       "      <td>2</td>\n",
       "      <td>0</td>\n",
       "      <td>107</td>\n",
       "    </tr>\n",
       "    <tr>\n",
       "      <th>4970</th>\n",
       "      <td>Generally the atmosphere is very good. You can...</td>\n",
       "      <td>2</td>\n",
       "      <td>0</td>\n",
       "      <td>28</td>\n",
       "    </tr>\n",
       "    <tr>\n",
       "      <th>4971</th>\n",
       "      <td>Notably the worst experience in a fine dining ...</td>\n",
       "      <td>1</td>\n",
       "      <td>0</td>\n",
       "      <td>154</td>\n",
       "    </tr>\n",
       "  </tbody>\n",
       "</table>\n",
       "<p>4972 rows × 4 columns</p>\n",
       "</div>"
      ],
      "text/plain": [
       "                                                   text  rating  stars  \\\n",
       "0     I was extremely impressed by Mohamed Ali Taala...       5      1   \n",
       "1     Very nice food, very nice service especially A...       5      1   \n",
       "2     Nisce service from ABHISHEK and delicious food...       5      1   \n",
       "3     Thank you so much for good delicious food and ...       5      1   \n",
       "4     Superb venue, very friendly, welcoming, and ef...       5      1   \n",
       "...                                                 ...     ...    ...   \n",
       "4967  We found a place close to Book of Mormon, it i...       2      0   \n",
       "4968  After doing lots of research and poring over N...       1      0   \n",
       "4969  we went there with a party of 5 european trave...       2      0   \n",
       "4970  Generally the atmosphere is very good. You can...       2      0   \n",
       "4971  Notably the worst experience in a fine dining ...       1      0   \n",
       "\n",
       "      lengths  \n",
       "0          37  \n",
       "1          19  \n",
       "2          30  \n",
       "3          20  \n",
       "4          89  \n",
       "...       ...  \n",
       "4967      115  \n",
       "4968      348  \n",
       "4969      107  \n",
       "4970       28  \n",
       "4971      154  \n",
       "\n",
       "[4972 rows x 4 columns]"
      ]
     },
     "execution_count": 15,
     "metadata": {},
     "output_type": "execute_result"
    }
   ],
   "source": [
    "df_review"
   ]
  },
  {
   "cell_type": "code",
   "execution_count": 16,
   "id": "7300b045",
   "metadata": {},
   "outputs": [
    {
     "name": "stdout",
     "output_type": "stream",
     "text": [
      "avarege length is 91.14581657280772\n"
     ]
    },
    {
     "data": {
      "text/plain": [
       "<AxesSubplot:ylabel='Frequency'>"
      ]
     },
     "execution_count": 16,
     "metadata": {},
     "output_type": "execute_result"
    },
    {
     "data": {
      "image/png": "[encoded data removed]",
      "text/plain": [
       "<Figure size 432x288 with 1 Axes>"
      ]
     },
     "metadata": {
      "needs_background": "light"
     },
     "output_type": "display_data"
    }
   ],
   "source": [
    "#plotting the length of the reviews\n",
    "print('avarege length is', df_review['lengths'].mean())\n",
    "\n",
    "df_review['lengths'].plot.hist(range=(0,100))"
   ]
  },
  {
   "cell_type": "code",
   "execution_count": 17,
   "id": "f140de84",
   "metadata": {},
   "outputs": [
    {
     "name": "stdout",
     "output_type": "stream",
     "text": [
      "distrubution (precentage of positive data): 50.0 %\n"
     ]
    }
   ],
   "source": [
    "#printing the precentage of positive entries\n",
    "print('distrubution (precentage of positive data): {} %'.format((df_review['stars'].sum(axis=0)/df_review.shape[0])*100))"
   ]
  },
  {
   "cell_type": "code",
   "execution_count": 18,
   "id": "6b25dc93",
   "metadata": {},
   "outputs": [
    {
     "data": {
      "text/html": [
       "<div>\n",
       "<style scoped>\n",
       "    .dataframe tbody tr th:only-of-type {\n",
       "        vertical-align: middle;\n",
       "    }\n",
       "\n",
       "    .dataframe tbody tr th {\n",
       "        vertical-align: top;\n",
       "    }\n",
       "\n",
       "    .dataframe thead th {\n",
       "        text-align: right;\n",
       "    }\n",
       "</style>\n",
       "<table border=\"1\" class=\"dataframe\">\n",
       "  <thead>\n",
       "    <tr style=\"text-align: right;\">\n",
       "      <th></th>\n",
       "      <th>text</th>\n",
       "      <th>rating</th>\n",
       "    </tr>\n",
       "  </thead>\n",
       "  <tbody>\n",
       "    <tr>\n",
       "      <th>0</th>\n",
       "      <td>I was extremely impressed by Mohamed Ali Taala...</td>\n",
       "      <td>5</td>\n",
       "    </tr>\n",
       "    <tr>\n",
       "      <th>1</th>\n",
       "      <td>Very nice food, very nice service especially A...</td>\n",
       "      <td>5</td>\n",
       "    </tr>\n",
       "    <tr>\n",
       "      <th>2</th>\n",
       "      <td>Nisce service from ABHISHEK and delicious food...</td>\n",
       "      <td>5</td>\n",
       "    </tr>\n",
       "    <tr>\n",
       "      <th>3</th>\n",
       "      <td>Thank you so much for good delicious food and ...</td>\n",
       "      <td>5</td>\n",
       "    </tr>\n",
       "    <tr>\n",
       "      <th>4</th>\n",
       "      <td>Superb venue, very friendly, welcoming, and ef...</td>\n",
       "      <td>5</td>\n",
       "    </tr>\n",
       "  </tbody>\n",
       "</table>\n",
       "</div>"
      ],
      "text/plain": [
       "                                                text  rating\n",
       "0  I was extremely impressed by Mohamed Ali Taala...       5\n",
       "1  Very nice food, very nice service especially A...       5\n",
       "2  Nisce service from ABHISHEK and delicious food...       5\n",
       "3  Thank you so much for good delicious food and ...       5\n",
       "4  Superb venue, very friendly, welcoming, and ef...       5"
      ]
     },
     "execution_count": 18,
     "metadata": {},
     "output_type": "execute_result"
    }
   ],
   "source": [
    "df_review.drop(['lengths', 'stars'], axis=1, inplace=True)\n",
    "df_review.head(5)"
   ]
  },
  {
   "cell_type": "code",
   "execution_count": 19,
   "id": "3c3107ec",
   "metadata": {},
   "outputs": [
    {
     "data": {
      "text/plain": [
       "<AxesSubplot:ylabel='Frequency'>"
      ]
     },
     "execution_count": 19,
     "metadata": {},
     "output_type": "execute_result"
    },
    {
     "data": {
      "image/png": "[encoded data removed]",
      "text/plain": [
       "<Figure size 432x288 with 1 Axes>"
      ]
     },
     "metadata": {
      "needs_background": "light"
     },
     "output_type": "display_data"
    }
   ],
   "source": [
    "#plotting the rating distrubution\n",
    "figure = plt.figure()\n",
    "\n",
    "axes = figure.add_subplot(1, 1, 1)\n",
    "axes.set_ylabel('Frequancy')\n",
    "\n",
    "# df_review['stars'].plot.hist()\n",
    "df_review['rating'].plot.hist()"
   ]
  },
  {
   "cell_type": "code",
   "execution_count": 24,
   "id": "b51ec69a",
   "metadata": {},
   "outputs": [],
   "source": [
    "#saving the data to be used later on\n",
    "df_review.to_pickle('google_balanced.pkl')\n",
    "df_review.to_csv('google_balanced.csv')\n",
    "df_review.to_json('google_balanced.json',orient='records')"
   ]
  },
  {
   "cell_type": "code",
   "execution_count": 25,
   "id": "e6488511",
   "metadata": {},
   "outputs": [
    {
     "data": {
      "text/html": [
       "<div>\n",
       "<style scoped>\n",
       "    .dataframe tbody tr th:only-of-type {\n",
       "        vertical-align: middle;\n",
       "    }\n",
       "\n",
       "    .dataframe tbody tr th {\n",
       "        vertical-align: top;\n",
       "    }\n",
       "\n",
       "    .dataframe thead th {\n",
       "        text-align: right;\n",
       "    }\n",
       "</style>\n",
       "<table border=\"1\" class=\"dataframe\">\n",
       "  <thead>\n",
       "    <tr style=\"text-align: right;\">\n",
       "      <th></th>\n",
       "      <th>text</th>\n",
       "      <th>rating</th>\n",
       "    </tr>\n",
       "  </thead>\n",
       "  <tbody>\n",
       "    <tr>\n",
       "      <th>0</th>\n",
       "      <td>I was extremely impressed by Mohamed Ali Taala...</td>\n",
       "      <td>5</td>\n",
       "    </tr>\n",
       "    <tr>\n",
       "      <th>1</th>\n",
       "      <td>Very nice food, very nice service especially A...</td>\n",
       "      <td>5</td>\n",
       "    </tr>\n",
       "    <tr>\n",
       "      <th>2</th>\n",
       "      <td>Nisce service from ABHISHEK and delicious food...</td>\n",
       "      <td>5</td>\n",
       "    </tr>\n",
       "    <tr>\n",
       "      <th>3</th>\n",
       "      <td>Thank you so much for good delicious food and ...</td>\n",
       "      <td>5</td>\n",
       "    </tr>\n",
       "    <tr>\n",
       "      <th>4</th>\n",
       "      <td>Superb venue, very friendly, welcoming, and ef...</td>\n",
       "      <td>5</td>\n",
       "    </tr>\n",
       "    <tr>\n",
       "      <th>5</th>\n",
       "      <td>When we walked in this morning, my wife made a...</td>\n",
       "      <td>5</td>\n",
       "    </tr>\n",
       "    <tr>\n",
       "      <th>6</th>\n",
       "      <td>The visit to Al Orjouan started from the very ...</td>\n",
       "      <td>5</td>\n",
       "    </tr>\n",
       "    <tr>\n",
       "      <th>7</th>\n",
       "      <td>Every thing was amazing and the food was great...</td>\n",
       "      <td>5</td>\n",
       "    </tr>\n",
       "    <tr>\n",
       "      <th>8</th>\n",
       "      <td>The food was excellent and service also amazin...</td>\n",
       "      <td>5</td>\n",
       "    </tr>\n",
       "    <tr>\n",
       "      <th>9</th>\n",
       "      <td>Nice restaurant and excellent service, the foo...</td>\n",
       "      <td>5</td>\n",
       "    </tr>\n",
       "  </tbody>\n",
       "</table>\n",
       "</div>"
      ],
      "text/plain": [
       "                                                text  rating\n",
       "0  I was extremely impressed by Mohamed Ali Taala...       5\n",
       "1  Very nice food, very nice service especially A...       5\n",
       "2  Nisce service from ABHISHEK and delicious food...       5\n",
       "3  Thank you so much for good delicious food and ...       5\n",
       "4  Superb venue, very friendly, welcoming, and ef...       5\n",
       "5  When we walked in this morning, my wife made a...       5\n",
       "6  The visit to Al Orjouan started from the very ...       5\n",
       "7  Every thing was amazing and the food was great...       5\n",
       "8  The food was excellent and service also amazin...       5\n",
       "9  Nice restaurant and excellent service, the foo...       5"
      ]
     },
     "execution_count": 25,
     "metadata": {},
     "output_type": "execute_result"
    }
   ],
   "source": [
    "df1 = pd.read_pickle('google_balanced.pkl')\n",
    "df1.head(10)"
   ]
  },
  {
   "cell_type": "code",
   "execution_count": null,
   "id": "1978d79f",
   "metadata": {},
   "outputs": [],
   "source": []
  }
 ],
 "metadata": {
  "kernelspec": {
   "display_name": "Python 3",
   "language": "python",
   "name": "python3"
  },
  "language_info": {
   "codemirror_mode": {
    "name": "ipython",
    "version": 3
   },
   "file_extension": ".py",
   "mimetype": "text/x-python",
   "name": "python",
   "nbconvert_exporter": "python",
   "pygments_lexer": "ipython3",
   "version": "3.6.13"
  }
 },
 "nbformat": 4,
 "nbformat_minor": 5
}
