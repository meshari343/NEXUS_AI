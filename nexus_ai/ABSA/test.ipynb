{
 "cells": [
  {
   "cell_type": "code",
   "execution_count": 4,
   "metadata": {},
   "outputs": [],
   "source": [
    "import pandas as pd"
   ]
  },
  {
   "cell_type": "code",
   "execution_count": 5,
   "metadata": {},
   "outputs": [
    {
     "data": {
      "text/html": [
       "<div>\n",
       "<style scoped>\n",
       "    .dataframe tbody tr th:only-of-type {\n",
       "        vertical-align: middle;\n",
       "    }\n",
       "\n",
       "    .dataframe tbody tr th {\n",
       "        vertical-align: top;\n",
       "    }\n",
       "\n",
       "    .dataframe thead th {\n",
       "        text-align: right;\n",
       "    }\n",
       "</style>\n",
       "<table border=\"1\" class=\"dataframe\">\n",
       "  <thead>\n",
       "    <tr style=\"text-align: right;\">\n",
       "      <th></th>\n",
       "      <th>text</th>\n",
       "    </tr>\n",
       "  </thead>\n",
       "  <tbody>\n",
       "    <tr>\n",
       "      <th>0</th>\n",
       "      <td>If you decide to eat here, just be aware it is...</td>\n",
       "    </tr>\n",
       "    <tr>\n",
       "      <th>1</th>\n",
       "      <td>I've taken a lot of spin classes over the year...</td>\n",
       "    </tr>\n",
       "    <tr>\n",
       "      <th>2</th>\n",
       "      <td>Family diner. Had the buffet. Eclectic assortm...</td>\n",
       "    </tr>\n",
       "    <tr>\n",
       "      <th>3</th>\n",
       "      <td>Wow!  Yummy, different,  delicious.   Our favo...</td>\n",
       "    </tr>\n",
       "    <tr>\n",
       "      <th>4</th>\n",
       "      <td>Cute interior and owner (?) gave us tour of up...</td>\n",
       "    </tr>\n",
       "  </tbody>\n",
       "</table>\n",
       "</div>"
      ],
      "text/plain": [
       "                                                text\n",
       "0  If you decide to eat here, just be aware it is...\n",
       "1  I've taken a lot of spin classes over the year...\n",
       "2  Family diner. Had the buffet. Eclectic assortm...\n",
       "3  Wow!  Yummy, different,  delicious.   Our favo...\n",
       "4  Cute interior and owner (?) gave us tour of up..."
      ]
     },
     "execution_count": 5,
     "metadata": {},
     "output_type": "execute_result"
    }
   ],
   "source": [
    "df = pd.read_pickle('domain_adaptation_english/data/yelp_dataset_reviews.pkl')\n",
    "df.head()"
   ]
  },
  {
   "cell_type": "code",
   "execution_count": 6,
   "metadata": {},
   "outputs": [],
   "source": [
    "texts = df['text'].tolist()[:100]"
   ]
  },
  {
   "cell_type": "code",
   "execution_count": 7,
   "metadata": {},
   "outputs": [],
   "source": [
    "from transformers import AutoTokenizer\n",
    "\n",
    "tokenizer = AutoTokenizer.from_pretrained('bert-base-uncased')"
   ]
  },
  {
   "cell_type": "code",
   "execution_count": 8,
   "metadata": {},
   "outputs": [
    {
     "name": "stdout",
     "output_type": "stream",
     "text": [
      "If you decide to eat here, just be aware it is going to take about 2 hours from beginning to end. We have tried it multiple times, because I want to like it! I have been to it's other locations in NJ and never had a bad experience. \n",
      "\n",
      "The food is good, but it takes a very long time to come out. The waitstaff is very young, but usually pleasant. We have just had too many experiences where we spent way too long waiting. We usually opt for another diner or restaurant on the weekends, in order to be done quicker.\n",
      " if you decide to eat here , just be aware it is going to take about 2 hours from beginning to end . we have tried it multiple times , because i want to like it ! i have been to it ' s other locations in nj and never had a bad experience . the food is good , but it takes a very long time to come out . the waitstaff is very young , but usually pleasant . we have just had too many experiences where we spent way too long waiting . we usually opt for another diner or restaurant on the weekends , in order to be done quicker .\n",
      "testing diffrence when tokenezing agian\n",
      "116\n",
      "116\n"
     ]
    }
   ],
   "source": [
    "tokens = tokenizer.tokenize(texts[0])\n",
    "\n",
    "pretok_sent = \"\"\n",
    "for tok in tokens:\n",
    "     if tok.startswith(\"##\"):\n",
    "         pretok_sent += tok[2:]\n",
    "     else:\n",
    "         pretok_sent += \" \" + tok\n",
    "\n",
    "print(texts[0])\n",
    "print(pretok_sent)\n",
    "print('testing diffrence when tokenezing agian')\n",
    "print(len(tokens))\n",
    "print(len(tokenizer.tokenize(pretok_sent)))"
   ]
  },
  {
   "cell_type": "markdown",
   "metadata": {},
   "source": [
    "## complex"
   ]
  },
  {
   "cell_type": "code",
   "execution_count": 9,
   "metadata": {},
   "outputs": [],
   "source": [
    "import spacy\n",
    "nlp = spacy.load(\"en_core_web_sm\")"
   ]
  },
  {
   "cell_type": "code",
   "execution_count": 10,
   "metadata": {},
   "outputs": [],
   "source": [
    "from math import ceil\n",
    "from transformers import AutoTokenizer\n",
    "\n",
    "tokenizer = AutoTokenizer.from_pretrained('bert-base-uncased')\n"
   ]
  },
  {
   "cell_type": "code",
   "execution_count": 26,
   "metadata": {},
   "outputs": [],
   "source": [
    "def pretokenize(tokens):\n",
    "    '''\n",
    "    return tokenized text to a string\n",
    "    '''\n",
    "    pretok_sent = ''\n",
    "    for tok in tokens:\n",
    "        if tok.startswith('##'):\n",
    "            pretok_sent += tok[2:]\n",
    "        else:\n",
    "            pretok_sent += ' ' + tok\n",
    "    return pretok_sent\n",
    "\n",
    "\n",
    "def token_split(tokens, max_size):\n",
    "    '''\n",
    "    split tokens after toknezing them\n",
    "    '''\n",
    "    num_of_splits = ceil(len(tokens) / max_size)\n",
    "    split_tokens_text = [pretokenize(tokens[(max_size*i):(max_size*(i+1))]) for i in range(num_of_splits)]\n",
    "    return split_tokens_text\n",
    "\n",
    "def split_inputs(input_texts, max_size = 128):\n",
    "    '''\n",
    "    input_texts: a list of input texts.\n",
    "    max_size: the max size to truncate data to.\n",
    "    '''\n",
    "    nlp = spacy.load(\"en_core_web_sm\")\n",
    "    new_input_texts = []\n",
    "    orginal_indexs = []\n",
    "    \n",
    "    for i, doc in enumerate(nlp.pipe(input_texts, disable=[\"tagger\", \"attribute_ruler\", \"lemmatizer\"])):\n",
    "        sentences = [sent.text for sent in doc.sents]\n",
    "        new_sentences = []\n",
    "        for sent in sentences:\n",
    "            new_sentences.extend([split_sent for split_sent in token_split(tokenizer.tokenize(sent), max_size)] )\n",
    "        orginal_indexs.extend([i for sent in new_sentences])\n",
    "        new_input_texts.extend(new_sentences)\n",
    "\n",
    "    return new_input_texts, orginal_indexs\n",
    "\n",
    "def join_outputs(split_outputs, orginal_indexs):\n",
    "    '''\n",
    "    join splited outputs\n",
    "    '''\n",
    "    if not orginal_indexs:\n",
    "        raise Exception('split inputs indexes are empty')\n",
    "    if not split_outputs:\n",
    "        raise Exception('split outputs are empty')\n",
    "\n",
    "    joined_outputs = []\n",
    "    output = split_outputs[0]\n",
    "    len_idxs = len(orginal_indexs)\n",
    "    for i in range(len_idxs-1):\n",
    "        past_index = orginal_indexs[i]\n",
    "        current_index = orginal_indexs[i+1]\n",
    "        if i == (len_idxs-1):\n",
    "            joined_outputs.append(output)\n",
    "        if current_index ==  past_index:\n",
    "            output.extend(split_outputs[i+1])\n",
    "        else:\n",
    "            joined_outputs.append(output)\n",
    "            output = split_outputs[i+1]\n",
    "    joined_outputs.append(output)\n",
    "    return joined_outputs"
   ]
  },
  {
   "cell_type": "code",
   "execution_count": 27,
   "metadata": {},
   "outputs": [],
   "source": [
    "new_input_texts, orginal_index = split_inputs(texts)"
   ]
  },
  {
   "cell_type": "code",
   "execution_count": 28,
   "metadata": {},
   "outputs": [
    {
     "data": {
      "text/plain": [
       "[99, 99, 99, 99, 99, 99, 99, 99, 99, 99]"
      ]
     },
     "execution_count": 28,
     "metadata": {},
     "output_type": "execute_result"
    }
   ],
   "source": [
    "orginal_index[-10:]"
   ]
  },
  {
   "cell_type": "code",
   "execution_count": 29,
   "metadata": {},
   "outputs": [
    {
     "data": {
      "text/plain": [
       "[' if you decide to eat here , just be aware it is going to take about 2 hours from beginning to end .',\n",
       " ' we have tried it multiple times , because i want to like it !',\n",
       " \" i have been to it ' s other locations in nj and never had a bad experience .\",\n",
       " ' the food is good , but it takes a very long time to come out .',\n",
       " ' the waitstaff is very young , but usually pleasant .',\n",
       " ' we have just had too many experiences where we spent way too long waiting .',\n",
       " ' we usually opt for another diner or restaurant on the weekends , in order to be done quicker .',\n",
       " \" i ' ve taken a lot of spin classes over the years , and nothing compares to the classes at body cycle .\",\n",
       " ' from the nice , clean space and amazing bikes , to the welcoming and motivating instructors , every class is a top notch work out .',\n",
       " \" for anyone who struggles to fit workouts in , the online scheduling system makes it easy to plan ahead ( and there ' s no need to line up way in advanced like many gyms make you do ) .\"]"
      ]
     },
     "execution_count": 29,
     "metadata": {},
     "output_type": "execute_result"
    }
   ],
   "source": [
    "new_input_texts[:10]"
   ]
  },
  {
   "cell_type": "code",
   "execution_count": 30,
   "metadata": {},
   "outputs": [],
   "source": [
    "new_input_texts = [[x] for x in new_input_texts]"
   ]
  },
  {
   "cell_type": "code",
   "execution_count": 31,
   "metadata": {},
   "outputs": [],
   "source": [
    "joined = join_outputs(new_input_texts, orginal_index)"
   ]
  },
  {
   "cell_type": "code",
   "execution_count": 32,
   "metadata": {},
   "outputs": [
    {
     "data": {
      "text/plain": [
       "100"
      ]
     },
     "execution_count": 32,
     "metadata": {},
     "output_type": "execute_result"
    }
   ],
   "source": [
    "len(joined)"
   ]
  },
  {
   "cell_type": "code",
   "execution_count": 53,
   "metadata": {},
   "outputs": [
    {
     "data": {
      "text/plain": [
       "[1, 2, 3]"
      ]
     },
     "execution_count": 53,
     "metadata": {},
     "output_type": "execute_result"
    }
   ],
   "source": [
    "def t():\n",
    "    x = [1, 2, 3]\n",
    "    y = [3, 4, 5]\n",
    "    z = [6, 7, 8]\n",
    "    return x, y, z\n",
    "# r = [x, y, z]\n",
    "g = t()\n",
    "list(g)[0]"
   ]
  },
  {
   "cell_type": "code",
   "execution_count": null,
   "metadata": {},
   "outputs": [
    {
     "data": {
      "text/plain": [
       "[0, 0, 0, 0, 0, 0, 0, 1, 1, 1]"
      ]
     },
     "execution_count": 38,
     "metadata": {},
     "output_type": "execute_result"
    }
   ],
   "source": [
    "orginal_index[:10]"
   ]
  },
  {
   "cell_type": "code",
   "execution_count": null,
   "metadata": {},
   "outputs": [
    {
     "data": {
      "text/plain": [
       "[' if you decide to eat here , just be aware it is going to take about 2 hours from beginning to end .',\n",
       " ' we have tried it multiple times , because i want to like it !',\n",
       " \" i have been to it ' s other locations in nj and never had a bad experience .\",\n",
       " ' the food is good , but it takes a very long time to come out .',\n",
       " ' the waitstaff is very young , but usually pleasant .',\n",
       " ' we have just had too many experiences where we spent way too long waiting .',\n",
       " ' we usually opt for another diner or restaurant on the weekends , in order to be done quicker .']"
      ]
     },
     "execution_count": 40,
     "metadata": {},
     "output_type": "execute_result"
    }
   ],
   "source": [
    "new_input_texts[:7]"
   ]
  },
  {
   "cell_type": "markdown",
   "metadata": {},
   "source": [
    "## simple"
   ]
  },
  {
   "cell_type": "code",
   "execution_count": null,
   "metadata": {},
   "outputs": [],
   "source": [
    "def sent_split(tokens, max_size):\n",
    "    num_of_splits = ceil(len(tokens) / max_size)\n",
    "    split_tokens_text = [tokens[(max_size*i):(max_size*(i+1))] for i in range(num_of_splits)]\n",
    "    return split_tokens_text\n",
    "\n",
    "def normlize_bert_size(input_texts, max_size = 512):\n",
    "    '''\n",
    "    input_texts: a list of input texts.\n",
    "    max_size: the max size to truncate data to.\n",
    "    '''\n",
    "    nlp = spacy.load(\"en_core_web_sm\")\n",
    "    new_input_texts = []\n",
    "    orginal_index = []\n",
    "    \n",
    "    for i, doc in enumerate(nlp.pipe(input_texts, disable=[\"tagger\", \"attribute_ruler\", \"lemmatizer\"])):\n",
    "        sentences = [sent.text for sent in doc.sents]\n",
    "        new_sentences = []\n",
    "        for sent in sentences:\n",
    "            new_sentences.extend([split_sent for split_sent in sent_split(tokenizer.tokenize(sent), max_size)] )\n",
    "        orginal_index.extend([i for sent in new_sentences])\n",
    "        new_input_texts.extend(new_sentences)\n",
    "\n",
    "    return new_input_texts, orginal_index"
   ]
  },
  {
   "cell_type": "code",
   "execution_count": null,
   "metadata": {},
   "outputs": [],
   "source": [
    "new_input_texts, orginal_index = normlize_bert_size(texts, max_size=400)"
   ]
  },
  {
   "cell_type": "markdown",
   "metadata": {},
   "source": [
    "the simple method is around 10% faster than the complex method"
   ]
  },
  {
   "cell_type": "code",
   "execution_count": 43,
   "metadata": {},
   "outputs": [],
   "source": [
    "# count = 0\n",
    "# for i, text in enumerate(texts):\n",
    "#     sentences = text.split('\\n')\n",
    "#     if len(sentences) > 1:\n",
    "#         print(len(sentences))\n",
    "#         print(sentences)\n",
    "#         print(text)\n",
    "#         count += 1\n",
    "#         if count == 10:\n",
    "#             break"
   ]
  },
  {
   "cell_type": "code",
   "execution_count": 49,
   "metadata": {},
   "outputs": [
    {
     "name": "stdout",
     "output_type": "stream",
     "text": [
      "['If you decide to eat here, just be aware it is going to take about 2 hours from beginning to end.', 'We have tried it multiple times, because I want to like it!', \"I have been to it's other locations in NJ and never had a bad experience.\", '\\n\\nThe food is good, but it takes a very long time to come out.', 'The waitstaff is very young, but usually pleasant.', 'We have just had too many experiences where we spent way too long waiting.', 'We usually opt for another diner or restaurant on the weekends, in order to be done quicker.']\n",
      "If you decide to eat here, just be aware it is going to take about 2 hours from beginning to end. We have tried it multiple times, because I want to like it! I have been to it's other locations in NJ and never had a bad experience. \n",
      "\n",
      "The food is good, but it takes a very long time to come out. The waitstaff is very young, but usually pleasant. We have just had too many experiences where we spent way too long waiting. We usually opt for another diner or restaurant on the weekends, in order to be done quicker.\n",
      "[\"I've taken a lot of spin classes over the years, and nothing compares to the classes at Body Cycle.\", 'From the nice, clean space and amazing bikes, to the welcoming and motivating instructors, every class is a top notch work out.', \"\\n\\nFor anyone who struggles to fit workouts in, the online scheduling system makes it easy to plan ahead (and there's no need to line up way in advanced like many gyms make you do).\", '\\n\\nThere is no way I can write this review without giving Russell, the owner of Body Cycle, a shout out.', \"Russell's passion for fitness and cycling is so evident, as is his desire for all of his clients to succeed.\", 'He is always dropping in to classes to check in/provide encouragement, and is open to ideas and recommendations from anyone.', \"Russell always wears a smile on his face, even when he's kicking your butt in class!\"]\n",
      "I've taken a lot of spin classes over the years, and nothing compares to the classes at Body Cycle. From the nice, clean space and amazing bikes, to the welcoming and motivating instructors, every class is a top notch work out.\n",
      "\n",
      "For anyone who struggles to fit workouts in, the online scheduling system makes it easy to plan ahead (and there's no need to line up way in advanced like many gyms make you do).\n",
      "\n",
      "There is no way I can write this review without giving Russell, the owner of Body Cycle, a shout out. Russell's passion for fitness and cycling is so evident, as is his desire for all of his clients to succeed. He is always dropping in to classes to check in/provide encouragement, and is open to ideas and recommendations from anyone. Russell always wears a smile on his face, even when he's kicking your butt in class!\n",
      "['Family diner.', 'Had the buffet.', 'Eclectic assortment: a large chicken leg, fried jalapeño, tamale, two rolled grape leaves, fresh melon.', 'All good.', 'Lots of Mexican choices there.', 'Also has a menu with breakfast served all day long.', 'Friendly, attentive staff.', 'Good place for a casual relaxed meal with no expectations.', 'Next to the Clarion Hotel.']\n",
      "Family diner. Had the buffet. Eclectic assortment: a large chicken leg, fried jalapeño, tamale, two rolled grape leaves, fresh melon. All good. Lots of Mexican choices there. Also has a menu with breakfast served all day long. Friendly, attentive staff. Good place for a casual relaxed meal with no expectations. Next to the Clarion Hotel.\n",
      "['Wow!', ' Yummy, different,  delicious.', '  Our favorite is the lamb curry and korma.', ' With 10 different kinds of naan!!!', \" Don't let the outside deter you (because we almost changed our minds)...go in and try something new!\", \"  You'll be glad you did!\"]\n",
      "Wow!  Yummy, different,  delicious.   Our favorite is the lamb curry and korma.  With 10 different kinds of naan!!!  Don't let the outside deter you (because we almost changed our minds)...go in and try something new!   You'll be glad you did!\n",
      "['Cute interior and owner (?) gave us tour of upcoming patio/rooftop area which will be great on beautiful days like today.', 'Cheese curds were very good and very filling.', 'Really like that sandwiches come w salad, esp after eating too many curds!', 'Had the onion, gruyere, tomato sandwich.', \"Wasn't too much cheese which I liked.\", 'Needed something else...pepper jelly maybe.', 'Would like to see more menu options added such as salads w fun cheeses.', 'Lots of beer and wine as well as limited cocktails.', 'Next time I will try one of the draft wines.']\n",
      "Cute interior and owner (?) gave us tour of upcoming patio/rooftop area which will be great on beautiful days like today. Cheese curds were very good and very filling. Really like that sandwiches come w salad, esp after eating too many curds! Had the onion, gruyere, tomato sandwich. Wasn't too much cheese which I liked. Needed something else...pepper jelly maybe. Would like to see more menu options added such as salads w fun cheeses. Lots of beer and wine as well as limited cocktails. Next time I will try one of the draft wines.\n",
      "['I am a long term frequent customer of this establishment.', \"I just went in to order take out (3 apps) and was told they're too busy to do it.\", 'Really?', 'The place is maybe half full at best.', 'Does your dick reach your ass?', 'Yes?', 'Go fuck yourself!', \"I'm a frequent customer AND great tipper.\", 'Glad that Kanella just opened.', 'NEVER going back to dmitris!']\n",
      "I am a long term frequent customer of this establishment. I just went in to order take out (3 apps) and was told they're too busy to do it. Really? The place is maybe half full at best. Does your dick reach your ass? Yes? Go fuck yourself! I'm a frequent customer AND great tipper. Glad that Kanella just opened. NEVER going back to dmitris!\n",
      "['Loved this tour!', 'I grabbed a groupon and the price was great.', \"It was the perfect way to explore New Orleans for someone who'd never been there before and didn't know a lot about the history of the city.\", 'Our tour guide had tons of interesting tidbits about the city, and I really enjoyed the experience.', 'Highly recommended tour.', 'I actually thought we were just going to tour through the cemetery, but she took us around the French Quarter for the first hour, and the cemetery for the second half of the tour.', \"You'll meet up in front of a grocery store (seems strange at first, but it's not terribly hard to find, and it'll give you a chance to get some water), and you'll stop at a visitor center part way through the tour for a bathroom break if needed.\", 'This tour was one of my favorite parts of my trip!']\n",
      "Loved this tour! I grabbed a groupon and the price was great. It was the perfect way to explore New Orleans for someone who'd never been there before and didn't know a lot about the history of the city. Our tour guide had tons of interesting tidbits about the city, and I really enjoyed the experience. Highly recommended tour. I actually thought we were just going to tour through the cemetery, but she took us around the French Quarter for the first hour, and the cemetery for the second half of the tour. You'll meet up in front of a grocery store (seems strange at first, but it's not terribly hard to find, and it'll give you a chance to get some water), and you'll stop at a visitor center part way through the tour for a bathroom break if needed. This tour was one of my favorite parts of my trip!\n",
      "['Amazingly amazing wings and homemade bleu cheese.', 'Had the ribeye: tender, perfectly prepared, delicious.', 'Nice selection of craft beers.', 'Would DEFINITELY recommend checking out this hidden gem.']\n",
      "Amazingly amazing wings and homemade bleu cheese. Had the ribeye: tender, perfectly prepared, delicious. Nice selection of craft beers. Would DEFINITELY recommend checking out this hidden gem.\n",
      "['This easter instead of going to Lopez Lake we went to Los Padres National Forest which is really pretty but if you go to white rock the staff needs to cut down all the dead grass that invades the rock and the water.', \"I would wish the staff would also clean or get rid of the dead grass that's also living by the water.\", 'The water is really green and dirty.', 'Los padres national forest staff need to work hard to maintain this forest looking pretty and not like a dumpster.', 'Even Cachuma lake looks like they put a bit more effort.']\n",
      "This easter instead of going to Lopez Lake we went to Los Padres National Forest which is really pretty but if you go to white rock the staff needs to cut down all the dead grass that invades the rock and the water. I would wish the staff would also clean or get rid of the dead grass that's also living by the water. The water is really green and dirty. Los padres national forest staff need to work hard to maintain this forest looking pretty and not like a dumpster. Even Cachuma lake looks like they put a bit more effort.\n",
      "['Had a party of 6 here for hibachi.', \"Our waitress brought our separate sushi orders on one plate so we couldn't really tell who's was who's and forgot several items on an order.\", 'I understand making mistakes but the restaraunt was really quiet', 'so we were kind of surprised.', 'Usually hibachi is a fun lively experience and our  cook  said maybe three words, but he cooked very well his name was Francisco.', 'Service was fishy, food was pretty good, and im hoping it was just an off night here.', \"But for the money I wouldn't go back.\"]\n",
      "Had a party of 6 here for hibachi. Our waitress brought our separate sushi orders on one plate so we couldn't really tell who's was who's and forgot several items on an order. I understand making mistakes but the restaraunt was really quiet so we were kind of surprised. Usually hibachi is a fun lively experience and our  cook  said maybe three words, but he cooked very well his name was Francisco. Service was fishy, food was pretty good, and im hoping it was just an off night here. But for the money I wouldn't go back.\n"
     ]
    }
   ],
   "source": [
    "count = 0\n",
    "for i, doc in enumerate(nlp.pipe(texts, disable=[\"tagger\", \"attribute_ruler\", \"lemmatizer\"])):\n",
    "    sentences = [sent.text for sent in doc.sents]\n",
    "    # print([sent for sent in doc.sents])\n",
    "    if len(sentences) > 1:\n",
    "        print(sentences)\n",
    "        print(doc.text)\n",
    "        count += 1\n",
    "        if count == 10:\n",
    "            break"
   ]
  },
  {
   "cell_type": "code",
   "execution_count": 48,
   "metadata": {},
   "outputs": [],
   "source": [
    "# count = 0\n",
    "# for i, doc in enumerate(nlp.pipe(texts, disable=[\"tok2vec\", \"tagger\", \"attribute_ruler\", \"lemmatizer\"])):\n",
    "#     sentences = doc.sents\n",
    "#     print([sent for sent in doc.sents])\n",
    "#     if len([sent for sent in doc.sents]) > 1:\n",
    "#         print([sent for sent in doc.sents])\n",
    "#         print(doc.text)\n",
    "#         count += 1\n",
    "#         if count == 10:\n",
    "#             break"
   ]
  },
  {
   "cell_type": "code",
   "execution_count": null,
   "metadata": {},
   "outputs": [],
   "source": []
  }
 ],
 "metadata": {
  "kernelspec": {
   "display_name": "Python 3.9.12 ('venv': venv)",
   "language": "python",
   "name": "python3"
  },
  "language_info": {
   "codemirror_mode": {
    "name": "ipython",
    "version": 3
   },
   "file_extension": ".py",
   "mimetype": "text/x-python",
   "name": "python",
   "nbconvert_exporter": "python",
   "pygments_lexer": "ipython3",
   "version": "3.9.12"
  },
  "orig_nbformat": 4,
  "vscode": {
   "interpreter": {
    "hash": "f1d4d6eb2abe3fb4049954bd206a32ef86aac931501ef1b113439c6e56c2b586"
   }
  }
 },
 "nbformat": 4,
 "nbformat_minor": 2
}
