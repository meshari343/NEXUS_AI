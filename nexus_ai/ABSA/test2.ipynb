{
 "cells": [
  {
   "cell_type": "code",
   "execution_count": 1,
   "metadata": {},
   "outputs": [
    {
     "data": {
      "text/plain": [
       "<Worksheet \"Metadata\">"
      ]
     },
     "execution_count": 1,
     "metadata": {},
     "output_type": "execute_result"
    }
   ],
   "source": [
    "import openpyxl\n",
    "wb = openpyxl.load_workbook(\"NIC (version 5).xlsx\")\n",
    "wb['Metadata']"
   ]
  },
  {
   "cell_type": "code",
   "execution_count": 4,
   "metadata": {},
   "outputs": [],
   "source": [
    "# for x in wb['Metadata'].iter_cols():\n",
    "#     print(x)"
   ]
  },
  {
   "cell_type": "code",
   "execution_count": 6,
   "metadata": {},
   "outputs": [
    {
     "data": {
      "text/plain": [
       "[1, 2, 3, 4, 5, 6, 7, 8, 9, 10, 11, 12, 13, 14, 15, 16, 17]"
      ]
     },
     "execution_count": 6,
     "metadata": {},
     "output_type": "execute_result"
    }
   ],
   "source": [
    "[i for i in range(1, 18)]"
   ]
  },
  {
   "cell_type": "code",
   "execution_count": 10,
   "metadata": {},
   "outputs": [],
   "source": [
    "import pandas as pd\n",
    "# wb = openpyxl.load_workbook(\"test.xlsx\")\n",
    "# sheet_names = wb.sheetnames\n",
    "'''\n",
    "important change column index which contain the text for each sheet (index start in 0)\n",
    "'''\n",
    "# assuming we have two sheets\n",
    "col_indexs = [[i for i in range(1, 18)]]\n",
    "# loop over each sheet\n",
    "# for i, sheet in enumerate(sheet_names):\n",
    "ws = wb['Metadata']\n",
    "for index, row in enumerate(ws.rows):\n",
    "    # skip header (first column)\n",
    "    if index == 0:\n",
    "        continue\n",
    "    for column in col_indexs[0]:\n",
    "        if pd.isnull(row[column].value):\n",
    "            continue\n",
    "        # remove extra white spaces\n",
    "        x1 = ' '.join(str(row[column].value).split())\n",
    "        # change value in the cell\n",
    "        ws.cell(row=index+1, column=column+1).value = x1\n",
    "wb.save(filename = 'NIC (version 5)_cleaned.xlsx')"
   ]
  },
  {
   "cell_type": "code",
   "execution_count": null,
   "metadata": {},
   "outputs": [],
   "source": [
    "    # for x in wb[sheet].iter_rows():\n",
    "    #     x[0] = ' '.join(x[0].value.split())\n",
    "        # print(x[0].value)\n",
    "    # df = pd.read_excel('file_path', sheet_name=sheet)\n",
    "    # remove extra white spaces\n",
    "    # df['text'] = df['text'].str.split().str().join(' ')\n",
    "    # df.to_excel(f'data_cleaned.xlsx', sheet_name=sheet)"
   ]
  }
 ],
 "metadata": {
  "kernelspec": {
   "display_name": "Python 3.10.4 ('Graduation-Project')",
   "language": "python",
   "name": "python3"
  },
  "language_info": {
   "codemirror_mode": {
    "name": "ipython",
    "version": 3
   },
   "file_extension": ".py",
   "mimetype": "text/x-python",
   "name": "python",
   "nbconvert_exporter": "python",
   "pygments_lexer": "ipython3",
   "version": "3.10.4"
  },
  "orig_nbformat": 4,
  "vscode": {
   "interpreter": {
    "hash": "0ca738696e74c3b582319100ac25d026cf0c528d8decfe2c9d2d27159d6836ba"
   }
  }
 },
 "nbformat": 4,
 "nbformat_minor": 2
}
