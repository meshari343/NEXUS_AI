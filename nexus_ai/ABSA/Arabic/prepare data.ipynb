{
 "cells": [
  {
   "cell_type": "code",
   "execution_count": 199,
   "id": "48a59b13",
   "metadata": {},
   "outputs": [],
   "source": [
    "import pandas as pd\n",
    "from bs4 import BeautifulSoup\n",
    "import xml.etree.ElementTree as ET"
   ]
  },
  {
   "cell_type": "code",
   "execution_count": 205,
   "id": "c9c4db5f",
   "metadata": {},
   "outputs": [
    {
     "data": {
      "text/plain": [
       "<Element 'sentences' at 0x00000213515082C0>"
      ]
     },
     "execution_count": 205,
     "metadata": {},
     "output_type": "execute_result"
    }
   ],
   "source": [
    "tree = ET.parse('Restaurants_Test_Gold.xml')\n",
    "tree.getroot()"
   ]
  },
  {
   "cell_type": "code",
   "execution_count": 1,
   "id": "f105cb02",
   "metadata": {},
   "outputs": [],
   "source": [
    "# using python xml ElementTree \n",
    "# tree = ET.parse('data\\Arabic_Hotels_TrD_V2.xml')\n",
    "# root = tree.getroot()\n",
    "# newFile = ET.ElementTree()\n",
    "# newFile._setroot(ET.Element('sentences'))\n",
    "\n",
    "# newFile.getroot().set('version', '1.0')\n",
    "# newFile.getroot().set('encoding', 'UTF-8')\n",
    "# newFile.getroot().set('standalone', 'yes')\n",
    "\n",
    "# newroot = newFile.getroot()\n",
    "\n",
    "# for sentence in root.findall('./Review/sentences/sentence/Opinions'):\n",
    "#     print(sentence.attrib)\n",
    "# for sentence in root.findall('./Review/sentences/sentence/Opinions/Opinions/aspectTerm'):\n",
    "# #     print(rank)\n",
    "#     print(sentence.attrib)\n",
    "#     newroot.append(sentence)\n",
    "\n",
    "\n",
    "    \n",
    "    \n",
    "# newFile.write('output.xml', encoding=\"utf-8\")"
   ]
  },
  {
   "cell_type": "code",
   "execution_count": 227,
   "id": "1fd4674f",
   "metadata": {},
   "outputs": [],
   "source": [
    "with open('output.xml', encoding='utf-8') as file:\n",
    "    sentence_elements = ET.parse(file).getroot().iter('sentence')\n",
    "# for x in ET.parse('output.xml').getroot().iter('sentence'):\n",
    "#     print(x)\n",
    "#     print(x.find('text').text)"
   ]
  },
  {
   "cell_type": "code",
   "execution_count": 144,
   "id": "8387d3f1",
   "metadata": {},
   "outputs": [],
   "source": [
    "def modify_xml(filepath, outputpath):\n",
    "    # Reading the data inside the xml\n",
    "    with open(filepath, 'r', encoding=\"utf8\") as f:\n",
    "        data = f.read()\n",
    "\n",
    "    # Passing the stored data inside\n",
    "    # the beautifulsoup parser\n",
    "    Bs_dataset = BeautifulSoup(data, \"xml\")\n",
    "\n",
    "    for tag in Bs_dataset.find_all('Opinion'):\n",
    "        tag.name = 'aspectTerm'\n",
    "        tag['term'] = tag['target']\n",
    "        del tag['target']\n",
    "        del tag['category']\n",
    "\n",
    "\n",
    "    for elem in Bs_dataset.find_all('Reviews'):\n",
    "        for para in elem.find_all('Review'):\n",
    "            para.unwrap() \n",
    "    for elem in Bs_dataset.find_all('Reviews'):\n",
    "        for para in elem.find_all('sentences'):\n",
    "            para.unwrap() \n",
    "    reviews_tag = Bs_dataset.find('Reviews') \n",
    "    reviews_tag.name = 'sentences'\n",
    "    with open(outputpath, 'w', encoding='utf-8') as f:\n",
    "        f.write(Bs_dataset.prettify())"
   ]
  },
  {
   "cell_type": "code",
   "execution_count": 237,
   "id": "e24fe6dc",
   "metadata": {},
   "outputs": [],
   "source": [
    "def modify_xml(filepath, outputpath):\n",
    "    # Reading the data inside the xml\n",
    "    with open(filepath, 'r', encoding=\"utf8\") as f:\n",
    "        data = f.read()\n",
    "\n",
    "    # Passing the stored data inside\n",
    "    # the beautifulsoup parser\n",
    "    Bs_dataset = BeautifulSoup(data, \"xml\")\n",
    "\n",
    "    for tag in Bs_dataset.find_all('Opinion'):\n",
    "        tag.name = 'aspectTerm'\n",
    "        tag['term'] = tag['target']\n",
    "        del tag['target']\n",
    "        del tag['category']\n",
    "\n",
    "\n",
    "    for elem in Bs_dataset.find_all('Reviews'):\n",
    "        for para in elem.find_all('Review'):\n",
    "            para.unwrap() \n",
    "    for elem in Bs_dataset.find_all('Reviews'):\n",
    "        for para in elem.find_all('sentences'):\n",
    "            para.unwrap() \n",
    "    reviews_tag = Bs_dataset.find('Reviews') \n",
    "    reviews_tag.name = 'sentences'\n",
    "    with open(outputpath, 'w', encoding='utf-8') as f:\n",
    "        f.write(Bs_dataset.prettify())"
   ]
  },
  {
   "cell_type": "code",
   "execution_count": 245,
   "id": "503d0a50",
   "metadata": {},
   "outputs": [],
   "source": [
    "modify_xml('data/Arabic_Hotels_TrD_V2.xml', 'dataset/arabic_train.xml')\n",
    "modify_xml('data/AR_HOTE_SB1_TEST.xml.gold', 'dataset/arabic_test.xml')"
   ]
  },
  {
   "cell_type": "code",
   "execution_count": null,
   "id": "403d9c4b",
   "metadata": {},
   "outputs": [],
   "source": []
  }
 ],
 "metadata": {
  "interpreter": {
   "hash": "0ca738696e74c3b582319100ac25d026cf0c528d8decfe2c9d2d27159d6836ba"
  },
  "kernelspec": {
   "display_name": "Python 3.10.4 ('Graduation-Project')",
   "language": "python",
   "name": "python3"
  },
  "language_info": {
   "codemirror_mode": {
    "name": "ipython",
    "version": 3
   },
   "file_extension": ".py",
   "mimetype": "text/x-python",
   "name": "python",
   "nbconvert_exporter": "python",
   "pygments_lexer": "ipython3",
   "version": "3.10.4"
  }
 },
 "nbformat": 4,
 "nbformat_minor": 5
}
